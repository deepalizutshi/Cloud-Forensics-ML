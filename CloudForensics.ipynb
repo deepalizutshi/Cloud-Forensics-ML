{
 "cells": [
  {
   "cell_type": "code",
   "execution_count": 1,
   "metadata": {
    "executionInfo": {
     "elapsed": 4579,
     "status": "ok",
     "timestamp": 1651685754059,
     "user": {
      "displayName": "Poojitha Katta",
      "userId": "04087814288591914137"
     },
     "user_tz": 300
    },
    "id": "9s4bm4i57Fsa"
   },
   "outputs": [],
   "source": [
    "import pandas as pd\n",
    "import numpy as np\n",
    "import io\n",
    "import seaborn as sns\n",
    "import matplotlib.pyplot as plt\n",
    "%matplotlib inline \n",
    "\n",
    "import plotly.express as px\n",
    "import plotly.graph_objects as go\n",
    "from sklearn.preprocessing import StandardScaler\n",
    "from sklearn.preprocessing import LabelEncoder\n",
    "from sklearn.model_selection import train_test_split\n",
    "from sklearn.model_selection import GridSearchCV\n",
    "from sklearn.svm import SVC\n",
    "from sklearn.naive_bayes import GaussianNB\n",
    "from sklearn.naive_bayes import MultinomialNB\n",
    "from sklearn.naive_bayes import BernoulliNB\n",
    "from sklearn.cluster import KMeans\n",
    "from sklearn.metrics import confusion_matrix, classification_report, plot_confusion_matrix\n",
    "from sklearn.metrics import accuracy_score, precision_score, recall_score, f1_score, make_scorer,mean_squared_error\n",
    "from sklearn.metrics import roc_curve, mean_squared_error, homogeneity_score\n",
    "from sklearn.metrics import cohen_kappa_score"
   ]
  },
  {
   "cell_type": "code",
   "execution_count": 3,
   "metadata": {
    "colab": {
     "base_uri": "https://localhost:8080/",
     "height": 385,
     "resources": {
      "http://localhost:8080/nbextensions/google.colab/files.js": {
       "data": "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",
       "headers": [
        [
         "content-type",
         "application/javascript"
        ]
       ],
       "ok": true,
       "status": 200,
       "status_text": ""
      }
     }
    },
    "executionInfo": {
     "elapsed": 15096,
     "status": "error",
     "timestamp": 1651687376548,
     "user": {
      "displayName": "Poojitha Katta",
      "userId": "04087814288591914137"
     },
     "user_tz": 300
    },
    "id": "YrHGbBpRABGl",
    "outputId": "6f7755bf-c59f-4b09-f3ae-8240dc295790"
   },
   "outputs": [
    {
     "data": {
      "text/html": [
       "\n",
       "     <input type=\"file\" id=\"files-eac84884-339a-4a4c-8760-239631ec7449\" name=\"files[]\" multiple disabled\n",
       "        style=\"border:none\" />\n",
       "     <output id=\"result-eac84884-339a-4a4c-8760-239631ec7449\">\n",
       "      Upload widget is only available when the cell has been executed in the\n",
       "      current browser session. Please rerun this cell to enable.\n",
       "      </output>\n",
       "      <script src=\"/nbextensions/google.colab/files.js\"></script> "
      ],
      "text/plain": [
       "<IPython.core.display.HTML object>"
      ]
     },
     "metadata": {},
     "output_type": "display_data"
    },
    {
     "ename": "KeyboardInterrupt",
     "evalue": "ignored",
     "output_type": "error",
     "traceback": [
      "\u001b[0;31m---------------------------------------------------------------------------\u001b[0m",
      "\u001b[0;31mKeyboardInterrupt\u001b[0m                         Traceback (most recent call last)",
      "\u001b[0;32m<ipython-input-3-cb03b8784702>\u001b[0m in \u001b[0;36m<module>\u001b[0;34m()\u001b[0m\n\u001b[1;32m      1\u001b[0m \u001b[0;32mfrom\u001b[0m \u001b[0mgoogle\u001b[0m\u001b[0;34m.\u001b[0m\u001b[0mcolab\u001b[0m \u001b[0;32mimport\u001b[0m \u001b[0mfiles\u001b[0m\u001b[0;34m\u001b[0m\u001b[0;34m\u001b[0m\u001b[0m\n\u001b[0;32m----> 2\u001b[0;31m \u001b[0muploaded\u001b[0m \u001b[0;34m=\u001b[0m \u001b[0mfiles\u001b[0m\u001b[0;34m.\u001b[0m\u001b[0mupload\u001b[0m\u001b[0;34m(\u001b[0m\u001b[0;34m)\u001b[0m\u001b[0;34m\u001b[0m\u001b[0;34m\u001b[0m\u001b[0m\n\u001b[0m\u001b[1;32m      3\u001b[0m \u001b[0mforensics\u001b[0m \u001b[0;34m=\u001b[0m \u001b[0mpd\u001b[0m\u001b[0;34m.\u001b[0m\u001b[0mread_csv\u001b[0m\u001b[0;34m(\u001b[0m\u001b[0mio\u001b[0m\u001b[0;34m.\u001b[0m\u001b[0mBytesIO\u001b[0m\u001b[0;34m(\u001b[0m\u001b[0muploaded\u001b[0m\u001b[0;34m[\u001b[0m\u001b[0;34m'VMResourceUtilizationSlope.csv'\u001b[0m\u001b[0;34m]\u001b[0m\u001b[0;34m)\u001b[0m\u001b[0;34m)\u001b[0m\u001b[0;34m\u001b[0m\u001b[0;34m\u001b[0m\u001b[0m\n\u001b[1;32m      4\u001b[0m \u001b[0;34m\u001b[0m\u001b[0m\n",
      "\u001b[0;32m/usr/local/lib/python3.7/dist-packages/google/colab/files.py\u001b[0m in \u001b[0;36mupload\u001b[0;34m()\u001b[0m\n\u001b[1;32m     44\u001b[0m   \"\"\"\n\u001b[1;32m     45\u001b[0m \u001b[0;34m\u001b[0m\u001b[0m\n\u001b[0;32m---> 46\u001b[0;31m   \u001b[0muploaded_files\u001b[0m \u001b[0;34m=\u001b[0m \u001b[0m_upload_files\u001b[0m\u001b[0;34m(\u001b[0m\u001b[0mmultiple\u001b[0m\u001b[0;34m=\u001b[0m\u001b[0;32mTrue\u001b[0m\u001b[0;34m)\u001b[0m\u001b[0;34m\u001b[0m\u001b[0;34m\u001b[0m\u001b[0m\n\u001b[0m\u001b[1;32m     47\u001b[0m   \u001b[0;31m# Mapping from original filename to filename as saved locally.\u001b[0m\u001b[0;34m\u001b[0m\u001b[0;34m\u001b[0m\u001b[0;34m\u001b[0m\u001b[0m\n\u001b[1;32m     48\u001b[0m   \u001b[0mlocal_filenames\u001b[0m \u001b[0;34m=\u001b[0m \u001b[0mdict\u001b[0m\u001b[0;34m(\u001b[0m\u001b[0;34m)\u001b[0m\u001b[0;34m\u001b[0m\u001b[0;34m\u001b[0m\u001b[0m\n",
      "\u001b[0;32m/usr/local/lib/python3.7/dist-packages/google/colab/files.py\u001b[0m in \u001b[0;36m_upload_files\u001b[0;34m(multiple)\u001b[0m\n\u001b[1;32m    121\u001b[0m   result = _output.eval_js(\n\u001b[1;32m    122\u001b[0m       'google.colab._files._uploadFiles(\"{input_id}\", \"{output_id}\")'.format(\n\u001b[0;32m--> 123\u001b[0;31m           input_id=input_id, output_id=output_id))\n\u001b[0m\u001b[1;32m    124\u001b[0m   \u001b[0mfiles\u001b[0m \u001b[0;34m=\u001b[0m \u001b[0m_collections\u001b[0m\u001b[0;34m.\u001b[0m\u001b[0mdefaultdict\u001b[0m\u001b[0;34m(\u001b[0m\u001b[0m_six\u001b[0m\u001b[0;34m.\u001b[0m\u001b[0mbinary_type\u001b[0m\u001b[0;34m)\u001b[0m\u001b[0;34m\u001b[0m\u001b[0;34m\u001b[0m\u001b[0m\n\u001b[1;32m    125\u001b[0m \u001b[0;34m\u001b[0m\u001b[0m\n",
      "\u001b[0;32m/usr/local/lib/python3.7/dist-packages/google/colab/output/_js.py\u001b[0m in \u001b[0;36meval_js\u001b[0;34m(script, ignore_result, timeout_sec)\u001b[0m\n\u001b[1;32m     38\u001b[0m   \u001b[0;32mif\u001b[0m \u001b[0mignore_result\u001b[0m\u001b[0;34m:\u001b[0m\u001b[0;34m\u001b[0m\u001b[0;34m\u001b[0m\u001b[0m\n\u001b[1;32m     39\u001b[0m     \u001b[0;32mreturn\u001b[0m\u001b[0;34m\u001b[0m\u001b[0;34m\u001b[0m\u001b[0m\n\u001b[0;32m---> 40\u001b[0;31m   \u001b[0;32mreturn\u001b[0m \u001b[0m_message\u001b[0m\u001b[0;34m.\u001b[0m\u001b[0mread_reply_from_input\u001b[0m\u001b[0;34m(\u001b[0m\u001b[0mrequest_id\u001b[0m\u001b[0;34m,\u001b[0m \u001b[0mtimeout_sec\u001b[0m\u001b[0;34m)\u001b[0m\u001b[0;34m\u001b[0m\u001b[0;34m\u001b[0m\u001b[0m\n\u001b[0m\u001b[1;32m     41\u001b[0m \u001b[0;34m\u001b[0m\u001b[0m\n\u001b[1;32m     42\u001b[0m \u001b[0;34m\u001b[0m\u001b[0m\n",
      "\u001b[0;32m/usr/local/lib/python3.7/dist-packages/google/colab/_message.py\u001b[0m in \u001b[0;36mread_reply_from_input\u001b[0;34m(message_id, timeout_sec)\u001b[0m\n\u001b[1;32m     99\u001b[0m     \u001b[0mreply\u001b[0m \u001b[0;34m=\u001b[0m \u001b[0m_read_next_input_message\u001b[0m\u001b[0;34m(\u001b[0m\u001b[0;34m)\u001b[0m\u001b[0;34m\u001b[0m\u001b[0;34m\u001b[0m\u001b[0m\n\u001b[1;32m    100\u001b[0m     \u001b[0;32mif\u001b[0m \u001b[0mreply\u001b[0m \u001b[0;34m==\u001b[0m \u001b[0m_NOT_READY\u001b[0m \u001b[0;32mor\u001b[0m \u001b[0;32mnot\u001b[0m \u001b[0misinstance\u001b[0m\u001b[0;34m(\u001b[0m\u001b[0mreply\u001b[0m\u001b[0;34m,\u001b[0m \u001b[0mdict\u001b[0m\u001b[0;34m)\u001b[0m\u001b[0;34m:\u001b[0m\u001b[0;34m\u001b[0m\u001b[0;34m\u001b[0m\u001b[0m\n\u001b[0;32m--> 101\u001b[0;31m       \u001b[0mtime\u001b[0m\u001b[0;34m.\u001b[0m\u001b[0msleep\u001b[0m\u001b[0;34m(\u001b[0m\u001b[0;36m0.025\u001b[0m\u001b[0;34m)\u001b[0m\u001b[0;34m\u001b[0m\u001b[0;34m\u001b[0m\u001b[0m\n\u001b[0m\u001b[1;32m    102\u001b[0m       \u001b[0;32mcontinue\u001b[0m\u001b[0;34m\u001b[0m\u001b[0;34m\u001b[0m\u001b[0m\n\u001b[1;32m    103\u001b[0m     if (reply.get('type') == 'colab_reply' and\n",
      "\u001b[0;31mKeyboardInterrupt\u001b[0m: "
     ]
    }
   ],
   "source": [
    "from google.colab import files\n",
    "uploaded = files.upload()\n",
    "forensics = pd.read_csv(io.BytesIO(uploaded['VMResourceUtilizationSlope.csv']))\n",
    "\n"
   ]
  },
  {
   "cell_type": "code",
   "execution_count": null,
   "metadata": {
    "executionInfo": {
     "elapsed": 8,
     "status": "aborted",
     "timestamp": 1651687341378,
     "user": {
      "displayName": "Poojitha Katta",
      "userId": "04087814288591914137"
     },
     "user_tz": 300
    },
    "id": "nWO0C4nYA11o"
   },
   "outputs": [],
   "source": [
    "forensics.head()"
   ]
  },
  {
   "cell_type": "code",
   "execution_count": null,
   "metadata": {
    "colab": {
     "base_uri": "https://localhost:8080/"
    },
    "executionInfo": {
     "elapsed": 143,
     "status": "ok",
     "timestamp": 1651562214002,
     "user": {
      "displayName": "Shamama Afnan",
      "userId": "18119871591444313216"
     },
     "user_tz": 420
    },
    "id": "kNi1T12xBafZ",
    "outputId": "c11bbade-2002-4b18-9837-6c358c169458"
   },
   "outputs": [
    {
     "data": {
      "text/plain": [
       "LAST_POLL                   9610\n",
       "VMID                        9610\n",
       "UUID                        9610\n",
       "dom                         9610\n",
       "rxbytes_slope               9594\n",
       "rxpackets_slope             9594\n",
       "rxerrors_slope              9594\n",
       "rxdrops_slope               9594\n",
       "txbytes_slope               9594\n",
       "txpackets_slope             9594\n",
       "txerrors_slope              9594\n",
       "txdrops_slope               9594\n",
       "timecpu_slope               9594\n",
       "timesys_slope               9594\n",
       "timeusr_slope               9594\n",
       "state_slope                 9594\n",
       "memmax_slope                9594\n",
       "mem_slope                   9594\n",
       "cpus_slope                  9594\n",
       "cputime_slope               9594\n",
       "memactual_slope             9594\n",
       "memswap_in_slope            9594\n",
       "memswap_out_slope           9594\n",
       "memmajor_fault_slope        9594\n",
       "memminor_fault_slope        9594\n",
       "memunused_slope             9594\n",
       "memavailable_slope          9594\n",
       "memusable_slope             9594\n",
       "memlast_update_slope        9594\n",
       "memdisk_cache_slope         9594\n",
       "memhugetlb_pgalloc_slope    9594\n",
       "memhugetlb_pgfail_slope     9594\n",
       "memrss_slope                9594\n",
       "vdard_req_slope             9594\n",
       "vdard_bytes_slope           9594\n",
       "vdawr_reqs_slope            9594\n",
       "vdawr_bytes_slope           9594\n",
       "vdaerror_slope              9594\n",
       "hdard_req_slope             9594\n",
       "hdard_bytes_slope           9594\n",
       "hdawr_reqs_slope            9594\n",
       "hdawr_bytes_slope           9594\n",
       "hdaerror_slope              9594\n",
       "Status                      9594\n",
       "dtype: int64"
      ]
     },
     "execution_count": 4,
     "metadata": {},
     "output_type": "execute_result"
    }
   ],
   "source": [
    "forensics.count()"
   ]
  },
  {
   "cell_type": "code",
   "execution_count": null,
   "metadata": {
    "colab": {
     "base_uri": "https://localhost:8080/"
    },
    "executionInfo": {
     "elapsed": 165,
     "status": "ok",
     "timestamp": 1651690214330,
     "user": {
      "displayName": "Shamama Afnan",
      "userId": "18119871591444313216"
     },
     "user_tz": 420
    },
    "id": "XuF-mZJyBEbd",
    "outputId": "a2332253-b43e-4c3f-b915-3d8a6bdb3a7e"
   },
   "outputs": [
    {
     "data": {
      "text/plain": [
       "LAST_POLL                    0\n",
       "VMID                         0\n",
       "UUID                         0\n",
       "dom                          0\n",
       "rxbytes_slope               16\n",
       "rxpackets_slope             16\n",
       "rxerrors_slope              16\n",
       "rxdrops_slope               16\n",
       "txbytes_slope               16\n",
       "txpackets_slope             16\n",
       "txerrors_slope              16\n",
       "txdrops_slope               16\n",
       "timecpu_slope               16\n",
       "timesys_slope               16\n",
       "timeusr_slope               16\n",
       "state_slope                 16\n",
       "memmax_slope                16\n",
       "mem_slope                   16\n",
       "cpus_slope                  16\n",
       "cputime_slope               16\n",
       "memactual_slope             16\n",
       "memswap_in_slope            16\n",
       "memswap_out_slope           16\n",
       "memmajor_fault_slope        16\n",
       "memminor_fault_slope        16\n",
       "memunused_slope             16\n",
       "memavailable_slope          16\n",
       "memusable_slope             16\n",
       "memlast_update_slope        16\n",
       "memdisk_cache_slope         16\n",
       "memhugetlb_pgalloc_slope    16\n",
       "memhugetlb_pgfail_slope     16\n",
       "memrss_slope                16\n",
       "vdard_req_slope             16\n",
       "vdard_bytes_slope           16\n",
       "vdawr_reqs_slope            16\n",
       "vdawr_bytes_slope           16\n",
       "vdaerror_slope              16\n",
       "hdard_req_slope             16\n",
       "hdard_bytes_slope           16\n",
       "hdawr_reqs_slope            16\n",
       "hdawr_bytes_slope           16\n",
       "hdaerror_slope              16\n",
       "Status                      16\n",
       "dtype: int64"
      ]
     },
     "execution_count": 7,
     "metadata": {},
     "output_type": "execute_result"
    }
   ],
   "source": [
    "forensics.isnull().sum()"
   ]
  },
  {
   "cell_type": "code",
   "execution_count": null,
   "metadata": {
    "id": "n5QLcLZQBIGJ"
   },
   "outputs": [],
   "source": [
    "forensics = forensics.dropna()"
   ]
  },
  {
   "cell_type": "code",
   "execution_count": null,
   "metadata": {
    "colab": {
     "base_uri": "https://localhost:8080/",
     "height": 394
    },
    "executionInfo": {
     "elapsed": 257,
     "status": "ok",
     "timestamp": 1651562220079,
     "user": {
      "displayName": "Shamama Afnan",
      "userId": "18119871591444313216"
     },
     "user_tz": 420
    },
    "id": "oMdEnJmwBLR3",
    "outputId": "ee8158ba-5abe-4e23-e893-5d4464d4f4ba"
   },
   "outputs": [
    {
     "data": {
      "text/html": [
       "\n",
       "  <div id=\"df-cd5ab2bc-2814-47d3-9879-a10f0f334fea\">\n",
       "    <div class=\"colab-df-container\">\n",
       "      <div>\n",
       "<style scoped>\n",
       "    .dataframe tbody tr th:only-of-type {\n",
       "        vertical-align: middle;\n",
       "    }\n",
       "\n",
       "    .dataframe tbody tr th {\n",
       "        vertical-align: top;\n",
       "    }\n",
       "\n",
       "    .dataframe thead th {\n",
       "        text-align: right;\n",
       "    }\n",
       "</style>\n",
       "<table border=\"1\" class=\"dataframe\">\n",
       "  <thead>\n",
       "    <tr style=\"text-align: right;\">\n",
       "      <th></th>\n",
       "      <th>LAST_POLL</th>\n",
       "      <th>VMID</th>\n",
       "      <th>rxbytes_slope</th>\n",
       "      <th>rxpackets_slope</th>\n",
       "      <th>rxerrors_slope</th>\n",
       "      <th>rxdrops_slope</th>\n",
       "      <th>txbytes_slope</th>\n",
       "      <th>txpackets_slope</th>\n",
       "      <th>txerrors_slope</th>\n",
       "      <th>txdrops_slope</th>\n",
       "      <th>...</th>\n",
       "      <th>vdard_req_slope</th>\n",
       "      <th>vdard_bytes_slope</th>\n",
       "      <th>vdawr_reqs_slope</th>\n",
       "      <th>vdawr_bytes_slope</th>\n",
       "      <th>vdaerror_slope</th>\n",
       "      <th>hdard_req_slope</th>\n",
       "      <th>hdard_bytes_slope</th>\n",
       "      <th>hdawr_reqs_slope</th>\n",
       "      <th>hdawr_bytes_slope</th>\n",
       "      <th>hdaerror_slope</th>\n",
       "    </tr>\n",
       "  </thead>\n",
       "  <tbody>\n",
       "    <tr>\n",
       "      <th>count</th>\n",
       "      <td>9.594000e+03</td>\n",
       "      <td>9594.000000</td>\n",
       "      <td>9594.000000</td>\n",
       "      <td>9594.000000</td>\n",
       "      <td>9594.0</td>\n",
       "      <td>9594.0</td>\n",
       "      <td>9594.000000</td>\n",
       "      <td>9594.000000</td>\n",
       "      <td>9594.0</td>\n",
       "      <td>9594.0</td>\n",
       "      <td>...</td>\n",
       "      <td>9594.000000</td>\n",
       "      <td>9594.000000</td>\n",
       "      <td>9594.000000</td>\n",
       "      <td>9594.000000</td>\n",
       "      <td>9594.0</td>\n",
       "      <td>9594.000000</td>\n",
       "      <td>9594.000000</td>\n",
       "      <td>9594.0</td>\n",
       "      <td>9594.0</td>\n",
       "      <td>9594.0</td>\n",
       "    </tr>\n",
       "    <tr>\n",
       "      <th>mean</th>\n",
       "      <td>1.604482e+09</td>\n",
       "      <td>7.551178</td>\n",
       "      <td>88.237795</td>\n",
       "      <td>35.454518</td>\n",
       "      <td>0.0</td>\n",
       "      <td>0.0</td>\n",
       "      <td>31.755948</td>\n",
       "      <td>22.272845</td>\n",
       "      <td>0.0</td>\n",
       "      <td>0.0</td>\n",
       "      <td>...</td>\n",
       "      <td>0.869522</td>\n",
       "      <td>2.360632</td>\n",
       "      <td>31.607359</td>\n",
       "      <td>80.303610</td>\n",
       "      <td>0.0</td>\n",
       "      <td>0.024526</td>\n",
       "      <td>0.056261</td>\n",
       "      <td>0.0</td>\n",
       "      <td>0.0</td>\n",
       "      <td>0.0</td>\n",
       "    </tr>\n",
       "    <tr>\n",
       "      <th>std</th>\n",
       "      <td>8.162846e+04</td>\n",
       "      <td>1.731400</td>\n",
       "      <td>0.779002</td>\n",
       "      <td>18.590801</td>\n",
       "      <td>0.0</td>\n",
       "      <td>0.0</td>\n",
       "      <td>41.176777</td>\n",
       "      <td>36.895174</td>\n",
       "      <td>0.0</td>\n",
       "      <td>0.0</td>\n",
       "      <td>...</td>\n",
       "      <td>7.763400</td>\n",
       "      <td>14.373804</td>\n",
       "      <td>27.642737</td>\n",
       "      <td>27.866019</td>\n",
       "      <td>0.0</td>\n",
       "      <td>1.105076</td>\n",
       "      <td>2.249146</td>\n",
       "      <td>0.0</td>\n",
       "      <td>0.0</td>\n",
       "      <td>0.0</td>\n",
       "    </tr>\n",
       "    <tr>\n",
       "      <th>min</th>\n",
       "      <td>1.604406e+09</td>\n",
       "      <td>1.000000</td>\n",
       "      <td>58.392500</td>\n",
       "      <td>1.789900</td>\n",
       "      <td>0.0</td>\n",
       "      <td>0.0</td>\n",
       "      <td>0.000000</td>\n",
       "      <td>0.000000</td>\n",
       "      <td>0.0</td>\n",
       "      <td>0.0</td>\n",
       "      <td>...</td>\n",
       "      <td>0.000000</td>\n",
       "      <td>0.000000</td>\n",
       "      <td>0.000000</td>\n",
       "      <td>0.000000</td>\n",
       "      <td>0.0</td>\n",
       "      <td>0.000000</td>\n",
       "      <td>0.000000</td>\n",
       "      <td>0.0</td>\n",
       "      <td>0.0</td>\n",
       "      <td>0.0</td>\n",
       "    </tr>\n",
       "    <tr>\n",
       "      <th>25%</th>\n",
       "      <td>1.604424e+09</td>\n",
       "      <td>6.000000</td>\n",
       "      <td>87.797400</td>\n",
       "      <td>26.565100</td>\n",
       "      <td>0.0</td>\n",
       "      <td>0.0</td>\n",
       "      <td>0.000000</td>\n",
       "      <td>0.000000</td>\n",
       "      <td>0.0</td>\n",
       "      <td>0.0</td>\n",
       "      <td>...</td>\n",
       "      <td>0.000000</td>\n",
       "      <td>0.000000</td>\n",
       "      <td>11.309900</td>\n",
       "      <td>89.963100</td>\n",
       "      <td>0.0</td>\n",
       "      <td>0.000000</td>\n",
       "      <td>0.000000</td>\n",
       "      <td>0.0</td>\n",
       "      <td>0.0</td>\n",
       "      <td>0.0</td>\n",
       "    </tr>\n",
       "    <tr>\n",
       "      <th>50%</th>\n",
       "      <td>1.604442e+09</td>\n",
       "      <td>8.000000</td>\n",
       "      <td>87.954600</td>\n",
       "      <td>28.072500</td>\n",
       "      <td>0.0</td>\n",
       "      <td>0.0</td>\n",
       "      <td>0.000000</td>\n",
       "      <td>0.000000</td>\n",
       "      <td>0.0</td>\n",
       "      <td>0.0</td>\n",
       "      <td>...</td>\n",
       "      <td>0.000000</td>\n",
       "      <td>0.000000</td>\n",
       "      <td>18.434900</td>\n",
       "      <td>89.983900</td>\n",
       "      <td>0.0</td>\n",
       "      <td>0.000000</td>\n",
       "      <td>0.000000</td>\n",
       "      <td>0.0</td>\n",
       "      <td>0.0</td>\n",
       "      <td>0.0</td>\n",
       "    </tr>\n",
       "    <tr>\n",
       "      <th>75%</th>\n",
       "      <td>1.604589e+09</td>\n",
       "      <td>9.000000</td>\n",
       "      <td>88.264300</td>\n",
       "      <td>30.963800</td>\n",
       "      <td>0.0</td>\n",
       "      <td>0.0</td>\n",
       "      <td>81.275200</td>\n",
       "      <td>23.782000</td>\n",
       "      <td>0.0</td>\n",
       "      <td>0.0</td>\n",
       "      <td>...</td>\n",
       "      <td>0.000000</td>\n",
       "      <td>0.000000</td>\n",
       "      <td>62.650100</td>\n",
       "      <td>89.995100</td>\n",
       "      <td>0.0</td>\n",
       "      <td>0.000000</td>\n",
       "      <td>0.000000</td>\n",
       "      <td>0.0</td>\n",
       "      <td>0.0</td>\n",
       "      <td>0.0</td>\n",
       "    </tr>\n",
       "    <tr>\n",
       "      <th>max</th>\n",
       "      <td>1.604636e+09</td>\n",
       "      <td>10.000000</td>\n",
       "      <td>89.999900</td>\n",
       "      <td>89.915700</td>\n",
       "      <td>0.0</td>\n",
       "      <td>0.0</td>\n",
       "      <td>90.000000</td>\n",
       "      <td>89.998200</td>\n",
       "      <td>0.0</td>\n",
       "      <td>0.0</td>\n",
       "      <td>...</td>\n",
       "      <td>89.593000</td>\n",
       "      <td>90.000000</td>\n",
       "      <td>89.083800</td>\n",
       "      <td>90.000000</td>\n",
       "      <td>0.0</td>\n",
       "      <td>64.840700</td>\n",
       "      <td>89.992100</td>\n",
       "      <td>0.0</td>\n",
       "      <td>0.0</td>\n",
       "      <td>0.0</td>\n",
       "    </tr>\n",
       "  </tbody>\n",
       "</table>\n",
       "<p>8 rows × 41 columns</p>\n",
       "</div>\n",
       "      <button class=\"colab-df-convert\" onclick=\"convertToInteractive('df-cd5ab2bc-2814-47d3-9879-a10f0f334fea')\"\n",
       "              title=\"Convert this dataframe to an interactive table.\"\n",
       "              style=\"display:none;\">\n",
       "        \n",
       "  <svg xmlns=\"http://www.w3.org/2000/svg\" height=\"24px\"viewBox=\"0 0 24 24\"\n",
       "       width=\"24px\">\n",
       "    <path d=\"M0 0h24v24H0V0z\" fill=\"none\"/>\n",
       "    <path d=\"M18.56 5.44l.94 2.06.94-2.06 2.06-.94-2.06-.94-.94-2.06-.94 2.06-2.06.94zm-11 1L8.5 8.5l.94-2.06 2.06-.94-2.06-.94L8.5 2.5l-.94 2.06-2.06.94zm10 10l.94 2.06.94-2.06 2.06-.94-2.06-.94-.94-2.06-.94 2.06-2.06.94z\"/><path d=\"M17.41 7.96l-1.37-1.37c-.4-.4-.92-.59-1.43-.59-.52 0-1.04.2-1.43.59L10.3 9.45l-7.72 7.72c-.78.78-.78 2.05 0 2.83L4 21.41c.39.39.9.59 1.41.59.51 0 1.02-.2 1.41-.59l7.78-7.78 2.81-2.81c.8-.78.8-2.07 0-2.86zM5.41 20L4 18.59l7.72-7.72 1.47 1.35L5.41 20z\"/>\n",
       "  </svg>\n",
       "      </button>\n",
       "      \n",
       "  <style>\n",
       "    .colab-df-container {\n",
       "      display:flex;\n",
       "      flex-wrap:wrap;\n",
       "      gap: 12px;\n",
       "    }\n",
       "\n",
       "    .colab-df-convert {\n",
       "      background-color: #E8F0FE;\n",
       "      border: none;\n",
       "      border-radius: 50%;\n",
       "      cursor: pointer;\n",
       "      display: none;\n",
       "      fill: #1967D2;\n",
       "      height: 32px;\n",
       "      padding: 0 0 0 0;\n",
       "      width: 32px;\n",
       "    }\n",
       "\n",
       "    .colab-df-convert:hover {\n",
       "      background-color: #E2EBFA;\n",
       "      box-shadow: 0px 1px 2px rgba(60, 64, 67, 0.3), 0px 1px 3px 1px rgba(60, 64, 67, 0.15);\n",
       "      fill: #174EA6;\n",
       "    }\n",
       "\n",
       "    [theme=dark] .colab-df-convert {\n",
       "      background-color: #3B4455;\n",
       "      fill: #D2E3FC;\n",
       "    }\n",
       "\n",
       "    [theme=dark] .colab-df-convert:hover {\n",
       "      background-color: #434B5C;\n",
       "      box-shadow: 0px 1px 3px 1px rgba(0, 0, 0, 0.15);\n",
       "      filter: drop-shadow(0px 1px 2px rgba(0, 0, 0, 0.3));\n",
       "      fill: #FFFFFF;\n",
       "    }\n",
       "  </style>\n",
       "\n",
       "      <script>\n",
       "        const buttonEl =\n",
       "          document.querySelector('#df-cd5ab2bc-2814-47d3-9879-a10f0f334fea button.colab-df-convert');\n",
       "        buttonEl.style.display =\n",
       "          google.colab.kernel.accessAllowed ? 'block' : 'none';\n",
       "\n",
       "        async function convertToInteractive(key) {\n",
       "          const element = document.querySelector('#df-cd5ab2bc-2814-47d3-9879-a10f0f334fea');\n",
       "          const dataTable =\n",
       "            await google.colab.kernel.invokeFunction('convertToInteractive',\n",
       "                                                     [key], {});\n",
       "          if (!dataTable) return;\n",
       "\n",
       "          const docLinkHtml = 'Like what you see? Visit the ' +\n",
       "            '<a target=\"_blank\" href=https://colab.research.google.com/notebooks/data_table.ipynb>data table notebook</a>'\n",
       "            + ' to learn more about interactive tables.';\n",
       "          element.innerHTML = '';\n",
       "          dataTable['output_type'] = 'display_data';\n",
       "          await google.colab.output.renderOutput(dataTable, element);\n",
       "          const docLink = document.createElement('div');\n",
       "          docLink.innerHTML = docLinkHtml;\n",
       "          element.appendChild(docLink);\n",
       "        }\n",
       "      </script>\n",
       "    </div>\n",
       "  </div>\n",
       "  "
      ],
      "text/plain": [
       "          LAST_POLL         VMID  rxbytes_slope  rxpackets_slope  \\\n",
       "count  9.594000e+03  9594.000000    9594.000000      9594.000000   \n",
       "mean   1.604482e+09     7.551178      88.237795        35.454518   \n",
       "std    8.162846e+04     1.731400       0.779002        18.590801   \n",
       "min    1.604406e+09     1.000000      58.392500         1.789900   \n",
       "25%    1.604424e+09     6.000000      87.797400        26.565100   \n",
       "50%    1.604442e+09     8.000000      87.954600        28.072500   \n",
       "75%    1.604589e+09     9.000000      88.264300        30.963800   \n",
       "max    1.604636e+09    10.000000      89.999900        89.915700   \n",
       "\n",
       "       rxerrors_slope  rxdrops_slope  txbytes_slope  txpackets_slope  \\\n",
       "count          9594.0         9594.0    9594.000000      9594.000000   \n",
       "mean              0.0            0.0      31.755948        22.272845   \n",
       "std               0.0            0.0      41.176777        36.895174   \n",
       "min               0.0            0.0       0.000000         0.000000   \n",
       "25%               0.0            0.0       0.000000         0.000000   \n",
       "50%               0.0            0.0       0.000000         0.000000   \n",
       "75%               0.0            0.0      81.275200        23.782000   \n",
       "max               0.0            0.0      90.000000        89.998200   \n",
       "\n",
       "       txerrors_slope  txdrops_slope  ...  vdard_req_slope  vdard_bytes_slope  \\\n",
       "count          9594.0         9594.0  ...      9594.000000        9594.000000   \n",
       "mean              0.0            0.0  ...         0.869522           2.360632   \n",
       "std               0.0            0.0  ...         7.763400          14.373804   \n",
       "min               0.0            0.0  ...         0.000000           0.000000   \n",
       "25%               0.0            0.0  ...         0.000000           0.000000   \n",
       "50%               0.0            0.0  ...         0.000000           0.000000   \n",
       "75%               0.0            0.0  ...         0.000000           0.000000   \n",
       "max               0.0            0.0  ...        89.593000          90.000000   \n",
       "\n",
       "       vdawr_reqs_slope  vdawr_bytes_slope  vdaerror_slope  hdard_req_slope  \\\n",
       "count       9594.000000        9594.000000          9594.0      9594.000000   \n",
       "mean          31.607359          80.303610             0.0         0.024526   \n",
       "std           27.642737          27.866019             0.0         1.105076   \n",
       "min            0.000000           0.000000             0.0         0.000000   \n",
       "25%           11.309900          89.963100             0.0         0.000000   \n",
       "50%           18.434900          89.983900             0.0         0.000000   \n",
       "75%           62.650100          89.995100             0.0         0.000000   \n",
       "max           89.083800          90.000000             0.0        64.840700   \n",
       "\n",
       "       hdard_bytes_slope  hdawr_reqs_slope  hdawr_bytes_slope  hdaerror_slope  \n",
       "count        9594.000000            9594.0             9594.0          9594.0  \n",
       "mean            0.056261               0.0                0.0             0.0  \n",
       "std             2.249146               0.0                0.0             0.0  \n",
       "min             0.000000               0.0                0.0             0.0  \n",
       "25%             0.000000               0.0                0.0             0.0  \n",
       "50%             0.000000               0.0                0.0             0.0  \n",
       "75%             0.000000               0.0                0.0             0.0  \n",
       "max            89.992100               0.0                0.0             0.0  \n",
       "\n",
       "[8 rows x 41 columns]"
      ]
     },
     "execution_count": 6,
     "metadata": {},
     "output_type": "execute_result"
    }
   ],
   "source": [
    "forensics.describe()"
   ]
  },
  {
   "cell_type": "code",
   "execution_count": null,
   "metadata": {
    "id": "N6Nzu29QBN72"
   },
   "outputs": [],
   "source": [
    "#forensics['Status']=forensics['Status'].replace(['Normal','Attack'],[0,1])"
   ]
  },
  {
   "cell_type": "code",
   "execution_count": null,
   "metadata": {
    "colab": {
     "base_uri": "https://localhost:8080/",
     "height": 560
    },
    "executionInfo": {
     "elapsed": 273,
     "status": "ok",
     "timestamp": 1651690247137,
     "user": {
      "displayName": "Shamama Afnan",
      "userId": "18119871591444313216"
     },
     "user_tz": 420
    },
    "id": "RuYcEM67BvPY",
    "outputId": "a3a67c83-58ca-4ebf-b624-362363b26075"
   },
   "outputs": [
    {
     "data": {
      "text/html": [
       "\n",
       "  <div id=\"df-4d8ae73b-4bb9-4faa-9101-25bdc66f9c1b\">\n",
       "    <div class=\"colab-df-container\">\n",
       "      <div>\n",
       "<style scoped>\n",
       "    .dataframe tbody tr th:only-of-type {\n",
       "        vertical-align: middle;\n",
       "    }\n",
       "\n",
       "    .dataframe tbody tr th {\n",
       "        vertical-align: top;\n",
       "    }\n",
       "\n",
       "    .dataframe thead th {\n",
       "        text-align: right;\n",
       "    }\n",
       "</style>\n",
       "<table border=\"1\" class=\"dataframe\">\n",
       "  <thead>\n",
       "    <tr style=\"text-align: right;\">\n",
       "      <th></th>\n",
       "      <th>LAST_POLL</th>\n",
       "      <th>VMID</th>\n",
       "      <th>UUID</th>\n",
       "      <th>dom</th>\n",
       "      <th>rxbytes_slope</th>\n",
       "      <th>rxpackets_slope</th>\n",
       "      <th>rxerrors_slope</th>\n",
       "      <th>rxdrops_slope</th>\n",
       "      <th>txbytes_slope</th>\n",
       "      <th>txpackets_slope</th>\n",
       "      <th>...</th>\n",
       "      <th>vdard_bytes_slope</th>\n",
       "      <th>vdawr_reqs_slope</th>\n",
       "      <th>vdawr_bytes_slope</th>\n",
       "      <th>vdaerror_slope</th>\n",
       "      <th>hdard_req_slope</th>\n",
       "      <th>hdard_bytes_slope</th>\n",
       "      <th>hdawr_reqs_slope</th>\n",
       "      <th>hdawr_bytes_slope</th>\n",
       "      <th>hdaerror_slope</th>\n",
       "      <th>Status</th>\n",
       "    </tr>\n",
       "  </thead>\n",
       "  <tbody>\n",
       "    <tr>\n",
       "      <th>0</th>\n",
       "      <td>1604455173</td>\n",
       "      <td>7</td>\n",
       "      <td>\"2bc1fde1-28d9-454e-8029-21a138714234\"</td>\n",
       "      <td>one-33</td>\n",
       "      <td>88.2065</td>\n",
       "      <td>30.1414</td>\n",
       "      <td>0.0</td>\n",
       "      <td>0.0</td>\n",
       "      <td>79.8981</td>\n",
       "      <td>5.5275</td>\n",
       "      <td>...</td>\n",
       "      <td>0.0</td>\n",
       "      <td>24.3045</td>\n",
       "      <td>89.9850</td>\n",
       "      <td>0.0</td>\n",
       "      <td>0.0</td>\n",
       "      <td>0.0</td>\n",
       "      <td>0.0</td>\n",
       "      <td>0.0</td>\n",
       "      <td>0.0</td>\n",
       "      <td>0</td>\n",
       "    </tr>\n",
       "    <tr>\n",
       "      <th>1</th>\n",
       "      <td>1604455142</td>\n",
       "      <td>7</td>\n",
       "      <td>\"2bc1fde1-28d9-454e-8029-21a138714234\"</td>\n",
       "      <td>one-33</td>\n",
       "      <td>87.8708</td>\n",
       "      <td>27.3499</td>\n",
       "      <td>0.0</td>\n",
       "      <td>0.0</td>\n",
       "      <td>0.0000</td>\n",
       "      <td>0.0000</td>\n",
       "      <td>...</td>\n",
       "      <td>0.0</td>\n",
       "      <td>5.9061</td>\n",
       "      <td>89.8986</td>\n",
       "      <td>0.0</td>\n",
       "      <td>0.0</td>\n",
       "      <td>0.0</td>\n",
       "      <td>0.0</td>\n",
       "      <td>0.0</td>\n",
       "      <td>0.0</td>\n",
       "      <td>0</td>\n",
       "    </tr>\n",
       "    <tr>\n",
       "      <th>2</th>\n",
       "      <td>1604455113</td>\n",
       "      <td>7</td>\n",
       "      <td>\"2bc1fde1-28d9-454e-8029-21a138714234\"</td>\n",
       "      <td>one-33</td>\n",
       "      <td>87.8865</td>\n",
       "      <td>27.2996</td>\n",
       "      <td>0.0</td>\n",
       "      <td>0.0</td>\n",
       "      <td>0.0000</td>\n",
       "      <td>0.0000</td>\n",
       "      <td>...</td>\n",
       "      <td>0.0</td>\n",
       "      <td>32.8285</td>\n",
       "      <td>89.9897</td>\n",
       "      <td>0.0</td>\n",
       "      <td>0.0</td>\n",
       "      <td>0.0</td>\n",
       "      <td>0.0</td>\n",
       "      <td>0.0</td>\n",
       "      <td>0.0</td>\n",
       "      <td>0</td>\n",
       "    </tr>\n",
       "    <tr>\n",
       "      <th>3</th>\n",
       "      <td>1604455082</td>\n",
       "      <td>7</td>\n",
       "      <td>\"2bc1fde1-28d9-454e-8029-21a138714234\"</td>\n",
       "      <td>one-33</td>\n",
       "      <td>87.8760</td>\n",
       "      <td>27.4076</td>\n",
       "      <td>0.0</td>\n",
       "      <td>0.0</td>\n",
       "      <td>0.0000</td>\n",
       "      <td>0.0000</td>\n",
       "      <td>...</td>\n",
       "      <td>0.0</td>\n",
       "      <td>4.2364</td>\n",
       "      <td>89.8741</td>\n",
       "      <td>0.0</td>\n",
       "      <td>0.0</td>\n",
       "      <td>0.0</td>\n",
       "      <td>0.0</td>\n",
       "      <td>0.0</td>\n",
       "      <td>0.0</td>\n",
       "      <td>0</td>\n",
       "    </tr>\n",
       "    <tr>\n",
       "      <th>4</th>\n",
       "      <td>1604455055</td>\n",
       "      <td>7</td>\n",
       "      <td>\"2bc1fde1-28d9-454e-8029-21a138714234\"</td>\n",
       "      <td>one-33</td>\n",
       "      <td>87.7241</td>\n",
       "      <td>25.8210</td>\n",
       "      <td>0.0</td>\n",
       "      <td>0.0</td>\n",
       "      <td>0.0000</td>\n",
       "      <td>0.0000</td>\n",
       "      <td>...</td>\n",
       "      <td>0.0</td>\n",
       "      <td>22.7510</td>\n",
       "      <td>89.9864</td>\n",
       "      <td>0.0</td>\n",
       "      <td>0.0</td>\n",
       "      <td>0.0</td>\n",
       "      <td>0.0</td>\n",
       "      <td>0.0</td>\n",
       "      <td>0.0</td>\n",
       "      <td>0</td>\n",
       "    </tr>\n",
       "  </tbody>\n",
       "</table>\n",
       "<p>5 rows × 44 columns</p>\n",
       "</div>\n",
       "      <button class=\"colab-df-convert\" onclick=\"convertToInteractive('df-4d8ae73b-4bb9-4faa-9101-25bdc66f9c1b')\"\n",
       "              title=\"Convert this dataframe to an interactive table.\"\n",
       "              style=\"display:none;\">\n",
       "        \n",
       "  <svg xmlns=\"http://www.w3.org/2000/svg\" height=\"24px\"viewBox=\"0 0 24 24\"\n",
       "       width=\"24px\">\n",
       "    <path d=\"M0 0h24v24H0V0z\" fill=\"none\"/>\n",
       "    <path d=\"M18.56 5.44l.94 2.06.94-2.06 2.06-.94-2.06-.94-.94-2.06-.94 2.06-2.06.94zm-11 1L8.5 8.5l.94-2.06 2.06-.94-2.06-.94L8.5 2.5l-.94 2.06-2.06.94zm10 10l.94 2.06.94-2.06 2.06-.94-2.06-.94-.94-2.06-.94 2.06-2.06.94z\"/><path d=\"M17.41 7.96l-1.37-1.37c-.4-.4-.92-.59-1.43-.59-.52 0-1.04.2-1.43.59L10.3 9.45l-7.72 7.72c-.78.78-.78 2.05 0 2.83L4 21.41c.39.39.9.59 1.41.59.51 0 1.02-.2 1.41-.59l7.78-7.78 2.81-2.81c.8-.78.8-2.07 0-2.86zM5.41 20L4 18.59l7.72-7.72 1.47 1.35L5.41 20z\"/>\n",
       "  </svg>\n",
       "      </button>\n",
       "      \n",
       "  <style>\n",
       "    .colab-df-container {\n",
       "      display:flex;\n",
       "      flex-wrap:wrap;\n",
       "      gap: 12px;\n",
       "    }\n",
       "\n",
       "    .colab-df-convert {\n",
       "      background-color: #E8F0FE;\n",
       "      border: none;\n",
       "      border-radius: 50%;\n",
       "      cursor: pointer;\n",
       "      display: none;\n",
       "      fill: #1967D2;\n",
       "      height: 32px;\n",
       "      padding: 0 0 0 0;\n",
       "      width: 32px;\n",
       "    }\n",
       "\n",
       "    .colab-df-convert:hover {\n",
       "      background-color: #E2EBFA;\n",
       "      box-shadow: 0px 1px 2px rgba(60, 64, 67, 0.3), 0px 1px 3px 1px rgba(60, 64, 67, 0.15);\n",
       "      fill: #174EA6;\n",
       "    }\n",
       "\n",
       "    [theme=dark] .colab-df-convert {\n",
       "      background-color: #3B4455;\n",
       "      fill: #D2E3FC;\n",
       "    }\n",
       "\n",
       "    [theme=dark] .colab-df-convert:hover {\n",
       "      background-color: #434B5C;\n",
       "      box-shadow: 0px 1px 3px 1px rgba(0, 0, 0, 0.15);\n",
       "      filter: drop-shadow(0px 1px 2px rgba(0, 0, 0, 0.3));\n",
       "      fill: #FFFFFF;\n",
       "    }\n",
       "  </style>\n",
       "\n",
       "      <script>\n",
       "        const buttonEl =\n",
       "          document.querySelector('#df-4d8ae73b-4bb9-4faa-9101-25bdc66f9c1b button.colab-df-convert');\n",
       "        buttonEl.style.display =\n",
       "          google.colab.kernel.accessAllowed ? 'block' : 'none';\n",
       "\n",
       "        async function convertToInteractive(key) {\n",
       "          const element = document.querySelector('#df-4d8ae73b-4bb9-4faa-9101-25bdc66f9c1b');\n",
       "          const dataTable =\n",
       "            await google.colab.kernel.invokeFunction('convertToInteractive',\n",
       "                                                     [key], {});\n",
       "          if (!dataTable) return;\n",
       "\n",
       "          const docLinkHtml = 'Like what you see? Visit the ' +\n",
       "            '<a target=\"_blank\" href=https://colab.research.google.com/notebooks/data_table.ipynb>data table notebook</a>'\n",
       "            + ' to learn more about interactive tables.';\n",
       "          element.innerHTML = '';\n",
       "          dataTable['output_type'] = 'display_data';\n",
       "          await google.colab.output.renderOutput(dataTable, element);\n",
       "          const docLink = document.createElement('div');\n",
       "          docLink.innerHTML = docLinkHtml;\n",
       "          element.appendChild(docLink);\n",
       "        }\n",
       "      </script>\n",
       "    </div>\n",
       "  </div>\n",
       "  "
      ],
      "text/plain": [
       "    LAST_POLL  VMID                                    UUID     dom  \\\n",
       "0  1604455173     7  \"2bc1fde1-28d9-454e-8029-21a138714234\"  one-33   \n",
       "1  1604455142     7  \"2bc1fde1-28d9-454e-8029-21a138714234\"  one-33   \n",
       "2  1604455113     7  \"2bc1fde1-28d9-454e-8029-21a138714234\"  one-33   \n",
       "3  1604455082     7  \"2bc1fde1-28d9-454e-8029-21a138714234\"  one-33   \n",
       "4  1604455055     7  \"2bc1fde1-28d9-454e-8029-21a138714234\"  one-33   \n",
       "\n",
       "   rxbytes_slope  rxpackets_slope  rxerrors_slope  rxdrops_slope  \\\n",
       "0        88.2065          30.1414             0.0            0.0   \n",
       "1        87.8708          27.3499             0.0            0.0   \n",
       "2        87.8865          27.2996             0.0            0.0   \n",
       "3        87.8760          27.4076             0.0            0.0   \n",
       "4        87.7241          25.8210             0.0            0.0   \n",
       "\n",
       "   txbytes_slope  txpackets_slope  ...  vdard_bytes_slope  vdawr_reqs_slope  \\\n",
       "0        79.8981           5.5275  ...                0.0           24.3045   \n",
       "1         0.0000           0.0000  ...                0.0            5.9061   \n",
       "2         0.0000           0.0000  ...                0.0           32.8285   \n",
       "3         0.0000           0.0000  ...                0.0            4.2364   \n",
       "4         0.0000           0.0000  ...                0.0           22.7510   \n",
       "\n",
       "   vdawr_bytes_slope  vdaerror_slope  hdard_req_slope  hdard_bytes_slope  \\\n",
       "0            89.9850             0.0              0.0                0.0   \n",
       "1            89.8986             0.0              0.0                0.0   \n",
       "2            89.9897             0.0              0.0                0.0   \n",
       "3            89.8741             0.0              0.0                0.0   \n",
       "4            89.9864             0.0              0.0                0.0   \n",
       "\n",
       "   hdawr_reqs_slope  hdawr_bytes_slope  hdaerror_slope  Status  \n",
       "0               0.0                0.0             0.0       0  \n",
       "1               0.0                0.0             0.0       0  \n",
       "2               0.0                0.0             0.0       0  \n",
       "3               0.0                0.0             0.0       0  \n",
       "4               0.0                0.0             0.0       0  \n",
       "\n",
       "[5 rows x 44 columns]"
      ]
     },
     "execution_count": 10,
     "metadata": {},
     "output_type": "execute_result"
    }
   ],
   "source": [
    "forensics.head()"
   ]
  },
  {
   "cell_type": "code",
   "execution_count": null,
   "metadata": {
    "colab": {
     "base_uri": "https://localhost:8080/"
    },
    "executionInfo": {
     "elapsed": 168,
     "status": "ok",
     "timestamp": 1651690262309,
     "user": {
      "displayName": "Shamama Afnan",
      "userId": "18119871591444313216"
     },
     "user_tz": 420
    },
    "id": "xxGfLf3EMdiA",
    "outputId": "0d7f583d-598b-470d-89a4-faa29ffd9bc9"
   },
   "outputs": [
    {
     "data": {
      "text/plain": [
       "0    7288\n",
       "1    2306\n",
       "Name: Status, dtype: int64"
      ]
     },
     "execution_count": 11,
     "metadata": {},
     "output_type": "execute_result"
    }
   ],
   "source": [
    "forensics['Status'].value_counts()"
   ]
  },
  {
   "cell_type": "code",
   "execution_count": null,
   "metadata": {
    "colab": {
     "base_uri": "https://localhost:8080/",
     "height": 417
    },
    "executionInfo": {
     "elapsed": 361,
     "status": "ok",
     "timestamp": 1651690264118,
     "user": {
      "displayName": "Shamama Afnan",
      "userId": "18119871591444313216"
     },
     "user_tz": 420
    },
    "id": "8svoojiaMdlj",
    "outputId": "2f9c8b87-a75a-4dda-d28d-5eb8df514730"
   },
   "outputs": [
    {
     "data": {
      "text/html": [
       "<html>\n",
       "<head><meta charset=\"utf-8\" /></head>\n",
       "<body>\n",
       "    <div>            <script src=\"https://cdnjs.cloudflare.com/ajax/libs/mathjax/2.7.5/MathJax.js?config=TeX-AMS-MML_SVG\"></script><script type=\"text/javascript\">if (window.MathJax) {MathJax.Hub.Config({SVG: {font: \"STIX-Web\"}});}</script>                <script type=\"text/javascript\">window.PlotlyConfig = {MathJaxConfig: 'local'};</script>\n",
       "        <script src=\"https://cdn.plot.ly/plotly-2.8.3.min.js\"></script>                <div id=\"1a2b7d56-0e86-4047-a3f7-c487d85a37e3\" class=\"plotly-graph-div\" style=\"height:400px; width:400px;\"></div>            <script type=\"text/javascript\">                                    window.PLOTLYENV=window.PLOTLYENV || {};                                    if (document.getElementById(\"1a2b7d56-0e86-4047-a3f7-c487d85a37e3\")) {                    Plotly.newPlot(                        \"1a2b7d56-0e86-4047-a3f7-c487d85a37e3\",                        [{\"labels\":[\"Normal\",\"Attack\"],\"name\":\"Attack\",\"values\":[7288,2306],\"type\":\"pie\",\"textfont\":{\"size\":16},\"marker\":{\"colors\":[\"#069AF3\",\"#FF4500\",\"#3f88c5\",\"#ffba08\",\"#d00000\"]},\"hole\":0.4,\"hoverinfo\":\"label+percent\"}],                        {\"template\":{\"data\":{\"bar\":[{\"error_x\":{\"color\":\"#2a3f5f\"},\"error_y\":{\"color\":\"#2a3f5f\"},\"marker\":{\"line\":{\"color\":\"#E5ECF6\",\"width\":0.5},\"pattern\":{\"fillmode\":\"overlay\",\"size\":10,\"solidity\":0.2}},\"type\":\"bar\"}],\"barpolar\":[{\"marker\":{\"line\":{\"color\":\"#E5ECF6\",\"width\":0.5},\"pattern\":{\"fillmode\":\"overlay\",\"size\":10,\"solidity\":0.2}},\"type\":\"barpolar\"}],\"carpet\":[{\"aaxis\":{\"endlinecolor\":\"#2a3f5f\",\"gridcolor\":\"white\",\"linecolor\":\"white\",\"minorgridcolor\":\"white\",\"startlinecolor\":\"#2a3f5f\"},\"baxis\":{\"endlinecolor\":\"#2a3f5f\",\"gridcolor\":\"white\",\"linecolor\":\"white\",\"minorgridcolor\":\"white\",\"startlinecolor\":\"#2a3f5f\"},\"type\":\"carpet\"}],\"choropleth\":[{\"colorbar\":{\"outlinewidth\":0,\"ticks\":\"\"},\"type\":\"choropleth\"}],\"contour\":[{\"colorbar\":{\"outlinewidth\":0,\"ticks\":\"\"},\"colorscale\":[[0.0,\"#0d0887\"],[0.1111111111111111,\"#46039f\"],[0.2222222222222222,\"#7201a8\"],[0.3333333333333333,\"#9c179e\"],[0.4444444444444444,\"#bd3786\"],[0.5555555555555556,\"#d8576b\"],[0.6666666666666666,\"#ed7953\"],[0.7777777777777778,\"#fb9f3a\"],[0.8888888888888888,\"#fdca26\"],[1.0,\"#f0f921\"]],\"type\":\"contour\"}],\"contourcarpet\":[{\"colorbar\":{\"outlinewidth\":0,\"ticks\":\"\"},\"type\":\"contourcarpet\"}],\"heatmap\":[{\"colorbar\":{\"outlinewidth\":0,\"ticks\":\"\"},\"colorscale\":[[0.0,\"#0d0887\"],[0.1111111111111111,\"#46039f\"],[0.2222222222222222,\"#7201a8\"],[0.3333333333333333,\"#9c179e\"],[0.4444444444444444,\"#bd3786\"],[0.5555555555555556,\"#d8576b\"],[0.6666666666666666,\"#ed7953\"],[0.7777777777777778,\"#fb9f3a\"],[0.8888888888888888,\"#fdca26\"],[1.0,\"#f0f921\"]],\"type\":\"heatmap\"}],\"heatmapgl\":[{\"colorbar\":{\"outlinewidth\":0,\"ticks\":\"\"},\"colorscale\":[[0.0,\"#0d0887\"],[0.1111111111111111,\"#46039f\"],[0.2222222222222222,\"#7201a8\"],[0.3333333333333333,\"#9c179e\"],[0.4444444444444444,\"#bd3786\"],[0.5555555555555556,\"#d8576b\"],[0.6666666666666666,\"#ed7953\"],[0.7777777777777778,\"#fb9f3a\"],[0.8888888888888888,\"#fdca26\"],[1.0,\"#f0f921\"]],\"type\":\"heatmapgl\"}],\"histogram\":[{\"marker\":{\"pattern\":{\"fillmode\":\"overlay\",\"size\":10,\"solidity\":0.2}},\"type\":\"histogram\"}],\"histogram2d\":[{\"colorbar\":{\"outlinewidth\":0,\"ticks\":\"\"},\"colorscale\":[[0.0,\"#0d0887\"],[0.1111111111111111,\"#46039f\"],[0.2222222222222222,\"#7201a8\"],[0.3333333333333333,\"#9c179e\"],[0.4444444444444444,\"#bd3786\"],[0.5555555555555556,\"#d8576b\"],[0.6666666666666666,\"#ed7953\"],[0.7777777777777778,\"#fb9f3a\"],[0.8888888888888888,\"#fdca26\"],[1.0,\"#f0f921\"]],\"type\":\"histogram2d\"}],\"histogram2dcontour\":[{\"colorbar\":{\"outlinewidth\":0,\"ticks\":\"\"},\"colorscale\":[[0.0,\"#0d0887\"],[0.1111111111111111,\"#46039f\"],[0.2222222222222222,\"#7201a8\"],[0.3333333333333333,\"#9c179e\"],[0.4444444444444444,\"#bd3786\"],[0.5555555555555556,\"#d8576b\"],[0.6666666666666666,\"#ed7953\"],[0.7777777777777778,\"#fb9f3a\"],[0.8888888888888888,\"#fdca26\"],[1.0,\"#f0f921\"]],\"type\":\"histogram2dcontour\"}],\"mesh3d\":[{\"colorbar\":{\"outlinewidth\":0,\"ticks\":\"\"},\"type\":\"mesh3d\"}],\"parcoords\":[{\"line\":{\"colorbar\":{\"outlinewidth\":0,\"ticks\":\"\"}},\"type\":\"parcoords\"}],\"pie\":[{\"automargin\":true,\"type\":\"pie\"}],\"scatter\":[{\"marker\":{\"colorbar\":{\"outlinewidth\":0,\"ticks\":\"\"}},\"type\":\"scatter\"}],\"scatter3d\":[{\"line\":{\"colorbar\":{\"outlinewidth\":0,\"ticks\":\"\"}},\"marker\":{\"colorbar\":{\"outlinewidth\":0,\"ticks\":\"\"}},\"type\":\"scatter3d\"}],\"scattercarpet\":[{\"marker\":{\"colorbar\":{\"outlinewidth\":0,\"ticks\":\"\"}},\"type\":\"scattercarpet\"}],\"scattergeo\":[{\"marker\":{\"colorbar\":{\"outlinewidth\":0,\"ticks\":\"\"}},\"type\":\"scattergeo\"}],\"scattergl\":[{\"marker\":{\"colorbar\":{\"outlinewidth\":0,\"ticks\":\"\"}},\"type\":\"scattergl\"}],\"scattermapbox\":[{\"marker\":{\"colorbar\":{\"outlinewidth\":0,\"ticks\":\"\"}},\"type\":\"scattermapbox\"}],\"scatterpolar\":[{\"marker\":{\"colorbar\":{\"outlinewidth\":0,\"ticks\":\"\"}},\"type\":\"scatterpolar\"}],\"scatterpolargl\":[{\"marker\":{\"colorbar\":{\"outlinewidth\":0,\"ticks\":\"\"}},\"type\":\"scatterpolargl\"}],\"scatterternary\":[{\"marker\":{\"colorbar\":{\"outlinewidth\":0,\"ticks\":\"\"}},\"type\":\"scatterternary\"}],\"surface\":[{\"colorbar\":{\"outlinewidth\":0,\"ticks\":\"\"},\"colorscale\":[[0.0,\"#0d0887\"],[0.1111111111111111,\"#46039f\"],[0.2222222222222222,\"#7201a8\"],[0.3333333333333333,\"#9c179e\"],[0.4444444444444444,\"#bd3786\"],[0.5555555555555556,\"#d8576b\"],[0.6666666666666666,\"#ed7953\"],[0.7777777777777778,\"#fb9f3a\"],[0.8888888888888888,\"#fdca26\"],[1.0,\"#f0f921\"]],\"type\":\"surface\"}],\"table\":[{\"cells\":{\"fill\":{\"color\":\"#EBF0F8\"},\"line\":{\"color\":\"white\"}},\"header\":{\"fill\":{\"color\":\"#C8D4E3\"},\"line\":{\"color\":\"white\"}},\"type\":\"table\"}]},\"layout\":{\"annotationdefaults\":{\"arrowcolor\":\"#2a3f5f\",\"arrowhead\":0,\"arrowwidth\":1},\"autotypenumbers\":\"strict\",\"coloraxis\":{\"colorbar\":{\"outlinewidth\":0,\"ticks\":\"\"}},\"colorscale\":{\"diverging\":[[0,\"#8e0152\"],[0.1,\"#c51b7d\"],[0.2,\"#de77ae\"],[0.3,\"#f1b6da\"],[0.4,\"#fde0ef\"],[0.5,\"#f7f7f7\"],[0.6,\"#e6f5d0\"],[0.7,\"#b8e186\"],[0.8,\"#7fbc41\"],[0.9,\"#4d9221\"],[1,\"#276419\"]],\"sequential\":[[0.0,\"#0d0887\"],[0.1111111111111111,\"#46039f\"],[0.2222222222222222,\"#7201a8\"],[0.3333333333333333,\"#9c179e\"],[0.4444444444444444,\"#bd3786\"],[0.5555555555555556,\"#d8576b\"],[0.6666666666666666,\"#ed7953\"],[0.7777777777777778,\"#fb9f3a\"],[0.8888888888888888,\"#fdca26\"],[1.0,\"#f0f921\"]],\"sequentialminus\":[[0.0,\"#0d0887\"],[0.1111111111111111,\"#46039f\"],[0.2222222222222222,\"#7201a8\"],[0.3333333333333333,\"#9c179e\"],[0.4444444444444444,\"#bd3786\"],[0.5555555555555556,\"#d8576b\"],[0.6666666666666666,\"#ed7953\"],[0.7777777777777778,\"#fb9f3a\"],[0.8888888888888888,\"#fdca26\"],[1.0,\"#f0f921\"]]},\"colorway\":[\"#636efa\",\"#EF553B\",\"#00cc96\",\"#ab63fa\",\"#FFA15A\",\"#19d3f3\",\"#FF6692\",\"#B6E880\",\"#FF97FF\",\"#FECB52\"],\"font\":{\"color\":\"#2a3f5f\"},\"geo\":{\"bgcolor\":\"white\",\"lakecolor\":\"white\",\"landcolor\":\"#E5ECF6\",\"showlakes\":true,\"showland\":true,\"subunitcolor\":\"white\"},\"hoverlabel\":{\"align\":\"left\"},\"hovermode\":\"closest\",\"mapbox\":{\"style\":\"light\"},\"paper_bgcolor\":\"white\",\"plot_bgcolor\":\"#E5ECF6\",\"polar\":{\"angularaxis\":{\"gridcolor\":\"white\",\"linecolor\":\"white\",\"ticks\":\"\"},\"bgcolor\":\"#E5ECF6\",\"radialaxis\":{\"gridcolor\":\"white\",\"linecolor\":\"white\",\"ticks\":\"\"}},\"scene\":{\"xaxis\":{\"backgroundcolor\":\"#E5ECF6\",\"gridcolor\":\"white\",\"gridwidth\":2,\"linecolor\":\"white\",\"showbackground\":true,\"ticks\":\"\",\"zerolinecolor\":\"white\"},\"yaxis\":{\"backgroundcolor\":\"#E5ECF6\",\"gridcolor\":\"white\",\"gridwidth\":2,\"linecolor\":\"white\",\"showbackground\":true,\"ticks\":\"\",\"zerolinecolor\":\"white\"},\"zaxis\":{\"backgroundcolor\":\"#E5ECF6\",\"gridcolor\":\"white\",\"gridwidth\":2,\"linecolor\":\"white\",\"showbackground\":true,\"ticks\":\"\",\"zerolinecolor\":\"white\"}},\"shapedefaults\":{\"line\":{\"color\":\"#2a3f5f\"}},\"ternary\":{\"aaxis\":{\"gridcolor\":\"white\",\"linecolor\":\"white\",\"ticks\":\"\"},\"baxis\":{\"gridcolor\":\"white\",\"linecolor\":\"white\",\"ticks\":\"\"},\"bgcolor\":\"#E5ECF6\",\"caxis\":{\"gridcolor\":\"white\",\"linecolor\":\"white\",\"ticks\":\"\"}},\"title\":{\"x\":0.05},\"xaxis\":{\"automargin\":true,\"gridcolor\":\"white\",\"linecolor\":\"white\",\"ticks\":\"\",\"title\":{\"standoff\":15},\"zerolinecolor\":\"white\",\"zerolinewidth\":2},\"yaxis\":{\"automargin\":true,\"gridcolor\":\"white\",\"linecolor\":\"white\",\"ticks\":\"\",\"title\":{\"standoff\":15},\"zerolinecolor\":\"white\",\"zerolinewidth\":2}}},\"title\":{\"text\":\"<b style=\\\"color:#000000;\\\">Percentage of Target Variable</b>\"},\"height\":400,\"width\":400},                        {\"responsive\": true}                    ).then(function(){\n",
       "                            \n",
       "var gd = document.getElementById('1a2b7d56-0e86-4047-a3f7-c487d85a37e3');\n",
       "var x = new MutationObserver(function (mutations, observer) {{\n",
       "        var display = window.getComputedStyle(gd).display;\n",
       "        if (!display || display === 'none') {{\n",
       "            console.log([gd, 'removed!']);\n",
       "            Plotly.purge(gd);\n",
       "            observer.disconnect();\n",
       "        }}\n",
       "}});\n",
       "\n",
       "// Listen for the removal of the full notebook cells\n",
       "var notebookContainer = gd.closest('#notebook-container');\n",
       "if (notebookContainer) {{\n",
       "    x.observe(notebookContainer, {childList: true});\n",
       "}}\n",
       "\n",
       "// Listen for the clearing of the current output cell\n",
       "var outputEl = gd.closest('.output');\n",
       "if (outputEl) {{\n",
       "    x.observe(outputEl, {childList: true});\n",
       "}}\n",
       "\n",
       "                        })                };                            </script>        </div>\n",
       "</body>\n",
       "</html>"
      ]
     },
     "metadata": {},
     "output_type": "display_data"
    }
   ],
   "source": [
    "colors =['#069AF3','#FF4500','#3f88c5','#ffba08','#d00000']\n",
    "fig = go.Figure(go.Pie(labels=['Normal','Attack'],values=forensics.Status.value_counts(),name='Attack'))\n",
    "fig.update_traces(hole=.4, hoverinfo=\"label+percent\", textfont_size=16,marker={'colors':colors})\n",
    "fig.update_layout(height=400, width=400, title_text='<b style=\"color:#000000;\">Percentage of Target Variable</b>')\n",
    "fig.show()"
   ]
  },
  {
   "cell_type": "code",
   "execution_count": null,
   "metadata": {
    "id": "iYvvwXm-MdpM"
   },
   "outputs": [],
   "source": [
    "df = forensics.drop(['LAST_POLL', 'VMID', 'UUID','dom'], axis=1)"
   ]
  },
  {
   "cell_type": "code",
   "execution_count": null,
   "metadata": {
    "colab": {
     "base_uri": "https://localhost:8080/",
     "height": 1000
    },
    "executionInfo": {
     "elapsed": 391,
     "status": "ok",
     "timestamp": 1651690293898,
     "user": {
      "displayName": "Shamama Afnan",
      "userId": "18119871591444313216"
     },
     "user_tz": 420
    },
    "id": "k2dYEv-Taawg",
    "outputId": "b0765aac-47f1-4a18-af62-c7bed80d09e9"
   },
   "outputs": [
    {
     "data": {
      "text/html": [
       "\n",
       "  <div id=\"df-65ee3178-c22a-469e-8216-8c602790c073\">\n",
       "    <div class=\"colab-df-container\">\n",
       "      <div>\n",
       "<style scoped>\n",
       "    .dataframe tbody tr th:only-of-type {\n",
       "        vertical-align: middle;\n",
       "    }\n",
       "\n",
       "    .dataframe tbody tr th {\n",
       "        vertical-align: top;\n",
       "    }\n",
       "\n",
       "    .dataframe thead th {\n",
       "        text-align: right;\n",
       "    }\n",
       "</style>\n",
       "<table border=\"1\" class=\"dataframe\">\n",
       "  <thead>\n",
       "    <tr style=\"text-align: right;\">\n",
       "      <th></th>\n",
       "      <th>rxbytes_slope</th>\n",
       "      <th>rxpackets_slope</th>\n",
       "      <th>rxerrors_slope</th>\n",
       "      <th>rxdrops_slope</th>\n",
       "      <th>txbytes_slope</th>\n",
       "      <th>txpackets_slope</th>\n",
       "      <th>txerrors_slope</th>\n",
       "      <th>txdrops_slope</th>\n",
       "      <th>timecpu_slope</th>\n",
       "      <th>timesys_slope</th>\n",
       "      <th>...</th>\n",
       "      <th>vdard_bytes_slope</th>\n",
       "      <th>vdawr_reqs_slope</th>\n",
       "      <th>vdawr_bytes_slope</th>\n",
       "      <th>vdaerror_slope</th>\n",
       "      <th>hdard_req_slope</th>\n",
       "      <th>hdard_bytes_slope</th>\n",
       "      <th>hdawr_reqs_slope</th>\n",
       "      <th>hdawr_bytes_slope</th>\n",
       "      <th>hdaerror_slope</th>\n",
       "      <th>Status</th>\n",
       "    </tr>\n",
       "  </thead>\n",
       "  <tbody>\n",
       "    <tr>\n",
       "      <th>rxbytes_slope</th>\n",
       "      <td>1.000000</td>\n",
       "      <td>0.891586</td>\n",
       "      <td>NaN</td>\n",
       "      <td>NaN</td>\n",
       "      <td>0.578981</td>\n",
       "      <td>0.583399</td>\n",
       "      <td>NaN</td>\n",
       "      <td>NaN</td>\n",
       "      <td>-0.144068</td>\n",
       "      <td>-0.025594</td>\n",
       "      <td>...</td>\n",
       "      <td>0.069281</td>\n",
       "      <td>-0.084335</td>\n",
       "      <td>-0.207916</td>\n",
       "      <td>NaN</td>\n",
       "      <td>0.005258</td>\n",
       "      <td>-0.000407</td>\n",
       "      <td>NaN</td>\n",
       "      <td>NaN</td>\n",
       "      <td>NaN</td>\n",
       "      <td>0.578740</td>\n",
       "    </tr>\n",
       "    <tr>\n",
       "      <th>rxpackets_slope</th>\n",
       "      <td>0.891586</td>\n",
       "      <td>1.000000</td>\n",
       "      <td>NaN</td>\n",
       "      <td>NaN</td>\n",
       "      <td>0.576056</td>\n",
       "      <td>0.643415</td>\n",
       "      <td>NaN</td>\n",
       "      <td>NaN</td>\n",
       "      <td>-0.187989</td>\n",
       "      <td>-0.069083</td>\n",
       "      <td>...</td>\n",
       "      <td>0.056020</td>\n",
       "      <td>-0.132336</td>\n",
       "      <td>-0.252219</td>\n",
       "      <td>NaN</td>\n",
       "      <td>0.004506</td>\n",
       "      <td>-0.000433</td>\n",
       "      <td>NaN</td>\n",
       "      <td>NaN</td>\n",
       "      <td>NaN</td>\n",
       "      <td>0.648451</td>\n",
       "    </tr>\n",
       "    <tr>\n",
       "      <th>rxerrors_slope</th>\n",
       "      <td>NaN</td>\n",
       "      <td>NaN</td>\n",
       "      <td>NaN</td>\n",
       "      <td>NaN</td>\n",
       "      <td>NaN</td>\n",
       "      <td>NaN</td>\n",
       "      <td>NaN</td>\n",
       "      <td>NaN</td>\n",
       "      <td>NaN</td>\n",
       "      <td>NaN</td>\n",
       "      <td>...</td>\n",
       "      <td>NaN</td>\n",
       "      <td>NaN</td>\n",
       "      <td>NaN</td>\n",
       "      <td>NaN</td>\n",
       "      <td>NaN</td>\n",
       "      <td>NaN</td>\n",
       "      <td>NaN</td>\n",
       "      <td>NaN</td>\n",
       "      <td>NaN</td>\n",
       "      <td>NaN</td>\n",
       "    </tr>\n",
       "    <tr>\n",
       "      <th>rxdrops_slope</th>\n",
       "      <td>NaN</td>\n",
       "      <td>NaN</td>\n",
       "      <td>NaN</td>\n",
       "      <td>NaN</td>\n",
       "      <td>NaN</td>\n",
       "      <td>NaN</td>\n",
       "      <td>NaN</td>\n",
       "      <td>NaN</td>\n",
       "      <td>NaN</td>\n",
       "      <td>NaN</td>\n",
       "      <td>...</td>\n",
       "      <td>NaN</td>\n",
       "      <td>NaN</td>\n",
       "      <td>NaN</td>\n",
       "      <td>NaN</td>\n",
       "      <td>NaN</td>\n",
       "      <td>NaN</td>\n",
       "      <td>NaN</td>\n",
       "      <td>NaN</td>\n",
       "      <td>NaN</td>\n",
       "      <td>NaN</td>\n",
       "    </tr>\n",
       "    <tr>\n",
       "      <th>txbytes_slope</th>\n",
       "      <td>0.578981</td>\n",
       "      <td>0.576056</td>\n",
       "      <td>NaN</td>\n",
       "      <td>NaN</td>\n",
       "      <td>1.000000</td>\n",
       "      <td>0.718074</td>\n",
       "      <td>NaN</td>\n",
       "      <td>NaN</td>\n",
       "      <td>-0.090669</td>\n",
       "      <td>0.321457</td>\n",
       "      <td>...</td>\n",
       "      <td>0.042840</td>\n",
       "      <td>-0.142722</td>\n",
       "      <td>-0.341960</td>\n",
       "      <td>NaN</td>\n",
       "      <td>-0.017118</td>\n",
       "      <td>-0.019293</td>\n",
       "      <td>NaN</td>\n",
       "      <td>NaN</td>\n",
       "      <td>NaN</td>\n",
       "      <td>0.669029</td>\n",
       "    </tr>\n",
       "    <tr>\n",
       "      <th>txpackets_slope</th>\n",
       "      <td>0.583399</td>\n",
       "      <td>0.643415</td>\n",
       "      <td>NaN</td>\n",
       "      <td>NaN</td>\n",
       "      <td>0.718074</td>\n",
       "      <td>1.000000</td>\n",
       "      <td>NaN</td>\n",
       "      <td>NaN</td>\n",
       "      <td>-0.129637</td>\n",
       "      <td>0.494008</td>\n",
       "      <td>...</td>\n",
       "      <td>0.000598</td>\n",
       "      <td>-0.280390</td>\n",
       "      <td>-0.543437</td>\n",
       "      <td>NaN</td>\n",
       "      <td>-0.013400</td>\n",
       "      <td>-0.015102</td>\n",
       "      <td>NaN</td>\n",
       "      <td>NaN</td>\n",
       "      <td>NaN</td>\n",
       "      <td>0.982704</td>\n",
       "    </tr>\n",
       "    <tr>\n",
       "      <th>txerrors_slope</th>\n",
       "      <td>NaN</td>\n",
       "      <td>NaN</td>\n",
       "      <td>NaN</td>\n",
       "      <td>NaN</td>\n",
       "      <td>NaN</td>\n",
       "      <td>NaN</td>\n",
       "      <td>NaN</td>\n",
       "      <td>NaN</td>\n",
       "      <td>NaN</td>\n",
       "      <td>NaN</td>\n",
       "      <td>...</td>\n",
       "      <td>NaN</td>\n",
       "      <td>NaN</td>\n",
       "      <td>NaN</td>\n",
       "      <td>NaN</td>\n",
       "      <td>NaN</td>\n",
       "      <td>NaN</td>\n",
       "      <td>NaN</td>\n",
       "      <td>NaN</td>\n",
       "      <td>NaN</td>\n",
       "      <td>NaN</td>\n",
       "    </tr>\n",
       "    <tr>\n",
       "      <th>txdrops_slope</th>\n",
       "      <td>NaN</td>\n",
       "      <td>NaN</td>\n",
       "      <td>NaN</td>\n",
       "      <td>NaN</td>\n",
       "      <td>NaN</td>\n",
       "      <td>NaN</td>\n",
       "      <td>NaN</td>\n",
       "      <td>NaN</td>\n",
       "      <td>NaN</td>\n",
       "      <td>NaN</td>\n",
       "      <td>...</td>\n",
       "      <td>NaN</td>\n",
       "      <td>NaN</td>\n",
       "      <td>NaN</td>\n",
       "      <td>NaN</td>\n",
       "      <td>NaN</td>\n",
       "      <td>NaN</td>\n",
       "      <td>NaN</td>\n",
       "      <td>NaN</td>\n",
       "      <td>NaN</td>\n",
       "      <td>NaN</td>\n",
       "    </tr>\n",
       "    <tr>\n",
       "      <th>timecpu_slope</th>\n",
       "      <td>-0.144068</td>\n",
       "      <td>-0.187989</td>\n",
       "      <td>NaN</td>\n",
       "      <td>NaN</td>\n",
       "      <td>-0.090669</td>\n",
       "      <td>-0.129637</td>\n",
       "      <td>NaN</td>\n",
       "      <td>NaN</td>\n",
       "      <td>1.000000</td>\n",
       "      <td>0.007230</td>\n",
       "      <td>...</td>\n",
       "      <td>0.049312</td>\n",
       "      <td>0.227789</td>\n",
       "      <td>0.099803</td>\n",
       "      <td>NaN</td>\n",
       "      <td>0.004550</td>\n",
       "      <td>0.010084</td>\n",
       "      <td>NaN</td>\n",
       "      <td>NaN</td>\n",
       "      <td>NaN</td>\n",
       "      <td>-0.152591</td>\n",
       "    </tr>\n",
       "    <tr>\n",
       "      <th>timesys_slope</th>\n",
       "      <td>-0.025594</td>\n",
       "      <td>-0.069083</td>\n",
       "      <td>NaN</td>\n",
       "      <td>NaN</td>\n",
       "      <td>0.321457</td>\n",
       "      <td>0.494008</td>\n",
       "      <td>NaN</td>\n",
       "      <td>NaN</td>\n",
       "      <td>0.007230</td>\n",
       "      <td>1.000000</td>\n",
       "      <td>...</td>\n",
       "      <td>-0.034306</td>\n",
       "      <td>-0.163256</td>\n",
       "      <td>-0.321277</td>\n",
       "      <td>NaN</td>\n",
       "      <td>0.000534</td>\n",
       "      <td>-0.000919</td>\n",
       "      <td>NaN</td>\n",
       "      <td>NaN</td>\n",
       "      <td>NaN</td>\n",
       "      <td>0.478070</td>\n",
       "    </tr>\n",
       "    <tr>\n",
       "      <th>timeusr_slope</th>\n",
       "      <td>-0.032068</td>\n",
       "      <td>-0.066667</td>\n",
       "      <td>NaN</td>\n",
       "      <td>NaN</td>\n",
       "      <td>0.237248</td>\n",
       "      <td>0.445218</td>\n",
       "      <td>NaN</td>\n",
       "      <td>NaN</td>\n",
       "      <td>-0.015355</td>\n",
       "      <td>0.449942</td>\n",
       "      <td>...</td>\n",
       "      <td>-0.031948</td>\n",
       "      <td>-0.149872</td>\n",
       "      <td>-0.285678</td>\n",
       "      <td>NaN</td>\n",
       "      <td>0.001418</td>\n",
       "      <td>-0.001033</td>\n",
       "      <td>NaN</td>\n",
       "      <td>NaN</td>\n",
       "      <td>NaN</td>\n",
       "      <td>0.430680</td>\n",
       "    </tr>\n",
       "    <tr>\n",
       "      <th>state_slope</th>\n",
       "      <td>-0.100520</td>\n",
       "      <td>-0.028012</td>\n",
       "      <td>NaN</td>\n",
       "      <td>NaN</td>\n",
       "      <td>-0.002109</td>\n",
       "      <td>0.005109</td>\n",
       "      <td>NaN</td>\n",
       "      <td>NaN</td>\n",
       "      <td>0.009922</td>\n",
       "      <td>0.012838</td>\n",
       "      <td>...</td>\n",
       "      <td>-0.011518</td>\n",
       "      <td>-0.022075</td>\n",
       "      <td>0.003240</td>\n",
       "      <td>NaN</td>\n",
       "      <td>0.000161</td>\n",
       "      <td>0.000181</td>\n",
       "      <td>NaN</td>\n",
       "      <td>NaN</td>\n",
       "      <td>NaN</td>\n",
       "      <td>0.004155</td>\n",
       "    </tr>\n",
       "    <tr>\n",
       "      <th>memmax_slope</th>\n",
       "      <td>NaN</td>\n",
       "      <td>NaN</td>\n",
       "      <td>NaN</td>\n",
       "      <td>NaN</td>\n",
       "      <td>NaN</td>\n",
       "      <td>NaN</td>\n",
       "      <td>NaN</td>\n",
       "      <td>NaN</td>\n",
       "      <td>NaN</td>\n",
       "      <td>NaN</td>\n",
       "      <td>...</td>\n",
       "      <td>NaN</td>\n",
       "      <td>NaN</td>\n",
       "      <td>NaN</td>\n",
       "      <td>NaN</td>\n",
       "      <td>NaN</td>\n",
       "      <td>NaN</td>\n",
       "      <td>NaN</td>\n",
       "      <td>NaN</td>\n",
       "      <td>NaN</td>\n",
       "      <td>NaN</td>\n",
       "    </tr>\n",
       "    <tr>\n",
       "      <th>mem_slope</th>\n",
       "      <td>NaN</td>\n",
       "      <td>NaN</td>\n",
       "      <td>NaN</td>\n",
       "      <td>NaN</td>\n",
       "      <td>NaN</td>\n",
       "      <td>NaN</td>\n",
       "      <td>NaN</td>\n",
       "      <td>NaN</td>\n",
       "      <td>NaN</td>\n",
       "      <td>NaN</td>\n",
       "      <td>...</td>\n",
       "      <td>NaN</td>\n",
       "      <td>NaN</td>\n",
       "      <td>NaN</td>\n",
       "      <td>NaN</td>\n",
       "      <td>NaN</td>\n",
       "      <td>NaN</td>\n",
       "      <td>NaN</td>\n",
       "      <td>NaN</td>\n",
       "      <td>NaN</td>\n",
       "      <td>NaN</td>\n",
       "    </tr>\n",
       "    <tr>\n",
       "      <th>cpus_slope</th>\n",
       "      <td>NaN</td>\n",
       "      <td>NaN</td>\n",
       "      <td>NaN</td>\n",
       "      <td>NaN</td>\n",
       "      <td>NaN</td>\n",
       "      <td>NaN</td>\n",
       "      <td>NaN</td>\n",
       "      <td>NaN</td>\n",
       "      <td>NaN</td>\n",
       "      <td>NaN</td>\n",
       "      <td>...</td>\n",
       "      <td>NaN</td>\n",
       "      <td>NaN</td>\n",
       "      <td>NaN</td>\n",
       "      <td>NaN</td>\n",
       "      <td>NaN</td>\n",
       "      <td>NaN</td>\n",
       "      <td>NaN</td>\n",
       "      <td>NaN</td>\n",
       "      <td>NaN</td>\n",
       "      <td>NaN</td>\n",
       "    </tr>\n",
       "    <tr>\n",
       "      <th>cputime_slope</th>\n",
       "      <td>-0.177710</td>\n",
       "      <td>-0.221175</td>\n",
       "      <td>NaN</td>\n",
       "      <td>NaN</td>\n",
       "      <td>-0.150246</td>\n",
       "      <td>-0.216039</td>\n",
       "      <td>NaN</td>\n",
       "      <td>NaN</td>\n",
       "      <td>0.918906</td>\n",
       "      <td>-0.049789</td>\n",
       "      <td>...</td>\n",
       "      <td>0.071596</td>\n",
       "      <td>0.420300</td>\n",
       "      <td>0.152159</td>\n",
       "      <td>NaN</td>\n",
       "      <td>0.026906</td>\n",
       "      <td>0.030325</td>\n",
       "      <td>NaN</td>\n",
       "      <td>NaN</td>\n",
       "      <td>NaN</td>\n",
       "      <td>-0.241402</td>\n",
       "    </tr>\n",
       "    <tr>\n",
       "      <th>memactual_slope</th>\n",
       "      <td>NaN</td>\n",
       "      <td>NaN</td>\n",
       "      <td>NaN</td>\n",
       "      <td>NaN</td>\n",
       "      <td>NaN</td>\n",
       "      <td>NaN</td>\n",
       "      <td>NaN</td>\n",
       "      <td>NaN</td>\n",
       "      <td>NaN</td>\n",
       "      <td>NaN</td>\n",
       "      <td>...</td>\n",
       "      <td>NaN</td>\n",
       "      <td>NaN</td>\n",
       "      <td>NaN</td>\n",
       "      <td>NaN</td>\n",
       "      <td>NaN</td>\n",
       "      <td>NaN</td>\n",
       "      <td>NaN</td>\n",
       "      <td>NaN</td>\n",
       "      <td>NaN</td>\n",
       "      <td>NaN</td>\n",
       "    </tr>\n",
       "    <tr>\n",
       "      <th>memswap_in_slope</th>\n",
       "      <td>NaN</td>\n",
       "      <td>NaN</td>\n",
       "      <td>NaN</td>\n",
       "      <td>NaN</td>\n",
       "      <td>NaN</td>\n",
       "      <td>NaN</td>\n",
       "      <td>NaN</td>\n",
       "      <td>NaN</td>\n",
       "      <td>NaN</td>\n",
       "      <td>NaN</td>\n",
       "      <td>...</td>\n",
       "      <td>NaN</td>\n",
       "      <td>NaN</td>\n",
       "      <td>NaN</td>\n",
       "      <td>NaN</td>\n",
       "      <td>NaN</td>\n",
       "      <td>NaN</td>\n",
       "      <td>NaN</td>\n",
       "      <td>NaN</td>\n",
       "      <td>NaN</td>\n",
       "      <td>NaN</td>\n",
       "    </tr>\n",
       "    <tr>\n",
       "      <th>memswap_out_slope</th>\n",
       "      <td>NaN</td>\n",
       "      <td>NaN</td>\n",
       "      <td>NaN</td>\n",
       "      <td>NaN</td>\n",
       "      <td>NaN</td>\n",
       "      <td>NaN</td>\n",
       "      <td>NaN</td>\n",
       "      <td>NaN</td>\n",
       "      <td>NaN</td>\n",
       "      <td>NaN</td>\n",
       "      <td>...</td>\n",
       "      <td>NaN</td>\n",
       "      <td>NaN</td>\n",
       "      <td>NaN</td>\n",
       "      <td>NaN</td>\n",
       "      <td>NaN</td>\n",
       "      <td>NaN</td>\n",
       "      <td>NaN</td>\n",
       "      <td>NaN</td>\n",
       "      <td>NaN</td>\n",
       "      <td>NaN</td>\n",
       "    </tr>\n",
       "    <tr>\n",
       "      <th>memmajor_fault_slope</th>\n",
       "      <td>NaN</td>\n",
       "      <td>NaN</td>\n",
       "      <td>NaN</td>\n",
       "      <td>NaN</td>\n",
       "      <td>NaN</td>\n",
       "      <td>NaN</td>\n",
       "      <td>NaN</td>\n",
       "      <td>NaN</td>\n",
       "      <td>NaN</td>\n",
       "      <td>NaN</td>\n",
       "      <td>...</td>\n",
       "      <td>NaN</td>\n",
       "      <td>NaN</td>\n",
       "      <td>NaN</td>\n",
       "      <td>NaN</td>\n",
       "      <td>NaN</td>\n",
       "      <td>NaN</td>\n",
       "      <td>NaN</td>\n",
       "      <td>NaN</td>\n",
       "      <td>NaN</td>\n",
       "      <td>NaN</td>\n",
       "    </tr>\n",
       "    <tr>\n",
       "      <th>memminor_fault_slope</th>\n",
       "      <td>0.011323</td>\n",
       "      <td>0.008823</td>\n",
       "      <td>NaN</td>\n",
       "      <td>NaN</td>\n",
       "      <td>-0.007874</td>\n",
       "      <td>-0.006164</td>\n",
       "      <td>NaN</td>\n",
       "      <td>NaN</td>\n",
       "      <td>0.002315</td>\n",
       "      <td>0.007237</td>\n",
       "      <td>...</td>\n",
       "      <td>0.062255</td>\n",
       "      <td>0.000451</td>\n",
       "      <td>0.003550</td>\n",
       "      <td>NaN</td>\n",
       "      <td>0.598875</td>\n",
       "      <td>0.408282</td>\n",
       "      <td>NaN</td>\n",
       "      <td>NaN</td>\n",
       "      <td>NaN</td>\n",
       "      <td>-0.005743</td>\n",
       "    </tr>\n",
       "    <tr>\n",
       "      <th>memunused_slope</th>\n",
       "      <td>-0.011323</td>\n",
       "      <td>-0.008823</td>\n",
       "      <td>NaN</td>\n",
       "      <td>NaN</td>\n",
       "      <td>0.007874</td>\n",
       "      <td>0.006164</td>\n",
       "      <td>NaN</td>\n",
       "      <td>NaN</td>\n",
       "      <td>-0.002315</td>\n",
       "      <td>-0.007237</td>\n",
       "      <td>...</td>\n",
       "      <td>-0.062255</td>\n",
       "      <td>-0.000451</td>\n",
       "      <td>-0.003550</td>\n",
       "      <td>NaN</td>\n",
       "      <td>-0.598875</td>\n",
       "      <td>-0.408282</td>\n",
       "      <td>NaN</td>\n",
       "      <td>NaN</td>\n",
       "      <td>NaN</td>\n",
       "      <td>0.005743</td>\n",
       "    </tr>\n",
       "    <tr>\n",
       "      <th>memavailable_slope</th>\n",
       "      <td>NaN</td>\n",
       "      <td>NaN</td>\n",
       "      <td>NaN</td>\n",
       "      <td>NaN</td>\n",
       "      <td>NaN</td>\n",
       "      <td>NaN</td>\n",
       "      <td>NaN</td>\n",
       "      <td>NaN</td>\n",
       "      <td>NaN</td>\n",
       "      <td>NaN</td>\n",
       "      <td>...</td>\n",
       "      <td>NaN</td>\n",
       "      <td>NaN</td>\n",
       "      <td>NaN</td>\n",
       "      <td>NaN</td>\n",
       "      <td>NaN</td>\n",
       "      <td>NaN</td>\n",
       "      <td>NaN</td>\n",
       "      <td>NaN</td>\n",
       "      <td>NaN</td>\n",
       "      <td>NaN</td>\n",
       "    </tr>\n",
       "    <tr>\n",
       "      <th>memusable_slope</th>\n",
       "      <td>-0.011323</td>\n",
       "      <td>-0.008823</td>\n",
       "      <td>NaN</td>\n",
       "      <td>NaN</td>\n",
       "      <td>0.007874</td>\n",
       "      <td>0.006164</td>\n",
       "      <td>NaN</td>\n",
       "      <td>NaN</td>\n",
       "      <td>-0.002315</td>\n",
       "      <td>-0.007237</td>\n",
       "      <td>...</td>\n",
       "      <td>-0.062255</td>\n",
       "      <td>-0.000451</td>\n",
       "      <td>-0.003550</td>\n",
       "      <td>NaN</td>\n",
       "      <td>-0.598875</td>\n",
       "      <td>-0.408282</td>\n",
       "      <td>NaN</td>\n",
       "      <td>NaN</td>\n",
       "      <td>NaN</td>\n",
       "      <td>0.005743</td>\n",
       "    </tr>\n",
       "    <tr>\n",
       "      <th>memlast_update_slope</th>\n",
       "      <td>0.011323</td>\n",
       "      <td>0.008823</td>\n",
       "      <td>NaN</td>\n",
       "      <td>NaN</td>\n",
       "      <td>-0.007874</td>\n",
       "      <td>-0.006164</td>\n",
       "      <td>NaN</td>\n",
       "      <td>NaN</td>\n",
       "      <td>0.002315</td>\n",
       "      <td>0.007237</td>\n",
       "      <td>...</td>\n",
       "      <td>0.062255</td>\n",
       "      <td>0.000451</td>\n",
       "      <td>0.003550</td>\n",
       "      <td>NaN</td>\n",
       "      <td>0.598875</td>\n",
       "      <td>0.408282</td>\n",
       "      <td>NaN</td>\n",
       "      <td>NaN</td>\n",
       "      <td>NaN</td>\n",
       "      <td>-0.005743</td>\n",
       "    </tr>\n",
       "    <tr>\n",
       "      <th>memdisk_cache_slope</th>\n",
       "      <td>NaN</td>\n",
       "      <td>NaN</td>\n",
       "      <td>NaN</td>\n",
       "      <td>NaN</td>\n",
       "      <td>NaN</td>\n",
       "      <td>NaN</td>\n",
       "      <td>NaN</td>\n",
       "      <td>NaN</td>\n",
       "      <td>NaN</td>\n",
       "      <td>NaN</td>\n",
       "      <td>...</td>\n",
       "      <td>NaN</td>\n",
       "      <td>NaN</td>\n",
       "      <td>NaN</td>\n",
       "      <td>NaN</td>\n",
       "      <td>NaN</td>\n",
       "      <td>NaN</td>\n",
       "      <td>NaN</td>\n",
       "      <td>NaN</td>\n",
       "      <td>NaN</td>\n",
       "      <td>NaN</td>\n",
       "    </tr>\n",
       "    <tr>\n",
       "      <th>memhugetlb_pgalloc_slope</th>\n",
       "      <td>NaN</td>\n",
       "      <td>NaN</td>\n",
       "      <td>NaN</td>\n",
       "      <td>NaN</td>\n",
       "      <td>NaN</td>\n",
       "      <td>NaN</td>\n",
       "      <td>NaN</td>\n",
       "      <td>NaN</td>\n",
       "      <td>NaN</td>\n",
       "      <td>NaN</td>\n",
       "      <td>...</td>\n",
       "      <td>NaN</td>\n",
       "      <td>NaN</td>\n",
       "      <td>NaN</td>\n",
       "      <td>NaN</td>\n",
       "      <td>NaN</td>\n",
       "      <td>NaN</td>\n",
       "      <td>NaN</td>\n",
       "      <td>NaN</td>\n",
       "      <td>NaN</td>\n",
       "      <td>NaN</td>\n",
       "    </tr>\n",
       "    <tr>\n",
       "      <th>memhugetlb_pgfail_slope</th>\n",
       "      <td>NaN</td>\n",
       "      <td>NaN</td>\n",
       "      <td>NaN</td>\n",
       "      <td>NaN</td>\n",
       "      <td>NaN</td>\n",
       "      <td>NaN</td>\n",
       "      <td>NaN</td>\n",
       "      <td>NaN</td>\n",
       "      <td>NaN</td>\n",
       "      <td>NaN</td>\n",
       "      <td>...</td>\n",
       "      <td>NaN</td>\n",
       "      <td>NaN</td>\n",
       "      <td>NaN</td>\n",
       "      <td>NaN</td>\n",
       "      <td>NaN</td>\n",
       "      <td>NaN</td>\n",
       "      <td>NaN</td>\n",
       "      <td>NaN</td>\n",
       "      <td>NaN</td>\n",
       "      <td>NaN</td>\n",
       "    </tr>\n",
       "    <tr>\n",
       "      <th>memrss_slope</th>\n",
       "      <td>-0.014565</td>\n",
       "      <td>-0.019181</td>\n",
       "      <td>NaN</td>\n",
       "      <td>NaN</td>\n",
       "      <td>0.018934</td>\n",
       "      <td>-0.041107</td>\n",
       "      <td>NaN</td>\n",
       "      <td>NaN</td>\n",
       "      <td>0.095984</td>\n",
       "      <td>-0.034656</td>\n",
       "      <td>...</td>\n",
       "      <td>0.096648</td>\n",
       "      <td>0.189159</td>\n",
       "      <td>0.048387</td>\n",
       "      <td>NaN</td>\n",
       "      <td>0.031856</td>\n",
       "      <td>0.035056</td>\n",
       "      <td>NaN</td>\n",
       "      <td>NaN</td>\n",
       "      <td>NaN</td>\n",
       "      <td>-0.073111</td>\n",
       "    </tr>\n",
       "    <tr>\n",
       "      <th>vdard_req_slope</th>\n",
       "      <td>0.070868</td>\n",
       "      <td>0.063265</td>\n",
       "      <td>NaN</td>\n",
       "      <td>NaN</td>\n",
       "      <td>0.049779</td>\n",
       "      <td>0.017229</td>\n",
       "      <td>NaN</td>\n",
       "      <td>NaN</td>\n",
       "      <td>0.034039</td>\n",
       "      <td>-0.020229</td>\n",
       "      <td>...</td>\n",
       "      <td>0.682904</td>\n",
       "      <td>0.109902</td>\n",
       "      <td>0.036065</td>\n",
       "      <td>NaN</td>\n",
       "      <td>0.232231</td>\n",
       "      <td>0.258916</td>\n",
       "      <td>NaN</td>\n",
       "      <td>NaN</td>\n",
       "      <td>NaN</td>\n",
       "      <td>-0.021564</td>\n",
       "    </tr>\n",
       "    <tr>\n",
       "      <th>vdard_bytes_slope</th>\n",
       "      <td>0.069281</td>\n",
       "      <td>0.056020</td>\n",
       "      <td>NaN</td>\n",
       "      <td>NaN</td>\n",
       "      <td>0.042840</td>\n",
       "      <td>0.000598</td>\n",
       "      <td>NaN</td>\n",
       "      <td>NaN</td>\n",
       "      <td>0.049312</td>\n",
       "      <td>-0.034306</td>\n",
       "      <td>...</td>\n",
       "      <td>1.000000</td>\n",
       "      <td>0.156521</td>\n",
       "      <td>0.048667</td>\n",
       "      <td>NaN</td>\n",
       "      <td>0.135336</td>\n",
       "      <td>0.152531</td>\n",
       "      <td>NaN</td>\n",
       "      <td>NaN</td>\n",
       "      <td>NaN</td>\n",
       "      <td>-0.037424</td>\n",
       "    </tr>\n",
       "    <tr>\n",
       "      <th>vdawr_reqs_slope</th>\n",
       "      <td>-0.084335</td>\n",
       "      <td>-0.132336</td>\n",
       "      <td>NaN</td>\n",
       "      <td>NaN</td>\n",
       "      <td>-0.142722</td>\n",
       "      <td>-0.280390</td>\n",
       "      <td>NaN</td>\n",
       "      <td>NaN</td>\n",
       "      <td>0.227789</td>\n",
       "      <td>-0.163256</td>\n",
       "      <td>...</td>\n",
       "      <td>0.156521</td>\n",
       "      <td>1.000000</td>\n",
       "      <td>0.397529</td>\n",
       "      <td>NaN</td>\n",
       "      <td>-0.002598</td>\n",
       "      <td>0.010538</td>\n",
       "      <td>NaN</td>\n",
       "      <td>NaN</td>\n",
       "      <td>NaN</td>\n",
       "      <td>-0.318077</td>\n",
       "    </tr>\n",
       "    <tr>\n",
       "      <th>vdawr_bytes_slope</th>\n",
       "      <td>-0.207916</td>\n",
       "      <td>-0.252219</td>\n",
       "      <td>NaN</td>\n",
       "      <td>NaN</td>\n",
       "      <td>-0.341960</td>\n",
       "      <td>-0.543437</td>\n",
       "      <td>NaN</td>\n",
       "      <td>NaN</td>\n",
       "      <td>0.099803</td>\n",
       "      <td>-0.321277</td>\n",
       "      <td>...</td>\n",
       "      <td>0.048667</td>\n",
       "      <td>0.397529</td>\n",
       "      <td>1.000000</td>\n",
       "      <td>NaN</td>\n",
       "      <td>0.007715</td>\n",
       "      <td>0.008697</td>\n",
       "      <td>NaN</td>\n",
       "      <td>NaN</td>\n",
       "      <td>NaN</td>\n",
       "      <td>-0.548800</td>\n",
       "    </tr>\n",
       "    <tr>\n",
       "      <th>vdaerror_slope</th>\n",
       "      <td>NaN</td>\n",
       "      <td>NaN</td>\n",
       "      <td>NaN</td>\n",
       "      <td>NaN</td>\n",
       "      <td>NaN</td>\n",
       "      <td>NaN</td>\n",
       "      <td>NaN</td>\n",
       "      <td>NaN</td>\n",
       "      <td>NaN</td>\n",
       "      <td>NaN</td>\n",
       "      <td>...</td>\n",
       "      <td>NaN</td>\n",
       "      <td>NaN</td>\n",
       "      <td>NaN</td>\n",
       "      <td>NaN</td>\n",
       "      <td>NaN</td>\n",
       "      <td>NaN</td>\n",
       "      <td>NaN</td>\n",
       "      <td>NaN</td>\n",
       "      <td>NaN</td>\n",
       "      <td>NaN</td>\n",
       "    </tr>\n",
       "    <tr>\n",
       "      <th>hdard_req_slope</th>\n",
       "      <td>0.005258</td>\n",
       "      <td>0.004506</td>\n",
       "      <td>NaN</td>\n",
       "      <td>NaN</td>\n",
       "      <td>-0.017118</td>\n",
       "      <td>-0.013400</td>\n",
       "      <td>NaN</td>\n",
       "      <td>NaN</td>\n",
       "      <td>0.004550</td>\n",
       "      <td>0.000534</td>\n",
       "      <td>...</td>\n",
       "      <td>0.135336</td>\n",
       "      <td>-0.002598</td>\n",
       "      <td>0.007715</td>\n",
       "      <td>NaN</td>\n",
       "      <td>1.000000</td>\n",
       "      <td>0.887445</td>\n",
       "      <td>NaN</td>\n",
       "      <td>NaN</td>\n",
       "      <td>NaN</td>\n",
       "      <td>-0.012485</td>\n",
       "    </tr>\n",
       "    <tr>\n",
       "      <th>hdard_bytes_slope</th>\n",
       "      <td>-0.000407</td>\n",
       "      <td>-0.000433</td>\n",
       "      <td>NaN</td>\n",
       "      <td>NaN</td>\n",
       "      <td>-0.019293</td>\n",
       "      <td>-0.015102</td>\n",
       "      <td>NaN</td>\n",
       "      <td>NaN</td>\n",
       "      <td>0.010084</td>\n",
       "      <td>-0.000919</td>\n",
       "      <td>...</td>\n",
       "      <td>0.152531</td>\n",
       "      <td>0.010538</td>\n",
       "      <td>0.008697</td>\n",
       "      <td>NaN</td>\n",
       "      <td>0.887445</td>\n",
       "      <td>1.000000</td>\n",
       "      <td>NaN</td>\n",
       "      <td>NaN</td>\n",
       "      <td>NaN</td>\n",
       "      <td>-0.014071</td>\n",
       "    </tr>\n",
       "    <tr>\n",
       "      <th>hdawr_reqs_slope</th>\n",
       "      <td>NaN</td>\n",
       "      <td>NaN</td>\n",
       "      <td>NaN</td>\n",
       "      <td>NaN</td>\n",
       "      <td>NaN</td>\n",
       "      <td>NaN</td>\n",
       "      <td>NaN</td>\n",
       "      <td>NaN</td>\n",
       "      <td>NaN</td>\n",
       "      <td>NaN</td>\n",
       "      <td>...</td>\n",
       "      <td>NaN</td>\n",
       "      <td>NaN</td>\n",
       "      <td>NaN</td>\n",
       "      <td>NaN</td>\n",
       "      <td>NaN</td>\n",
       "      <td>NaN</td>\n",
       "      <td>NaN</td>\n",
       "      <td>NaN</td>\n",
       "      <td>NaN</td>\n",
       "      <td>NaN</td>\n",
       "    </tr>\n",
       "    <tr>\n",
       "      <th>hdawr_bytes_slope</th>\n",
       "      <td>NaN</td>\n",
       "      <td>NaN</td>\n",
       "      <td>NaN</td>\n",
       "      <td>NaN</td>\n",
       "      <td>NaN</td>\n",
       "      <td>NaN</td>\n",
       "      <td>NaN</td>\n",
       "      <td>NaN</td>\n",
       "      <td>NaN</td>\n",
       "      <td>NaN</td>\n",
       "      <td>...</td>\n",
       "      <td>NaN</td>\n",
       "      <td>NaN</td>\n",
       "      <td>NaN</td>\n",
       "      <td>NaN</td>\n",
       "      <td>NaN</td>\n",
       "      <td>NaN</td>\n",
       "      <td>NaN</td>\n",
       "      <td>NaN</td>\n",
       "      <td>NaN</td>\n",
       "      <td>NaN</td>\n",
       "    </tr>\n",
       "    <tr>\n",
       "      <th>hdaerror_slope</th>\n",
       "      <td>NaN</td>\n",
       "      <td>NaN</td>\n",
       "      <td>NaN</td>\n",
       "      <td>NaN</td>\n",
       "      <td>NaN</td>\n",
       "      <td>NaN</td>\n",
       "      <td>NaN</td>\n",
       "      <td>NaN</td>\n",
       "      <td>NaN</td>\n",
       "      <td>NaN</td>\n",
       "      <td>...</td>\n",
       "      <td>NaN</td>\n",
       "      <td>NaN</td>\n",
       "      <td>NaN</td>\n",
       "      <td>NaN</td>\n",
       "      <td>NaN</td>\n",
       "      <td>NaN</td>\n",
       "      <td>NaN</td>\n",
       "      <td>NaN</td>\n",
       "      <td>NaN</td>\n",
       "      <td>NaN</td>\n",
       "    </tr>\n",
       "    <tr>\n",
       "      <th>Status</th>\n",
       "      <td>0.578740</td>\n",
       "      <td>0.648451</td>\n",
       "      <td>NaN</td>\n",
       "      <td>NaN</td>\n",
       "      <td>0.669029</td>\n",
       "      <td>0.982704</td>\n",
       "      <td>NaN</td>\n",
       "      <td>NaN</td>\n",
       "      <td>-0.152591</td>\n",
       "      <td>0.478070</td>\n",
       "      <td>...</td>\n",
       "      <td>-0.037424</td>\n",
       "      <td>-0.318077</td>\n",
       "      <td>-0.548800</td>\n",
       "      <td>NaN</td>\n",
       "      <td>-0.012485</td>\n",
       "      <td>-0.014071</td>\n",
       "      <td>NaN</td>\n",
       "      <td>NaN</td>\n",
       "      <td>NaN</td>\n",
       "      <td>1.000000</td>\n",
       "    </tr>\n",
       "  </tbody>\n",
       "</table>\n",
       "<p>40 rows × 40 columns</p>\n",
       "</div>\n",
       "      <button class=\"colab-df-convert\" onclick=\"convertToInteractive('df-65ee3178-c22a-469e-8216-8c602790c073')\"\n",
       "              title=\"Convert this dataframe to an interactive table.\"\n",
       "              style=\"display:none;\">\n",
       "        \n",
       "  <svg xmlns=\"http://www.w3.org/2000/svg\" height=\"24px\"viewBox=\"0 0 24 24\"\n",
       "       width=\"24px\">\n",
       "    <path d=\"M0 0h24v24H0V0z\" fill=\"none\"/>\n",
       "    <path d=\"M18.56 5.44l.94 2.06.94-2.06 2.06-.94-2.06-.94-.94-2.06-.94 2.06-2.06.94zm-11 1L8.5 8.5l.94-2.06 2.06-.94-2.06-.94L8.5 2.5l-.94 2.06-2.06.94zm10 10l.94 2.06.94-2.06 2.06-.94-2.06-.94-.94-2.06-.94 2.06-2.06.94z\"/><path d=\"M17.41 7.96l-1.37-1.37c-.4-.4-.92-.59-1.43-.59-.52 0-1.04.2-1.43.59L10.3 9.45l-7.72 7.72c-.78.78-.78 2.05 0 2.83L4 21.41c.39.39.9.59 1.41.59.51 0 1.02-.2 1.41-.59l7.78-7.78 2.81-2.81c.8-.78.8-2.07 0-2.86zM5.41 20L4 18.59l7.72-7.72 1.47 1.35L5.41 20z\"/>\n",
       "  </svg>\n",
       "      </button>\n",
       "      \n",
       "  <style>\n",
       "    .colab-df-container {\n",
       "      display:flex;\n",
       "      flex-wrap:wrap;\n",
       "      gap: 12px;\n",
       "    }\n",
       "\n",
       "    .colab-df-convert {\n",
       "      background-color: #E8F0FE;\n",
       "      border: none;\n",
       "      border-radius: 50%;\n",
       "      cursor: pointer;\n",
       "      display: none;\n",
       "      fill: #1967D2;\n",
       "      height: 32px;\n",
       "      padding: 0 0 0 0;\n",
       "      width: 32px;\n",
       "    }\n",
       "\n",
       "    .colab-df-convert:hover {\n",
       "      background-color: #E2EBFA;\n",
       "      box-shadow: 0px 1px 2px rgba(60, 64, 67, 0.3), 0px 1px 3px 1px rgba(60, 64, 67, 0.15);\n",
       "      fill: #174EA6;\n",
       "    }\n",
       "\n",
       "    [theme=dark] .colab-df-convert {\n",
       "      background-color: #3B4455;\n",
       "      fill: #D2E3FC;\n",
       "    }\n",
       "\n",
       "    [theme=dark] .colab-df-convert:hover {\n",
       "      background-color: #434B5C;\n",
       "      box-shadow: 0px 1px 3px 1px rgba(0, 0, 0, 0.15);\n",
       "      filter: drop-shadow(0px 1px 2px rgba(0, 0, 0, 0.3));\n",
       "      fill: #FFFFFF;\n",
       "    }\n",
       "  </style>\n",
       "\n",
       "      <script>\n",
       "        const buttonEl =\n",
       "          document.querySelector('#df-65ee3178-c22a-469e-8216-8c602790c073 button.colab-df-convert');\n",
       "        buttonEl.style.display =\n",
       "          google.colab.kernel.accessAllowed ? 'block' : 'none';\n",
       "\n",
       "        async function convertToInteractive(key) {\n",
       "          const element = document.querySelector('#df-65ee3178-c22a-469e-8216-8c602790c073');\n",
       "          const dataTable =\n",
       "            await google.colab.kernel.invokeFunction('convertToInteractive',\n",
       "                                                     [key], {});\n",
       "          if (!dataTable) return;\n",
       "\n",
       "          const docLinkHtml = 'Like what you see? Visit the ' +\n",
       "            '<a target=\"_blank\" href=https://colab.research.google.com/notebooks/data_table.ipynb>data table notebook</a>'\n",
       "            + ' to learn more about interactive tables.';\n",
       "          element.innerHTML = '';\n",
       "          dataTable['output_type'] = 'display_data';\n",
       "          await google.colab.output.renderOutput(dataTable, element);\n",
       "          const docLink = document.createElement('div');\n",
       "          docLink.innerHTML = docLinkHtml;\n",
       "          element.appendChild(docLink);\n",
       "        }\n",
       "      </script>\n",
       "    </div>\n",
       "  </div>\n",
       "  "
      ],
      "text/plain": [
       "                          rxbytes_slope  rxpackets_slope  rxerrors_slope  \\\n",
       "rxbytes_slope                  1.000000         0.891586             NaN   \n",
       "rxpackets_slope                0.891586         1.000000             NaN   \n",
       "rxerrors_slope                      NaN              NaN             NaN   \n",
       "rxdrops_slope                       NaN              NaN             NaN   \n",
       "txbytes_slope                  0.578981         0.576056             NaN   \n",
       "txpackets_slope                0.583399         0.643415             NaN   \n",
       "txerrors_slope                      NaN              NaN             NaN   \n",
       "txdrops_slope                       NaN              NaN             NaN   \n",
       "timecpu_slope                 -0.144068        -0.187989             NaN   \n",
       "timesys_slope                 -0.025594        -0.069083             NaN   \n",
       "timeusr_slope                 -0.032068        -0.066667             NaN   \n",
       "state_slope                   -0.100520        -0.028012             NaN   \n",
       "memmax_slope                        NaN              NaN             NaN   \n",
       "mem_slope                           NaN              NaN             NaN   \n",
       "cpus_slope                          NaN              NaN             NaN   \n",
       "cputime_slope                 -0.177710        -0.221175             NaN   \n",
       "memactual_slope                     NaN              NaN             NaN   \n",
       "memswap_in_slope                    NaN              NaN             NaN   \n",
       "memswap_out_slope                   NaN              NaN             NaN   \n",
       "memmajor_fault_slope                NaN              NaN             NaN   \n",
       "memminor_fault_slope           0.011323         0.008823             NaN   \n",
       "memunused_slope               -0.011323        -0.008823             NaN   \n",
       "memavailable_slope                  NaN              NaN             NaN   \n",
       "memusable_slope               -0.011323        -0.008823             NaN   \n",
       "memlast_update_slope           0.011323         0.008823             NaN   \n",
       "memdisk_cache_slope                 NaN              NaN             NaN   \n",
       "memhugetlb_pgalloc_slope            NaN              NaN             NaN   \n",
       "memhugetlb_pgfail_slope             NaN              NaN             NaN   \n",
       "memrss_slope                  -0.014565        -0.019181             NaN   \n",
       "vdard_req_slope                0.070868         0.063265             NaN   \n",
       "vdard_bytes_slope              0.069281         0.056020             NaN   \n",
       "vdawr_reqs_slope              -0.084335        -0.132336             NaN   \n",
       "vdawr_bytes_slope             -0.207916        -0.252219             NaN   \n",
       "vdaerror_slope                      NaN              NaN             NaN   \n",
       "hdard_req_slope                0.005258         0.004506             NaN   \n",
       "hdard_bytes_slope             -0.000407        -0.000433             NaN   \n",
       "hdawr_reqs_slope                    NaN              NaN             NaN   \n",
       "hdawr_bytes_slope                   NaN              NaN             NaN   \n",
       "hdaerror_slope                      NaN              NaN             NaN   \n",
       "Status                         0.578740         0.648451             NaN   \n",
       "\n",
       "                          rxdrops_slope  txbytes_slope  txpackets_slope  \\\n",
       "rxbytes_slope                       NaN       0.578981         0.583399   \n",
       "rxpackets_slope                     NaN       0.576056         0.643415   \n",
       "rxerrors_slope                      NaN            NaN              NaN   \n",
       "rxdrops_slope                       NaN            NaN              NaN   \n",
       "txbytes_slope                       NaN       1.000000         0.718074   \n",
       "txpackets_slope                     NaN       0.718074         1.000000   \n",
       "txerrors_slope                      NaN            NaN              NaN   \n",
       "txdrops_slope                       NaN            NaN              NaN   \n",
       "timecpu_slope                       NaN      -0.090669        -0.129637   \n",
       "timesys_slope                       NaN       0.321457         0.494008   \n",
       "timeusr_slope                       NaN       0.237248         0.445218   \n",
       "state_slope                         NaN      -0.002109         0.005109   \n",
       "memmax_slope                        NaN            NaN              NaN   \n",
       "mem_slope                           NaN            NaN              NaN   \n",
       "cpus_slope                          NaN            NaN              NaN   \n",
       "cputime_slope                       NaN      -0.150246        -0.216039   \n",
       "memactual_slope                     NaN            NaN              NaN   \n",
       "memswap_in_slope                    NaN            NaN              NaN   \n",
       "memswap_out_slope                   NaN            NaN              NaN   \n",
       "memmajor_fault_slope                NaN            NaN              NaN   \n",
       "memminor_fault_slope                NaN      -0.007874        -0.006164   \n",
       "memunused_slope                     NaN       0.007874         0.006164   \n",
       "memavailable_slope                  NaN            NaN              NaN   \n",
       "memusable_slope                     NaN       0.007874         0.006164   \n",
       "memlast_update_slope                NaN      -0.007874        -0.006164   \n",
       "memdisk_cache_slope                 NaN            NaN              NaN   \n",
       "memhugetlb_pgalloc_slope            NaN            NaN              NaN   \n",
       "memhugetlb_pgfail_slope             NaN            NaN              NaN   \n",
       "memrss_slope                        NaN       0.018934        -0.041107   \n",
       "vdard_req_slope                     NaN       0.049779         0.017229   \n",
       "vdard_bytes_slope                   NaN       0.042840         0.000598   \n",
       "vdawr_reqs_slope                    NaN      -0.142722        -0.280390   \n",
       "vdawr_bytes_slope                   NaN      -0.341960        -0.543437   \n",
       "vdaerror_slope                      NaN            NaN              NaN   \n",
       "hdard_req_slope                     NaN      -0.017118        -0.013400   \n",
       "hdard_bytes_slope                   NaN      -0.019293        -0.015102   \n",
       "hdawr_reqs_slope                    NaN            NaN              NaN   \n",
       "hdawr_bytes_slope                   NaN            NaN              NaN   \n",
       "hdaerror_slope                      NaN            NaN              NaN   \n",
       "Status                              NaN       0.669029         0.982704   \n",
       "\n",
       "                          txerrors_slope  txdrops_slope  timecpu_slope  \\\n",
       "rxbytes_slope                        NaN            NaN      -0.144068   \n",
       "rxpackets_slope                      NaN            NaN      -0.187989   \n",
       "rxerrors_slope                       NaN            NaN            NaN   \n",
       "rxdrops_slope                        NaN            NaN            NaN   \n",
       "txbytes_slope                        NaN            NaN      -0.090669   \n",
       "txpackets_slope                      NaN            NaN      -0.129637   \n",
       "txerrors_slope                       NaN            NaN            NaN   \n",
       "txdrops_slope                        NaN            NaN            NaN   \n",
       "timecpu_slope                        NaN            NaN       1.000000   \n",
       "timesys_slope                        NaN            NaN       0.007230   \n",
       "timeusr_slope                        NaN            NaN      -0.015355   \n",
       "state_slope                          NaN            NaN       0.009922   \n",
       "memmax_slope                         NaN            NaN            NaN   \n",
       "mem_slope                            NaN            NaN            NaN   \n",
       "cpus_slope                           NaN            NaN            NaN   \n",
       "cputime_slope                        NaN            NaN       0.918906   \n",
       "memactual_slope                      NaN            NaN            NaN   \n",
       "memswap_in_slope                     NaN            NaN            NaN   \n",
       "memswap_out_slope                    NaN            NaN            NaN   \n",
       "memmajor_fault_slope                 NaN            NaN            NaN   \n",
       "memminor_fault_slope                 NaN            NaN       0.002315   \n",
       "memunused_slope                      NaN            NaN      -0.002315   \n",
       "memavailable_slope                   NaN            NaN            NaN   \n",
       "memusable_slope                      NaN            NaN      -0.002315   \n",
       "memlast_update_slope                 NaN            NaN       0.002315   \n",
       "memdisk_cache_slope                  NaN            NaN            NaN   \n",
       "memhugetlb_pgalloc_slope             NaN            NaN            NaN   \n",
       "memhugetlb_pgfail_slope              NaN            NaN            NaN   \n",
       "memrss_slope                         NaN            NaN       0.095984   \n",
       "vdard_req_slope                      NaN            NaN       0.034039   \n",
       "vdard_bytes_slope                    NaN            NaN       0.049312   \n",
       "vdawr_reqs_slope                     NaN            NaN       0.227789   \n",
       "vdawr_bytes_slope                    NaN            NaN       0.099803   \n",
       "vdaerror_slope                       NaN            NaN            NaN   \n",
       "hdard_req_slope                      NaN            NaN       0.004550   \n",
       "hdard_bytes_slope                    NaN            NaN       0.010084   \n",
       "hdawr_reqs_slope                     NaN            NaN            NaN   \n",
       "hdawr_bytes_slope                    NaN            NaN            NaN   \n",
       "hdaerror_slope                       NaN            NaN            NaN   \n",
       "Status                               NaN            NaN      -0.152591   \n",
       "\n",
       "                          timesys_slope  ...  vdard_bytes_slope  \\\n",
       "rxbytes_slope                 -0.025594  ...           0.069281   \n",
       "rxpackets_slope               -0.069083  ...           0.056020   \n",
       "rxerrors_slope                      NaN  ...                NaN   \n",
       "rxdrops_slope                       NaN  ...                NaN   \n",
       "txbytes_slope                  0.321457  ...           0.042840   \n",
       "txpackets_slope                0.494008  ...           0.000598   \n",
       "txerrors_slope                      NaN  ...                NaN   \n",
       "txdrops_slope                       NaN  ...                NaN   \n",
       "timecpu_slope                  0.007230  ...           0.049312   \n",
       "timesys_slope                  1.000000  ...          -0.034306   \n",
       "timeusr_slope                  0.449942  ...          -0.031948   \n",
       "state_slope                    0.012838  ...          -0.011518   \n",
       "memmax_slope                        NaN  ...                NaN   \n",
       "mem_slope                           NaN  ...                NaN   \n",
       "cpus_slope                          NaN  ...                NaN   \n",
       "cputime_slope                 -0.049789  ...           0.071596   \n",
       "memactual_slope                     NaN  ...                NaN   \n",
       "memswap_in_slope                    NaN  ...                NaN   \n",
       "memswap_out_slope                   NaN  ...                NaN   \n",
       "memmajor_fault_slope                NaN  ...                NaN   \n",
       "memminor_fault_slope           0.007237  ...           0.062255   \n",
       "memunused_slope               -0.007237  ...          -0.062255   \n",
       "memavailable_slope                  NaN  ...                NaN   \n",
       "memusable_slope               -0.007237  ...          -0.062255   \n",
       "memlast_update_slope           0.007237  ...           0.062255   \n",
       "memdisk_cache_slope                 NaN  ...                NaN   \n",
       "memhugetlb_pgalloc_slope            NaN  ...                NaN   \n",
       "memhugetlb_pgfail_slope             NaN  ...                NaN   \n",
       "memrss_slope                  -0.034656  ...           0.096648   \n",
       "vdard_req_slope               -0.020229  ...           0.682904   \n",
       "vdard_bytes_slope             -0.034306  ...           1.000000   \n",
       "vdawr_reqs_slope              -0.163256  ...           0.156521   \n",
       "vdawr_bytes_slope             -0.321277  ...           0.048667   \n",
       "vdaerror_slope                      NaN  ...                NaN   \n",
       "hdard_req_slope                0.000534  ...           0.135336   \n",
       "hdard_bytes_slope             -0.000919  ...           0.152531   \n",
       "hdawr_reqs_slope                    NaN  ...                NaN   \n",
       "hdawr_bytes_slope                   NaN  ...                NaN   \n",
       "hdaerror_slope                      NaN  ...                NaN   \n",
       "Status                         0.478070  ...          -0.037424   \n",
       "\n",
       "                          vdawr_reqs_slope  vdawr_bytes_slope  vdaerror_slope  \\\n",
       "rxbytes_slope                    -0.084335          -0.207916             NaN   \n",
       "rxpackets_slope                  -0.132336          -0.252219             NaN   \n",
       "rxerrors_slope                         NaN                NaN             NaN   \n",
       "rxdrops_slope                          NaN                NaN             NaN   \n",
       "txbytes_slope                    -0.142722          -0.341960             NaN   \n",
       "txpackets_slope                  -0.280390          -0.543437             NaN   \n",
       "txerrors_slope                         NaN                NaN             NaN   \n",
       "txdrops_slope                          NaN                NaN             NaN   \n",
       "timecpu_slope                     0.227789           0.099803             NaN   \n",
       "timesys_slope                    -0.163256          -0.321277             NaN   \n",
       "timeusr_slope                    -0.149872          -0.285678             NaN   \n",
       "state_slope                      -0.022075           0.003240             NaN   \n",
       "memmax_slope                           NaN                NaN             NaN   \n",
       "mem_slope                              NaN                NaN             NaN   \n",
       "cpus_slope                             NaN                NaN             NaN   \n",
       "cputime_slope                     0.420300           0.152159             NaN   \n",
       "memactual_slope                        NaN                NaN             NaN   \n",
       "memswap_in_slope                       NaN                NaN             NaN   \n",
       "memswap_out_slope                      NaN                NaN             NaN   \n",
       "memmajor_fault_slope                   NaN                NaN             NaN   \n",
       "memminor_fault_slope              0.000451           0.003550             NaN   \n",
       "memunused_slope                  -0.000451          -0.003550             NaN   \n",
       "memavailable_slope                     NaN                NaN             NaN   \n",
       "memusable_slope                  -0.000451          -0.003550             NaN   \n",
       "memlast_update_slope              0.000451           0.003550             NaN   \n",
       "memdisk_cache_slope                    NaN                NaN             NaN   \n",
       "memhugetlb_pgalloc_slope               NaN                NaN             NaN   \n",
       "memhugetlb_pgfail_slope                NaN                NaN             NaN   \n",
       "memrss_slope                      0.189159           0.048387             NaN   \n",
       "vdard_req_slope                   0.109902           0.036065             NaN   \n",
       "vdard_bytes_slope                 0.156521           0.048667             NaN   \n",
       "vdawr_reqs_slope                  1.000000           0.397529             NaN   \n",
       "vdawr_bytes_slope                 0.397529           1.000000             NaN   \n",
       "vdaerror_slope                         NaN                NaN             NaN   \n",
       "hdard_req_slope                  -0.002598           0.007715             NaN   \n",
       "hdard_bytes_slope                 0.010538           0.008697             NaN   \n",
       "hdawr_reqs_slope                       NaN                NaN             NaN   \n",
       "hdawr_bytes_slope                      NaN                NaN             NaN   \n",
       "hdaerror_slope                         NaN                NaN             NaN   \n",
       "Status                           -0.318077          -0.548800             NaN   \n",
       "\n",
       "                          hdard_req_slope  hdard_bytes_slope  \\\n",
       "rxbytes_slope                    0.005258          -0.000407   \n",
       "rxpackets_slope                  0.004506          -0.000433   \n",
       "rxerrors_slope                        NaN                NaN   \n",
       "rxdrops_slope                         NaN                NaN   \n",
       "txbytes_slope                   -0.017118          -0.019293   \n",
       "txpackets_slope                 -0.013400          -0.015102   \n",
       "txerrors_slope                        NaN                NaN   \n",
       "txdrops_slope                         NaN                NaN   \n",
       "timecpu_slope                    0.004550           0.010084   \n",
       "timesys_slope                    0.000534          -0.000919   \n",
       "timeusr_slope                    0.001418          -0.001033   \n",
       "state_slope                      0.000161           0.000181   \n",
       "memmax_slope                          NaN                NaN   \n",
       "mem_slope                             NaN                NaN   \n",
       "cpus_slope                            NaN                NaN   \n",
       "cputime_slope                    0.026906           0.030325   \n",
       "memactual_slope                       NaN                NaN   \n",
       "memswap_in_slope                      NaN                NaN   \n",
       "memswap_out_slope                     NaN                NaN   \n",
       "memmajor_fault_slope                  NaN                NaN   \n",
       "memminor_fault_slope             0.598875           0.408282   \n",
       "memunused_slope                 -0.598875          -0.408282   \n",
       "memavailable_slope                    NaN                NaN   \n",
       "memusable_slope                 -0.598875          -0.408282   \n",
       "memlast_update_slope             0.598875           0.408282   \n",
       "memdisk_cache_slope                   NaN                NaN   \n",
       "memhugetlb_pgalloc_slope              NaN                NaN   \n",
       "memhugetlb_pgfail_slope               NaN                NaN   \n",
       "memrss_slope                     0.031856           0.035056   \n",
       "vdard_req_slope                  0.232231           0.258916   \n",
       "vdard_bytes_slope                0.135336           0.152531   \n",
       "vdawr_reqs_slope                -0.002598           0.010538   \n",
       "vdawr_bytes_slope                0.007715           0.008697   \n",
       "vdaerror_slope                        NaN                NaN   \n",
       "hdard_req_slope                  1.000000           0.887445   \n",
       "hdard_bytes_slope                0.887445           1.000000   \n",
       "hdawr_reqs_slope                      NaN                NaN   \n",
       "hdawr_bytes_slope                     NaN                NaN   \n",
       "hdaerror_slope                        NaN                NaN   \n",
       "Status                          -0.012485          -0.014071   \n",
       "\n",
       "                          hdawr_reqs_slope  hdawr_bytes_slope  hdaerror_slope  \\\n",
       "rxbytes_slope                          NaN                NaN             NaN   \n",
       "rxpackets_slope                        NaN                NaN             NaN   \n",
       "rxerrors_slope                         NaN                NaN             NaN   \n",
       "rxdrops_slope                          NaN                NaN             NaN   \n",
       "txbytes_slope                          NaN                NaN             NaN   \n",
       "txpackets_slope                        NaN                NaN             NaN   \n",
       "txerrors_slope                         NaN                NaN             NaN   \n",
       "txdrops_slope                          NaN                NaN             NaN   \n",
       "timecpu_slope                          NaN                NaN             NaN   \n",
       "timesys_slope                          NaN                NaN             NaN   \n",
       "timeusr_slope                          NaN                NaN             NaN   \n",
       "state_slope                            NaN                NaN             NaN   \n",
       "memmax_slope                           NaN                NaN             NaN   \n",
       "mem_slope                              NaN                NaN             NaN   \n",
       "cpus_slope                             NaN                NaN             NaN   \n",
       "cputime_slope                          NaN                NaN             NaN   \n",
       "memactual_slope                        NaN                NaN             NaN   \n",
       "memswap_in_slope                       NaN                NaN             NaN   \n",
       "memswap_out_slope                      NaN                NaN             NaN   \n",
       "memmajor_fault_slope                   NaN                NaN             NaN   \n",
       "memminor_fault_slope                   NaN                NaN             NaN   \n",
       "memunused_slope                        NaN                NaN             NaN   \n",
       "memavailable_slope                     NaN                NaN             NaN   \n",
       "memusable_slope                        NaN                NaN             NaN   \n",
       "memlast_update_slope                   NaN                NaN             NaN   \n",
       "memdisk_cache_slope                    NaN                NaN             NaN   \n",
       "memhugetlb_pgalloc_slope               NaN                NaN             NaN   \n",
       "memhugetlb_pgfail_slope                NaN                NaN             NaN   \n",
       "memrss_slope                           NaN                NaN             NaN   \n",
       "vdard_req_slope                        NaN                NaN             NaN   \n",
       "vdard_bytes_slope                      NaN                NaN             NaN   \n",
       "vdawr_reqs_slope                       NaN                NaN             NaN   \n",
       "vdawr_bytes_slope                      NaN                NaN             NaN   \n",
       "vdaerror_slope                         NaN                NaN             NaN   \n",
       "hdard_req_slope                        NaN                NaN             NaN   \n",
       "hdard_bytes_slope                      NaN                NaN             NaN   \n",
       "hdawr_reqs_slope                       NaN                NaN             NaN   \n",
       "hdawr_bytes_slope                      NaN                NaN             NaN   \n",
       "hdaerror_slope                         NaN                NaN             NaN   \n",
       "Status                                 NaN                NaN             NaN   \n",
       "\n",
       "                            Status  \n",
       "rxbytes_slope             0.578740  \n",
       "rxpackets_slope           0.648451  \n",
       "rxerrors_slope                 NaN  \n",
       "rxdrops_slope                  NaN  \n",
       "txbytes_slope             0.669029  \n",
       "txpackets_slope           0.982704  \n",
       "txerrors_slope                 NaN  \n",
       "txdrops_slope                  NaN  \n",
       "timecpu_slope            -0.152591  \n",
       "timesys_slope             0.478070  \n",
       "timeusr_slope             0.430680  \n",
       "state_slope               0.004155  \n",
       "memmax_slope                   NaN  \n",
       "mem_slope                      NaN  \n",
       "cpus_slope                     NaN  \n",
       "cputime_slope            -0.241402  \n",
       "memactual_slope                NaN  \n",
       "memswap_in_slope               NaN  \n",
       "memswap_out_slope              NaN  \n",
       "memmajor_fault_slope           NaN  \n",
       "memminor_fault_slope     -0.005743  \n",
       "memunused_slope           0.005743  \n",
       "memavailable_slope             NaN  \n",
       "memusable_slope           0.005743  \n",
       "memlast_update_slope     -0.005743  \n",
       "memdisk_cache_slope            NaN  \n",
       "memhugetlb_pgalloc_slope       NaN  \n",
       "memhugetlb_pgfail_slope        NaN  \n",
       "memrss_slope             -0.073111  \n",
       "vdard_req_slope          -0.021564  \n",
       "vdard_bytes_slope        -0.037424  \n",
       "vdawr_reqs_slope         -0.318077  \n",
       "vdawr_bytes_slope        -0.548800  \n",
       "vdaerror_slope                 NaN  \n",
       "hdard_req_slope          -0.012485  \n",
       "hdard_bytes_slope        -0.014071  \n",
       "hdawr_reqs_slope               NaN  \n",
       "hdawr_bytes_slope              NaN  \n",
       "hdaerror_slope                 NaN  \n",
       "Status                    1.000000  \n",
       "\n",
       "[40 rows x 40 columns]"
      ]
     },
     "execution_count": 14,
     "metadata": {},
     "output_type": "execute_result"
    }
   ],
   "source": [
    "df.corr()"
   ]
  },
  {
   "cell_type": "code",
   "execution_count": null,
   "metadata": {
    "colab": {
     "base_uri": "https://localhost:8080/",
     "height": 516
    },
    "executionInfo": {
     "elapsed": 2469,
     "status": "ok",
     "timestamp": 1651690322905,
     "user": {
      "displayName": "Shamama Afnan",
      "userId": "18119871591444313216"
     },
     "user_tz": 420
    },
    "id": "mcYDdSqYMdtB",
    "outputId": "1cc1524f-15e0-4270-d415-49103dca26e0"
   },
   "outputs": [
    {
     "data": {
      "text/plain": [
       "Text(0.5, 1.0, 'Feature Correlation Heatmap')"
      ]
     },
     "execution_count": 15,
     "metadata": {},
     "output_type": "execute_result"
    },
    {
     "data": {
      "image/png": "[encoded data removed]",
      "text/plain": [
       "<Figure size 864x432 with 2 Axes>"
      ]
     },
     "metadata": {
      "needs_background": "light"
     },
     "output_type": "display_data"
    }
   ],
   "source": [
    "plt.figure(figsize=(12,6))\n",
    "sns.heatmap(round(df.drop(['rxerrors_slope', 'rxdrops_slope', 'txerrors_slope', 'txdrops_slope', 'memmax_slope',\n",
    "                     'mem_slope','cpus_slope','memactual_slope','memswap_in_slope', 'memswap_out_slope',\n",
    "                     'memmajor_fault_slope', 'memavailable_slope', 'memdisk_cache_slope','memhugetlb_pgalloc_slope',\n",
    "                     'memhugetlb_pgfail_slope', 'vdaerror_slope', 'hdawr_reqs_slope', 'hdawr_bytes_slope','hdaerror_slope' \n",
    "                     ] , axis=1).corr(), 2), linewidth=0.5,annot=True,fmt='.1g', cmap=\"viridis\")\n",
    "plt.title(\"Feature Correlation Heatmap\", fontsize = 12, pad =10, fontweight='bold')"
   ]
  },
  {
   "cell_type": "code",
   "execution_count": null,
   "metadata": {
    "id": "Q2YD1O2JMd2s"
   },
   "outputs": [],
   "source": [
    "X = df.drop(['Status'], axis=1)"
   ]
  },
  {
   "cell_type": "code",
   "execution_count": null,
   "metadata": {
    "id": "GlhuUVy1OmDv"
   },
   "outputs": [],
   "source": [
    "scaler = StandardScaler()\n",
    "scaled_X = scaler.fit_transform(X)"
   ]
  },
  {
   "cell_type": "code",
   "execution_count": null,
   "metadata": {
    "id": "7dQvEmJlOn-V"
   },
   "outputs": [],
   "source": [
    "y = df['Status']\n",
    "class_le = LabelEncoder()\n",
    "y = class_le.fit_transform(y)"
   ]
  },
  {
   "cell_type": "code",
   "execution_count": null,
   "metadata": {
    "colab": {
     "base_uri": "https://localhost:8080/"
    },
    "executionInfo": {
     "elapsed": 138,
     "status": "ok",
     "timestamp": 1651538119224,
     "user": {
      "displayName": "Shamama Afnan",
      "userId": "18119871591444313216"
     },
     "user_tz": 420
    },
    "id": "-0-T5GZ1PHQX",
    "outputId": "229de495-a741-4c28-a0da-1ce01bcd02ff"
   },
   "outputs": [
    {
     "data": {
      "text/plain": [
       "array([1, 1, 1, ..., 0, 0, 0])"
      ]
     },
     "execution_count": 181,
     "metadata": {},
     "output_type": "execute_result"
    }
   ],
   "source": [
    "y"
   ]
  },
  {
   "cell_type": "code",
   "execution_count": null,
   "metadata": {
    "id": "dNu3GHh8FVEY"
   },
   "outputs": [],
   "source": [
    "# K-means for EDA "
   ]
  },
  {
   "cell_type": "code",
   "execution_count": null,
   "metadata": {
    "colab": {
     "base_uri": "https://localhost:8080/",
     "height": 297
    },
    "executionInfo": {
     "elapsed": 3078,
     "status": "ok",
     "timestamp": 1651537234359,
     "user": {
      "displayName": "Shamama Afnan",
      "userId": "18119871591444313216"
     },
     "user_tz": 420
    },
    "id": "5T3PbEpUFVHw",
    "outputId": "84377899-f2f2-49d5-989b-e72505761b9e"
   },
   "outputs": [
    {
     "data": {
      "image/png": "[encoded data removed]",
      "text/plain": [
       "<Figure size 432x288 with 1 Axes>"
      ]
     },
     "metadata": {},
     "output_type": "display_data"
    }
   ],
   "source": [
    "# Elbow method to find the optimal value of K\n",
    "distortions = []\n",
    "for i in range(1,7):\n",
    "    km = KMeans(n_clusters=i,\n",
    "           init='k-means++',\n",
    "           n_init=10,\n",
    "           max_iter=300,\n",
    "           random_state=0)\n",
    "    km.fit_predict(X)\n",
    "    distortions.append(km.inertia_)\n",
    "plt.plot(range(1,7), distortions, marker ='o')\n",
    "plt.xlabel('Number of Clusters')\n",
    "plt.ylabel('Distortion')\n",
    "plt.tight_layout()\n",
    "plt.show()"
   ]
  },
  {
   "cell_type": "code",
   "execution_count": null,
   "metadata": {
    "id": "B8HgVJ6vFVLg"
   },
   "outputs": [],
   "source": [
    "km = KMeans(n_clusters=2,\n",
    "           init='k-means++',\n",
    "           n_init=10,\n",
    "           max_iter=300,\n",
    "           random_state=1)\n",
    "y_km = km.fit_predict(scaled_X)"
   ]
  },
  {
   "cell_type": "code",
   "execution_count": null,
   "metadata": {
    "colab": {
     "base_uri": "https://localhost:8080/"
    },
    "executionInfo": {
     "elapsed": 215,
     "status": "ok",
     "timestamp": 1651538132073,
     "user": {
      "displayName": "Shamama Afnan",
      "userId": "18119871591444313216"
     },
     "user_tz": 420
    },
    "id": "D6BznvaXFVOl",
    "outputId": "520b2765-6d11-4c0f-d2ee-91cdb6af9804"
   },
   "outputs": [
    {
     "data": {
      "text/plain": [
       "array([1, 1, 1, ..., 0, 0, 1], dtype=int32)"
      ]
     },
     "execution_count": 184,
     "metadata": {},
     "output_type": "execute_result"
    }
   ],
   "source": [
    "y_km"
   ]
  },
  {
   "cell_type": "code",
   "execution_count": null,
   "metadata": {
    "colab": {
     "base_uri": "https://localhost:8080/"
    },
    "executionInfo": {
     "elapsed": 175,
     "status": "ok",
     "timestamp": 1651538154948,
     "user": {
      "displayName": "Shamama Afnan",
      "userId": "18119871591444313216"
     },
     "user_tz": 420
    },
    "id": "PstLIt0YFVVL",
    "outputId": "825671fd-d72a-4c58-8953-8657d7fe3287"
   },
   "outputs": [
    {
     "data": {
      "text/plain": [
       "0.8661393463406996"
      ]
     },
     "execution_count": 185,
     "metadata": {},
     "output_type": "execute_result"
    }
   ],
   "source": [
    "homogeneity_score(y, y_km)"
   ]
  },
  {
   "cell_type": "code",
   "execution_count": null,
   "metadata": {
    "id": "hNoai5V8Ot2N"
   },
   "outputs": [],
   "source": [
    "#train test split\n",
    "X_train, X_test,y_train, y_test = train_test_split(scaled_X, y, test_size=0.3, random_state =1)"
   ]
  },
  {
   "cell_type": "code",
   "execution_count": null,
   "metadata": {
    "colab": {
     "base_uri": "https://localhost:8080/"
    },
    "executionInfo": {
     "elapsed": 174,
     "status": "ok",
     "timestamp": 1651535746074,
     "user": {
      "displayName": "Shamama Afnan",
      "userId": "18119871591444313216"
     },
     "user_tz": 420
    },
    "id": "2Mu7Ld8wSfSg",
    "outputId": "1d1a5b7e-7a60-4708-866b-667572f35e05"
   },
   "outputs": [
    {
     "data": {
      "text/plain": [
       "BernoulliNB(alpha=1, class_prior=[0.5, 0.5])"
      ]
     },
     "execution_count": 135,
     "metadata": {},
     "output_type": "execute_result"
    }
   ],
   "source": [
    "#Naive Bayes without Balancing\n",
    "bnb=BernoulliNB(class_prior=[0.5,0.5], alpha=1 )\n",
    "bnb.fit(X_train, y_train)"
   ]
  },
  {
   "cell_type": "code",
   "execution_count": null,
   "metadata": {
    "id": "Yqz_2grlSfV9"
   },
   "outputs": [],
   "source": [
    "y_pred_nb = bnb.predict(X_test)"
   ]
  },
  {
   "cell_type": "code",
   "execution_count": null,
   "metadata": {
    "colab": {
     "base_uri": "https://localhost:8080/"
    },
    "executionInfo": {
     "elapsed": 170,
     "status": "ok",
     "timestamp": 1651522148513,
     "user": {
      "displayName": "Deepali Zutshi",
      "userId": "10480132198327682327"
     },
     "user_tz": 420
    },
    "id": "nunz_F9wSfZV",
    "outputId": "2ea55476-35b8-493b-b0e6-05fdc6169919"
   },
   "outputs": [
    {
     "name": "stdout",
     "output_type": "stream",
     "text": [
      "Classification Report\n",
      "              precision    recall  f1-score   support\n",
      "\n",
      "           0       0.99      0.97      0.98      2191\n",
      "           1       0.90      0.98      0.94       688\n",
      "\n",
      "    accuracy                           0.97      2879\n",
      "   macro avg       0.95      0.97      0.96      2879\n",
      "weighted avg       0.97      0.97      0.97      2879\n",
      "\n"
     ]
    }
   ],
   "source": [
    "print('Classification Report')\n",
    "print(classification_report(y_test, y_pred_nb))"
   ]
  },
  {
   "cell_type": "code",
   "execution_count": null,
   "metadata": {
    "colab": {
     "base_uri": "https://localhost:8080/",
     "height": 370
    },
    "executionInfo": {
     "elapsed": 535,
     "status": "ok",
     "timestamp": 1651522152136,
     "user": {
      "displayName": "Deepali Zutshi",
      "userId": "10480132198327682327"
     },
     "user_tz": 420
    },
    "id": "adMYYlLqSfcv",
    "outputId": "72741f7b-e0c1-4f30-af40-50fcee5b450a"
   },
   "outputs": [
    {
     "name": "stderr",
     "output_type": "stream",
     "text": [
      "/usr/local/lib/python3.7/dist-packages/sklearn/utils/deprecation.py:87: FutureWarning:\n",
      "\n",
      "Function plot_confusion_matrix is deprecated; Function `plot_confusion_matrix` is deprecated in 1.0 and will be removed in 1.2. Use one of the class methods: ConfusionMatrixDisplay.from_predictions or ConfusionMatrixDisplay.from_estimator.\n",
      "\n"
     ]
    },
    {
     "data": {
      "image/png": "[encoded data removed]",
      "text/plain": [
       "<Figure size 432x288 with 2 Axes>"
      ]
     },
     "metadata": {},
     "output_type": "display_data"
    }
   ],
   "source": [
    "plot_confusion_matrix(bnb,X_test,y_test)\n",
    "plt.show()"
   ]
  },
  {
   "cell_type": "code",
   "execution_count": null,
   "metadata": {
    "colab": {
     "base_uri": "https://localhost:8080/"
    },
    "executionInfo": {
     "elapsed": 162,
     "status": "ok",
     "timestamp": 1651522155991,
     "user": {
      "displayName": "Deepali Zutshi",
      "userId": "10480132198327682327"
     },
     "user_tz": 420
    },
    "id": "84ujZFI8Sp4b",
    "outputId": "9638c9de-5653-4393-8092-49f9b1b766e0"
   },
   "outputs": [
    {
     "name": "stdout",
     "output_type": "stream",
     "text": [
      "Accuracy : 0.968739\n",
      "Precision : 0.901882\n",
      "Recall : 0.975291\n",
      "F1 : 0.937151\n",
      "kappa_statistic : 0.916389\n"
     ]
    }
   ],
   "source": [
    "# Evaluation metrics\n",
    "print('Accuracy : %3f' % accuracy_score(y_test, y_pred_nb))\n",
    "print('Precision : %3f' % precision_score(y_test, y_pred_nb))\n",
    "print('Recall : %3f' % recall_score(y_test, y_pred_nb))\n",
    "print('F1 : %3f' % f1_score(y_test, y_pred_nb))\n",
    "print('kappa_statistic : %3f' % cohen_kappa_score(y_test, y_pred_nb))"
   ]
  },
  {
   "cell_type": "code",
   "execution_count": null,
   "metadata": {
    "id": "x4_u1xGaSqH3"
   },
   "outputs": [],
   "source": []
  },
  {
   "cell_type": "code",
   "execution_count": null,
   "metadata": {
    "id": "rEJZtIXGO0Xp"
   },
   "outputs": [],
   "source": [
    "#Support Vector Machine\n",
    "svc = SVC(class_weight='balanced')"
   ]
  },
  {
   "cell_type": "code",
   "execution_count": null,
   "metadata": {
    "id": "mvxt9lXfO0al"
   },
   "outputs": [],
   "source": [
    "param_grid = {'C':[0.001,0.01,0.1,0.5,1],'gamma':['scale','auto']}\n",
    "grid = GridSearchCV(svc,param_grid)"
   ]
  },
  {
   "cell_type": "code",
   "execution_count": null,
   "metadata": {
    "colab": {
     "base_uri": "https://localhost:8080/"
    },
    "executionInfo": {
     "elapsed": 55190,
     "status": "ok",
     "timestamp": 1651522221549,
     "user": {
      "displayName": "Deepali Zutshi",
      "userId": "10480132198327682327"
     },
     "user_tz": 420
    },
    "id": "wG-7J5srO0g3",
    "outputId": "28ecbffc-14e3-4a35-90b9-c97d649e14ec"
   },
   "outputs": [
    {
     "data": {
      "text/plain": [
       "GridSearchCV(estimator=SVC(class_weight='balanced'),\n",
       "             param_grid={'C': [0.001, 0.01, 0.1, 0.5, 1],\n",
       "                         'gamma': ['scale', 'auto']})"
      ]
     },
     "execution_count": 45,
     "metadata": {},
     "output_type": "execute_result"
    }
   ],
   "source": [
    "grid.fit(X_train,y_train)"
   ]
  },
  {
   "cell_type": "code",
   "execution_count": null,
   "metadata": {
    "colab": {
     "base_uri": "https://localhost:8080/"
    },
    "executionInfo": {
     "elapsed": 169,
     "status": "ok",
     "timestamp": 1651522225598,
     "user": {
      "displayName": "Deepali Zutshi",
      "userId": "10480132198327682327"
     },
     "user_tz": 420
    },
    "id": "5r325gXmO0kS",
    "outputId": "2523b215-b85c-44b7-c409-fe4669139745"
   },
   "outputs": [
    {
     "data": {
      "text/plain": [
       "{'C': 1, 'gamma': 'scale'}"
      ]
     },
     "execution_count": 46,
     "metadata": {},
     "output_type": "execute_result"
    }
   ],
   "source": [
    "grid.best_params_"
   ]
  },
  {
   "cell_type": "code",
   "execution_count": null,
   "metadata": {
    "id": "aWmaB4STO0oN"
   },
   "outputs": [],
   "source": [
    "grid_pred = grid.predict(X_test)"
   ]
  },
  {
   "cell_type": "code",
   "execution_count": null,
   "metadata": {
    "colab": {
     "base_uri": "https://localhost:8080/"
    },
    "executionInfo": {
     "elapsed": 4,
     "status": "ok",
     "timestamp": 1651522228949,
     "user": {
      "displayName": "Deepali Zutshi",
      "userId": "10480132198327682327"
     },
     "user_tz": 420
    },
    "id": "bddyrLCHT3sX",
    "outputId": "42cdce8c-55e4-4053-fbc7-22c89eb691a0"
   },
   "outputs": [
    {
     "name": "stdout",
     "output_type": "stream",
     "text": [
      "              precision    recall  f1-score   support\n",
      "\n",
      "           0       1.00      1.00      1.00      2191\n",
      "           1       0.99      1.00      0.99       688\n",
      "\n",
      "    accuracy                           1.00      2879\n",
      "   macro avg       0.99      1.00      1.00      2879\n",
      "weighted avg       1.00      1.00      1.00      2879\n",
      "\n"
     ]
    }
   ],
   "source": [
    "print(classification_report(y_test,grid_pred))"
   ]
  },
  {
   "cell_type": "code",
   "execution_count": null,
   "metadata": {
    "colab": {
     "base_uri": "https://localhost:8080/",
     "height": 388
    },
    "executionInfo": {
     "elapsed": 704,
     "status": "ok",
     "timestamp": 1651522234208,
     "user": {
      "displayName": "Deepali Zutshi",
      "userId": "10480132198327682327"
     },
     "user_tz": 420
    },
    "id": "2SKBYGOiT3vt",
    "outputId": "358de2dc-6a41-4d51-d9e7-0c040662fdf0"
   },
   "outputs": [
    {
     "name": "stderr",
     "output_type": "stream",
     "text": [
      "/usr/local/lib/python3.7/dist-packages/sklearn/utils/deprecation.py:87: FutureWarning:\n",
      "\n",
      "Function plot_confusion_matrix is deprecated; Function `plot_confusion_matrix` is deprecated in 1.0 and will be removed in 1.2. Use one of the class methods: ConfusionMatrixDisplay.from_predictions or ConfusionMatrixDisplay.from_estimator.\n",
      "\n"
     ]
    },
    {
     "data": {
      "text/plain": [
       "<sklearn.metrics._plot.confusion_matrix.ConfusionMatrixDisplay at 0x7f6f1e488850>"
      ]
     },
     "execution_count": 49,
     "metadata": {},
     "output_type": "execute_result"
    },
    {
     "data": {
      "image/png": "[encoded data removed]",
      "text/plain": [
       "<Figure size 432x288 with 2 Axes>"
      ]
     },
     "metadata": {},
     "output_type": "display_data"
    }
   ],
   "source": [
    "plot_confusion_matrix(grid,X_test,y_test)"
   ]
  },
  {
   "cell_type": "code",
   "execution_count": null,
   "metadata": {
    "colab": {
     "base_uri": "https://localhost:8080/"
    },
    "executionInfo": {
     "elapsed": 170,
     "status": "ok",
     "timestamp": 1651522237533,
     "user": {
      "displayName": "Deepali Zutshi",
      "userId": "10480132198327682327"
     },
     "user_tz": 420
    },
    "id": "SZPwj7riT3zp",
    "outputId": "46121241-3bea-4d53-bb3a-017de54d42d4"
   },
   "outputs": [
    {
     "name": "stdout",
     "output_type": "stream",
     "text": [
      "Accuracy : 0.997221\n",
      "Precision : 0.989914\n",
      "Recall : 0.998547\n",
      "F1 : 0.994211\n",
      "kappa_statistic : 0.992383\n"
     ]
    }
   ],
   "source": [
    "# Evaluation metrics\n",
    "print('Accuracy : %3f' % accuracy_score(y_test, grid_pred))\n",
    "print('Precision : %3f' % precision_score(y_test, grid_pred))\n",
    "print('Recall : %3f' % recall_score(y_test, grid_pred))\n",
    "print('F1 : %3f' % f1_score(y_test, grid_pred))\n",
    "print('kappa_statistic : %3f' % cohen_kappa_score(y_test, grid_pred))"
   ]
  },
  {
   "cell_type": "code",
   "execution_count": null,
   "metadata": {
    "id": "pDldLKVcWOQS"
   },
   "outputs": [],
   "source": [
    "#Decision Tree Model\n",
    "from sklearn import tree\n",
    "from sklearn.tree import DecisionTreeClassifier\n",
    "\n",
    "dtmodel = DecisionTreeClassifier().fit(X_train,y_train)\n",
    "y_pred_dt = dtmodel.predict(X_test)"
   ]
  },
  {
   "cell_type": "code",
   "execution_count": null,
   "metadata": {
    "colab": {
     "base_uri": "https://localhost:8080/",
     "height": 444
    },
    "executionInfo": {
     "elapsed": 861,
     "status": "ok",
     "timestamp": 1651522257856,
     "user": {
      "displayName": "Deepali Zutshi",
      "userId": "10480132198327682327"
     },
     "user_tz": 420
    },
    "id": "WNgaVtMnWOaz",
    "outputId": "27e37fee-2633-479b-a1d5-90f1899af86f"
   },
   "outputs": [
    {
     "data": {
      "text/plain": [
       "[Text(0.5, 0.9, 'X[5] <= 1.22\\ngini = 0.366\\nsamples = 6715\\nvalue = [5097, 1618]'),\n",
       " Text(0.25, 0.7, 'X[28] <= 1.871\\ngini = 0.0\\nsamples = 5071\\nvalue = [5070, 1]'),\n",
       " Text(0.125, 0.5, 'gini = 0.0\\nsamples = 4640\\nvalue = [4640, 0]'),\n",
       " Text(0.375, 0.5, 'X[28] <= 1.895\\ngini = 0.005\\nsamples = 431\\nvalue = [430, 1]'),\n",
       " Text(0.25, 0.3, 'X[31] <= 0.129\\ngini = 0.32\\nsamples = 5\\nvalue = [4, 1]'),\n",
       " Text(0.125, 0.1, 'gini = 0.0\\nsamples = 1\\nvalue = [0, 1]'),\n",
       " Text(0.375, 0.1, 'gini = 0.0\\nsamples = 4\\nvalue = [4, 0]'),\n",
       " Text(0.5, 0.3, 'gini = 0.0\\nsamples = 426\\nvalue = [426, 0]'),\n",
       " Text(0.75, 0.7, 'X[0] <= 2.243\\ngini = 0.032\\nsamples = 1644\\nvalue = [27, 1617]'),\n",
       " Text(0.625, 0.5, 'gini = 0.0\\nsamples = 1617\\nvalue = [0, 1617]'),\n",
       " Text(0.875, 0.5, 'gini = 0.0\\nsamples = 27\\nvalue = [27, 0]')]"
      ]
     },
     "execution_count": 53,
     "metadata": {},
     "output_type": "execute_result"
    },
    {
     "data": {
      "image/png": "[encoded data removed]",
      "text/plain": [
       "<Figure size 432x288 with 1 Axes>"
      ]
     },
     "metadata": {},
     "output_type": "display_data"
    }
   ],
   "source": [
    "tree.plot_tree(dtmodel)"
   ]
  },
  {
   "cell_type": "code",
   "execution_count": null,
   "metadata": {
    "id": "K1DI4Gz0ZdXy"
   },
   "outputs": [],
   "source": [
    "accuracy = accuracy_score(y_test,y_pred_dt)\n",
    "c_report = classification_report(y_pred_dt, y_test)\n",
    "c_matrix = confusion_matrix(y_test, y_pred_dt)"
   ]
  },
  {
   "cell_type": "code",
   "execution_count": null,
   "metadata": {
    "colab": {
     "base_uri": "https://localhost:8080/"
    },
    "executionInfo": {
     "elapsed": 167,
     "status": "ok",
     "timestamp": 1651522322704,
     "user": {
      "displayName": "Deepali Zutshi",
      "userId": "10480132198327682327"
     },
     "user_tz": 420
    },
    "id": "rC4jqkYOZq0N",
    "outputId": "e9c8d542-04e2-45f2-a746-e9155f7340cc"
   },
   "outputs": [
    {
     "name": "stdout",
     "output_type": "stream",
     "text": [
      "Classification report:\n",
      "Accuracy:  0.9986106286905175\n",
      "              precision    recall  f1-score   support\n",
      "\n",
      "           0       1.00      1.00      1.00      2193\n",
      "           1       1.00      1.00      1.00       686\n",
      "\n",
      "    accuracy                           1.00      2879\n",
      "   macro avg       1.00      1.00      1.00      2879\n",
      "weighted avg       1.00      1.00      1.00      2879\n",
      "\n",
      "Confusion matrix:\n",
      "[[2190    1]\n",
      " [   3  685]]\n"
     ]
    }
   ],
   "source": [
    "print(\"Classification report:\")\n",
    "print(\"Accuracy: \", accuracy)\n",
    "print(c_report)\n",
    "print(\"Confusion matrix:\")\n",
    "print(c_matrix)"
   ]
  },
  {
   "cell_type": "code",
   "execution_count": null,
   "metadata": {
    "colab": {
     "base_uri": "https://localhost:8080/",
     "height": 388
    },
    "executionInfo": {
     "elapsed": 1047,
     "status": "ok",
     "timestamp": 1651523413107,
     "user": {
      "displayName": "Deepali Zutshi",
      "userId": "10480132198327682327"
     },
     "user_tz": 420
    },
    "id": "L65Ui2ULZwI7",
    "outputId": "e0034372-1c4a-4cd3-a546-8c4b1e20cd12"
   },
   "outputs": [
    {
     "name": "stderr",
     "output_type": "stream",
     "text": [
      "/usr/local/lib/python3.7/dist-packages/sklearn/utils/deprecation.py:87: FutureWarning:\n",
      "\n",
      "Function plot_confusion_matrix is deprecated; Function `plot_confusion_matrix` is deprecated in 1.0 and will be removed in 1.2. Use one of the class methods: ConfusionMatrixDisplay.from_predictions or ConfusionMatrixDisplay.from_estimator.\n",
      "\n"
     ]
    },
    {
     "data": {
      "text/plain": [
       "<sklearn.metrics._plot.confusion_matrix.ConfusionMatrixDisplay at 0x7f6f1d7a8b90>"
      ]
     },
     "execution_count": 85,
     "metadata": {},
     "output_type": "execute_result"
    },
    {
     "data": {
      "image/png": "[encoded data removed]",
      "text/plain": [
       "<Figure size 432x288 with 2 Axes>"
      ]
     },
     "metadata": {},
     "output_type": "display_data"
    }
   ],
   "source": [
    "plot_confusion_matrix(dtmodel,X_test,y_test)"
   ]
  },
  {
   "cell_type": "code",
   "execution_count": null,
   "metadata": {
    "id": "wIkcCCj4Zr47"
   },
   "outputs": [],
   "source": [
    "#Random Oversampling of Data"
   ]
  },
  {
   "cell_type": "code",
   "execution_count": null,
   "metadata": {
    "id": "PemUkHmrZ1NK"
   },
   "outputs": [],
   "source": [
    "count_class_0,count_class_1=forensics.Status.value_counts()\n",
    "df_class_0=forensics[forensics['Status']==\"Normal\"]\n",
    "df_class_1=forensics[forensics['Status']==\"Attack\"]"
   ]
  },
  {
   "cell_type": "code",
   "execution_count": null,
   "metadata": {
    "id": "loUtBr2EaERg"
   },
   "outputs": [],
   "source": [
    "df_class_1_over=df_class_1.sample(count_class_0, replace=True)\n",
    "df_over=pd.concat([df_class_0,df_class_1_over],axis=0)"
   ]
  },
  {
   "cell_type": "code",
   "execution_count": null,
   "metadata": {
    "colab": {
     "base_uri": "https://localhost:8080/"
    },
    "executionInfo": {
     "elapsed": 135,
     "status": "ok",
     "timestamp": 1651542237974,
     "user": {
      "displayName": "Deepali Zutshi",
      "userId": "10480132198327682327"
     },
     "user_tz": 420
    },
    "id": "5TYNGwLCaMFp",
    "outputId": "d0f4feb5-b29c-4cab-8470-7560b946d905"
   },
   "outputs": [
    {
     "name": "stdout",
     "output_type": "stream",
     "text": [
      "Random Over Sampling: \n",
      "Normal    7288\n",
      "Attack    7288\n",
      "Name: Status, dtype: int64\n"
     ]
    }
   ],
   "source": [
    "print(\"Random Over Sampling: \")\n",
    "print(df_over.Status.value_counts())"
   ]
  },
  {
   "cell_type": "code",
   "execution_count": null,
   "metadata": {
    "colab": {
     "base_uri": "https://localhost:8080/",
     "height": 417
    },
    "executionInfo": {
     "elapsed": 150,
     "status": "ok",
     "timestamp": 1651542242531,
     "user": {
      "displayName": "Deepali Zutshi",
      "userId": "10480132198327682327"
     },
     "user_tz": 420
    },
    "id": "chtUdJnaaPNF",
    "outputId": "a79b332f-0b70-467f-f6b5-0d71942accdf"
   },
   "outputs": [
    {
     "data": {
      "text/html": [
       "<html>\n",
       "<head><meta charset=\"utf-8\" /></head>\n",
       "<body>\n",
       "    <div>            <script src=\"https://cdnjs.cloudflare.com/ajax/libs/mathjax/2.7.5/MathJax.js?config=TeX-AMS-MML_SVG\"></script><script type=\"text/javascript\">if (window.MathJax) {MathJax.Hub.Config({SVG: {font: \"STIX-Web\"}});}</script>                <script type=\"text/javascript\">window.PlotlyConfig = {MathJaxConfig: 'local'};</script>\n",
       "        <script src=\"https://cdn.plot.ly/plotly-2.8.3.min.js\"></script>                <div id=\"ed579dd3-5fcb-45bf-830b-ff50beafa11a\" class=\"plotly-graph-div\" style=\"height:400px; width:400px;\"></div>            <script type=\"text/javascript\">                                    window.PLOTLYENV=window.PLOTLYENV || {};                                    if (document.getElementById(\"ed579dd3-5fcb-45bf-830b-ff50beafa11a\")) {                    Plotly.newPlot(                        \"ed579dd3-5fcb-45bf-830b-ff50beafa11a\",                        [{\"labels\":[\"Normal\",\"Attack\"],\"name\":\"Attack\",\"values\":[7288,7288],\"type\":\"pie\",\"textfont\":{\"size\":16},\"marker\":{\"colors\":[\"#069AF3\",\"#FF4500\",\"#3f88c5\",\"#ffba08\",\"#d00000\"]},\"hole\":0.4,\"hoverinfo\":\"label+percent\"}],                        {\"template\":{\"data\":{\"bar\":[{\"error_x\":{\"color\":\"#2a3f5f\"},\"error_y\":{\"color\":\"#2a3f5f\"},\"marker\":{\"line\":{\"color\":\"#E5ECF6\",\"width\":0.5},\"pattern\":{\"fillmode\":\"overlay\",\"size\":10,\"solidity\":0.2}},\"type\":\"bar\"}],\"barpolar\":[{\"marker\":{\"line\":{\"color\":\"#E5ECF6\",\"width\":0.5},\"pattern\":{\"fillmode\":\"overlay\",\"size\":10,\"solidity\":0.2}},\"type\":\"barpolar\"}],\"carpet\":[{\"aaxis\":{\"endlinecolor\":\"#2a3f5f\",\"gridcolor\":\"white\",\"linecolor\":\"white\",\"minorgridcolor\":\"white\",\"startlinecolor\":\"#2a3f5f\"},\"baxis\":{\"endlinecolor\":\"#2a3f5f\",\"gridcolor\":\"white\",\"linecolor\":\"white\",\"minorgridcolor\":\"white\",\"startlinecolor\":\"#2a3f5f\"},\"type\":\"carpet\"}],\"choropleth\":[{\"colorbar\":{\"outlinewidth\":0,\"ticks\":\"\"},\"type\":\"choropleth\"}],\"contour\":[{\"colorbar\":{\"outlinewidth\":0,\"ticks\":\"\"},\"colorscale\":[[0.0,\"#0d0887\"],[0.1111111111111111,\"#46039f\"],[0.2222222222222222,\"#7201a8\"],[0.3333333333333333,\"#9c179e\"],[0.4444444444444444,\"#bd3786\"],[0.5555555555555556,\"#d8576b\"],[0.6666666666666666,\"#ed7953\"],[0.7777777777777778,\"#fb9f3a\"],[0.8888888888888888,\"#fdca26\"],[1.0,\"#f0f921\"]],\"type\":\"contour\"}],\"contourcarpet\":[{\"colorbar\":{\"outlinewidth\":0,\"ticks\":\"\"},\"type\":\"contourcarpet\"}],\"heatmap\":[{\"colorbar\":{\"outlinewidth\":0,\"ticks\":\"\"},\"colorscale\":[[0.0,\"#0d0887\"],[0.1111111111111111,\"#46039f\"],[0.2222222222222222,\"#7201a8\"],[0.3333333333333333,\"#9c179e\"],[0.4444444444444444,\"#bd3786\"],[0.5555555555555556,\"#d8576b\"],[0.6666666666666666,\"#ed7953\"],[0.7777777777777778,\"#fb9f3a\"],[0.8888888888888888,\"#fdca26\"],[1.0,\"#f0f921\"]],\"type\":\"heatmap\"}],\"heatmapgl\":[{\"colorbar\":{\"outlinewidth\":0,\"ticks\":\"\"},\"colorscale\":[[0.0,\"#0d0887\"],[0.1111111111111111,\"#46039f\"],[0.2222222222222222,\"#7201a8\"],[0.3333333333333333,\"#9c179e\"],[0.4444444444444444,\"#bd3786\"],[0.5555555555555556,\"#d8576b\"],[0.6666666666666666,\"#ed7953\"],[0.7777777777777778,\"#fb9f3a\"],[0.8888888888888888,\"#fdca26\"],[1.0,\"#f0f921\"]],\"type\":\"heatmapgl\"}],\"histogram\":[{\"marker\":{\"pattern\":{\"fillmode\":\"overlay\",\"size\":10,\"solidity\":0.2}},\"type\":\"histogram\"}],\"histogram2d\":[{\"colorbar\":{\"outlinewidth\":0,\"ticks\":\"\"},\"colorscale\":[[0.0,\"#0d0887\"],[0.1111111111111111,\"#46039f\"],[0.2222222222222222,\"#7201a8\"],[0.3333333333333333,\"#9c179e\"],[0.4444444444444444,\"#bd3786\"],[0.5555555555555556,\"#d8576b\"],[0.6666666666666666,\"#ed7953\"],[0.7777777777777778,\"#fb9f3a\"],[0.8888888888888888,\"#fdca26\"],[1.0,\"#f0f921\"]],\"type\":\"histogram2d\"}],\"histogram2dcontour\":[{\"colorbar\":{\"outlinewidth\":0,\"ticks\":\"\"},\"colorscale\":[[0.0,\"#0d0887\"],[0.1111111111111111,\"#46039f\"],[0.2222222222222222,\"#7201a8\"],[0.3333333333333333,\"#9c179e\"],[0.4444444444444444,\"#bd3786\"],[0.5555555555555556,\"#d8576b\"],[0.6666666666666666,\"#ed7953\"],[0.7777777777777778,\"#fb9f3a\"],[0.8888888888888888,\"#fdca26\"],[1.0,\"#f0f921\"]],\"type\":\"histogram2dcontour\"}],\"mesh3d\":[{\"colorbar\":{\"outlinewidth\":0,\"ticks\":\"\"},\"type\":\"mesh3d\"}],\"parcoords\":[{\"line\":{\"colorbar\":{\"outlinewidth\":0,\"ticks\":\"\"}},\"type\":\"parcoords\"}],\"pie\":[{\"automargin\":true,\"type\":\"pie\"}],\"scatter\":[{\"marker\":{\"colorbar\":{\"outlinewidth\":0,\"ticks\":\"\"}},\"type\":\"scatter\"}],\"scatter3d\":[{\"line\":{\"colorbar\":{\"outlinewidth\":0,\"ticks\":\"\"}},\"marker\":{\"colorbar\":{\"outlinewidth\":0,\"ticks\":\"\"}},\"type\":\"scatter3d\"}],\"scattercarpet\":[{\"marker\":{\"colorbar\":{\"outlinewidth\":0,\"ticks\":\"\"}},\"type\":\"scattercarpet\"}],\"scattergeo\":[{\"marker\":{\"colorbar\":{\"outlinewidth\":0,\"ticks\":\"\"}},\"type\":\"scattergeo\"}],\"scattergl\":[{\"marker\":{\"colorbar\":{\"outlinewidth\":0,\"ticks\":\"\"}},\"type\":\"scattergl\"}],\"scattermapbox\":[{\"marker\":{\"colorbar\":{\"outlinewidth\":0,\"ticks\":\"\"}},\"type\":\"scattermapbox\"}],\"scatterpolar\":[{\"marker\":{\"colorbar\":{\"outlinewidth\":0,\"ticks\":\"\"}},\"type\":\"scatterpolar\"}],\"scatterpolargl\":[{\"marker\":{\"colorbar\":{\"outlinewidth\":0,\"ticks\":\"\"}},\"type\":\"scatterpolargl\"}],\"scatterternary\":[{\"marker\":{\"colorbar\":{\"outlinewidth\":0,\"ticks\":\"\"}},\"type\":\"scatterternary\"}],\"surface\":[{\"colorbar\":{\"outlinewidth\":0,\"ticks\":\"\"},\"colorscale\":[[0.0,\"#0d0887\"],[0.1111111111111111,\"#46039f\"],[0.2222222222222222,\"#7201a8\"],[0.3333333333333333,\"#9c179e\"],[0.4444444444444444,\"#bd3786\"],[0.5555555555555556,\"#d8576b\"],[0.6666666666666666,\"#ed7953\"],[0.7777777777777778,\"#fb9f3a\"],[0.8888888888888888,\"#fdca26\"],[1.0,\"#f0f921\"]],\"type\":\"surface\"}],\"table\":[{\"cells\":{\"fill\":{\"color\":\"#EBF0F8\"},\"line\":{\"color\":\"white\"}},\"header\":{\"fill\":{\"color\":\"#C8D4E3\"},\"line\":{\"color\":\"white\"}},\"type\":\"table\"}]},\"layout\":{\"annotationdefaults\":{\"arrowcolor\":\"#2a3f5f\",\"arrowhead\":0,\"arrowwidth\":1},\"autotypenumbers\":\"strict\",\"coloraxis\":{\"colorbar\":{\"outlinewidth\":0,\"ticks\":\"\"}},\"colorscale\":{\"diverging\":[[0,\"#8e0152\"],[0.1,\"#c51b7d\"],[0.2,\"#de77ae\"],[0.3,\"#f1b6da\"],[0.4,\"#fde0ef\"],[0.5,\"#f7f7f7\"],[0.6,\"#e6f5d0\"],[0.7,\"#b8e186\"],[0.8,\"#7fbc41\"],[0.9,\"#4d9221\"],[1,\"#276419\"]],\"sequential\":[[0.0,\"#0d0887\"],[0.1111111111111111,\"#46039f\"],[0.2222222222222222,\"#7201a8\"],[0.3333333333333333,\"#9c179e\"],[0.4444444444444444,\"#bd3786\"],[0.5555555555555556,\"#d8576b\"],[0.6666666666666666,\"#ed7953\"],[0.7777777777777778,\"#fb9f3a\"],[0.8888888888888888,\"#fdca26\"],[1.0,\"#f0f921\"]],\"sequentialminus\":[[0.0,\"#0d0887\"],[0.1111111111111111,\"#46039f\"],[0.2222222222222222,\"#7201a8\"],[0.3333333333333333,\"#9c179e\"],[0.4444444444444444,\"#bd3786\"],[0.5555555555555556,\"#d8576b\"],[0.6666666666666666,\"#ed7953\"],[0.7777777777777778,\"#fb9f3a\"],[0.8888888888888888,\"#fdca26\"],[1.0,\"#f0f921\"]]},\"colorway\":[\"#636efa\",\"#EF553B\",\"#00cc96\",\"#ab63fa\",\"#FFA15A\",\"#19d3f3\",\"#FF6692\",\"#B6E880\",\"#FF97FF\",\"#FECB52\"],\"font\":{\"color\":\"#2a3f5f\"},\"geo\":{\"bgcolor\":\"white\",\"lakecolor\":\"white\",\"landcolor\":\"#E5ECF6\",\"showlakes\":true,\"showland\":true,\"subunitcolor\":\"white\"},\"hoverlabel\":{\"align\":\"left\"},\"hovermode\":\"closest\",\"mapbox\":{\"style\":\"light\"},\"paper_bgcolor\":\"white\",\"plot_bgcolor\":\"#E5ECF6\",\"polar\":{\"angularaxis\":{\"gridcolor\":\"white\",\"linecolor\":\"white\",\"ticks\":\"\"},\"bgcolor\":\"#E5ECF6\",\"radialaxis\":{\"gridcolor\":\"white\",\"linecolor\":\"white\",\"ticks\":\"\"}},\"scene\":{\"xaxis\":{\"backgroundcolor\":\"#E5ECF6\",\"gridcolor\":\"white\",\"gridwidth\":2,\"linecolor\":\"white\",\"showbackground\":true,\"ticks\":\"\",\"zerolinecolor\":\"white\"},\"yaxis\":{\"backgroundcolor\":\"#E5ECF6\",\"gridcolor\":\"white\",\"gridwidth\":2,\"linecolor\":\"white\",\"showbackground\":true,\"ticks\":\"\",\"zerolinecolor\":\"white\"},\"zaxis\":{\"backgroundcolor\":\"#E5ECF6\",\"gridcolor\":\"white\",\"gridwidth\":2,\"linecolor\":\"white\",\"showbackground\":true,\"ticks\":\"\",\"zerolinecolor\":\"white\"}},\"shapedefaults\":{\"line\":{\"color\":\"#2a3f5f\"}},\"ternary\":{\"aaxis\":{\"gridcolor\":\"white\",\"linecolor\":\"white\",\"ticks\":\"\"},\"baxis\":{\"gridcolor\":\"white\",\"linecolor\":\"white\",\"ticks\":\"\"},\"bgcolor\":\"#E5ECF6\",\"caxis\":{\"gridcolor\":\"white\",\"linecolor\":\"white\",\"ticks\":\"\"}},\"title\":{\"x\":0.05},\"xaxis\":{\"automargin\":true,\"gridcolor\":\"white\",\"linecolor\":\"white\",\"ticks\":\"\",\"title\":{\"standoff\":15},\"zerolinecolor\":\"white\",\"zerolinewidth\":2},\"yaxis\":{\"automargin\":true,\"gridcolor\":\"white\",\"linecolor\":\"white\",\"ticks\":\"\",\"title\":{\"standoff\":15},\"zerolinecolor\":\"white\",\"zerolinewidth\":2}}},\"title\":{\"text\":\"<b style=\\\"color:#000000;\\\">Percentage of Target Variable</b>\"},\"height\":400,\"width\":400},                        {\"responsive\": true}                    ).then(function(){\n",
       "                            \n",
       "var gd = document.getElementById('ed579dd3-5fcb-45bf-830b-ff50beafa11a');\n",
       "var x = new MutationObserver(function (mutations, observer) {{\n",
       "        var display = window.getComputedStyle(gd).display;\n",
       "        if (!display || display === 'none') {{\n",
       "            console.log([gd, 'removed!']);\n",
       "            Plotly.purge(gd);\n",
       "            observer.disconnect();\n",
       "        }}\n",
       "}});\n",
       "\n",
       "// Listen for the removal of the full notebook cells\n",
       "var notebookContainer = gd.closest('#notebook-container');\n",
       "if (notebookContainer) {{\n",
       "    x.observe(notebookContainer, {childList: true});\n",
       "}}\n",
       "\n",
       "// Listen for the clearing of the current output cell\n",
       "var outputEl = gd.closest('.output');\n",
       "if (outputEl) {{\n",
       "    x.observe(outputEl, {childList: true});\n",
       "}}\n",
       "\n",
       "                        })                };                            </script>        </div>\n",
       "</body>\n",
       "</html>"
      ]
     },
     "metadata": {},
     "output_type": "display_data"
    }
   ],
   "source": [
    "colors =['#069AF3','#FF4500','#3f88c5','#ffba08','#d00000']\n",
    "fig = go.Figure(go.Pie(labels=['Normal','Attack'],values=df_over.Status.value_counts(),name='Attack'))\n",
    "fig.update_traces(hole=.4, hoverinfo=\"label+percent\", textfont_size=16,marker={'colors':colors})\n",
    "fig.update_layout(height=400, width=400, title_text='<b style=\"color:#000000;\">Percentage of Target Variable</b>')\n",
    "fig.show()"
   ]
  },
  {
   "cell_type": "code",
   "execution_count": null,
   "metadata": {
    "id": "q9gsHowTa1FU"
   },
   "outputs": [],
   "source": [
    "df_over=df_over.drop(['LAST_POLL', 'VMID', 'UUID','dom'], axis=1)"
   ]
  },
  {
   "cell_type": "code",
   "execution_count": null,
   "metadata": {
    "colab": {
     "base_uri": "https://localhost:8080/",
     "height": 1000
    },
    "executionInfo": {
     "elapsed": 2455,
     "status": "ok",
     "timestamp": 1651542249974,
     "user": {
      "displayName": "Deepali Zutshi",
      "userId": "10480132198327682327"
     },
     "user_tz": 420
    },
    "id": "RTV4V_9YaZyb",
    "outputId": "4d3b3ca8-9481-4252-e0b1-3039a70f4699"
   },
   "outputs": [
    {
     "data": {
      "text/plain": [
       "Text(0.5, 1.0, 'Feature Correlation Heatmap')"
      ]
     },
     "execution_count": 26,
     "metadata": {},
     "output_type": "execute_result"
    },
    {
     "data": {
      "image/png": "[encoded data removed]",
      "text/plain": [
       "<Figure size 1800x900 with 2 Axes>"
      ]
     },
     "metadata": {
      "needs_background": "light"
     },
     "output_type": "display_data"
    }
   ],
   "source": [
    "plt.figure(figsize=(12,6), dpi = 150)\n",
    "sns.heatmap(round(df_over.drop(['rxerrors_slope', 'rxdrops_slope', 'txerrors_slope', 'txdrops_slope', 'memmax_slope',\n",
    "                     'mem_slope','cpus_slope','memactual_slope','memswap_in_slope', 'memswap_out_slope',\n",
    "                     'memmajor_fault_slope', 'memavailable_slope', 'memdisk_cache_slope','memhugetlb_pgalloc_slope',\n",
    "                     'memhugetlb_pgfail_slope', 'vdaerror_slope', 'hdawr_reqs_slope', 'hdawr_bytes_slope','hdaerror_slope' \n",
    "                     ] , axis=1).corr(), 2), linewidth=0.5,annot=True,fmt='.1g', cmap=\"viridis\")\n",
    "plt.title(\"Feature Correlation Heatmap\", fontsize = 12, pad =10, fontweight='bold')"
   ]
  },
  {
   "cell_type": "code",
   "execution_count": null,
   "metadata": {
    "id": "2EtbJPcMaw9Y"
   },
   "outputs": [],
   "source": [
    "#Splitting the Data\n",
    "X_oversampled = df_over.drop(['Status'], axis=1)\n",
    "scaled_X_over = scaler.fit_transform(X_oversampled)\n"
   ]
  },
  {
   "cell_type": "code",
   "execution_count": null,
   "metadata": {
    "id": "F6of8rKHbP7s"
   },
   "outputs": [],
   "source": [
    "y_oversampled = df_over['Status']\n",
    "y_oversampled = class_le.fit_transform(y_oversampled)"
   ]
  },
  {
   "cell_type": "code",
   "execution_count": null,
   "metadata": {
    "id": "C3K-2yTfcbl4"
   },
   "outputs": [],
   "source": [
    "#train test split\n",
    "X_train_over, X_test_over,y_train_over, y_test_over = train_test_split(scaled_X_over, y_oversampled, test_size=0.3, random_state =1)"
   ]
  },
  {
   "cell_type": "code",
   "execution_count": null,
   "metadata": {
    "id": "Ve-nloPIcywO"
   },
   "outputs": [],
   "source": [
    "#Decision Tree on Oversampled Data\n",
    "\n",
    "dtmodel_over = DecisionTreeClassifier().fit(X_train_over,y_train_over)\n",
    "y_pred_over_dt = dtmodel.predict(X_test_over)"
   ]
  },
  {
   "cell_type": "code",
   "execution_count": null,
   "metadata": {
    "colab": {
     "base_uri": "https://localhost:8080/",
     "height": 643
    },
    "executionInfo": {
     "elapsed": 1346,
     "status": "ok",
     "timestamp": 1651523226194,
     "user": {
      "displayName": "Deepali Zutshi",
      "userId": "10480132198327682327"
     },
     "user_tz": 420
    },
    "id": "enO4Q4zDdGna",
    "outputId": "a46b5efc-37e7-45bb-e3be-1a29f072b9e4"
   },
   "outputs": [
    {
     "data": {
      "text/plain": [
       "[Text(0.6, 0.9166666666666666, 'X[5] <= -0.152\\ngini = 0.5\\nsamples = 10203\\nvalue = [5116, 5087]'),\n",
       " Text(0.3333333333333333, 0.75, 'X[10] <= -0.309\\ngini = 0.002\\nsamples = 5089\\nvalue = [5085, 4]'),\n",
       " Text(0.13333333333333333, 0.5833333333333334, 'X[28] <= 2.044\\ngini = 0.001\\nsamples = 5068\\nvalue = [5066, 2]'),\n",
       " Text(0.06666666666666667, 0.4166666666666667, 'gini = 0.0\\nsamples = 4644\\nvalue = [4644, 0]'),\n",
       " Text(0.2, 0.4166666666666667, 'X[28] <= 2.07\\ngini = 0.009\\nsamples = 424\\nvalue = [422, 2]'),\n",
       " Text(0.13333333333333333, 0.25, 'X[15] <= 0.355\\ngini = 0.444\\nsamples = 6\\nvalue = [4, 2]'),\n",
       " Text(0.06666666666666667, 0.08333333333333333, 'gini = 0.0\\nsamples = 2\\nvalue = [0, 2]'),\n",
       " Text(0.2, 0.08333333333333333, 'gini = 0.0\\nsamples = 4\\nvalue = [4, 0]'),\n",
       " Text(0.26666666666666666, 0.25, 'gini = 0.0\\nsamples = 418\\nvalue = [418, 0]'),\n",
       " Text(0.5333333333333333, 0.5833333333333334, 'X[28] <= -2.643\\ngini = 0.172\\nsamples = 21\\nvalue = [19, 2]'),\n",
       " Text(0.4666666666666667, 0.4166666666666667, 'X[0] <= -0.694\\ngini = 0.444\\nsamples = 3\\nvalue = [1, 2]'),\n",
       " Text(0.4, 0.25, 'gini = 0.0\\nsamples = 1\\nvalue = [1, 0]'),\n",
       " Text(0.5333333333333333, 0.25, 'gini = 0.0\\nsamples = 2\\nvalue = [0, 2]'),\n",
       " Text(0.6, 0.4166666666666667, 'gini = 0.0\\nsamples = 18\\nvalue = [18, 0]'),\n",
       " Text(0.8666666666666667, 0.75, 'X[0] <= 1.569\\ngini = 0.012\\nsamples = 5114\\nvalue = [31, 5083]'),\n",
       " Text(0.8, 0.5833333333333334, 'X[5] <= 0.31\\ngini = 0.001\\nsamples = 5085\\nvalue = [2, 5083]'),\n",
       " Text(0.7333333333333333, 0.4166666666666667, 'X[32] <= 0.528\\ngini = 0.48\\nsamples = 5\\nvalue = [2, 3]'),\n",
       " Text(0.6666666666666666, 0.25, 'gini = 0.0\\nsamples = 3\\nvalue = [0, 3]'),\n",
       " Text(0.8, 0.25, 'gini = 0.0\\nsamples = 2\\nvalue = [2, 0]'),\n",
       " Text(0.8666666666666667, 0.4166666666666667, 'gini = 0.0\\nsamples = 5080\\nvalue = [0, 5080]'),\n",
       " Text(0.9333333333333333, 0.5833333333333334, 'gini = 0.0\\nsamples = 29\\nvalue = [29, 0]')]"
      ]
     },
     "execution_count": 80,
     "metadata": {},
     "output_type": "execute_result"
    },
    {
     "data": {
      "image/png": "[encoded data removed]",
      "text/plain": [
       "<Figure size 432x288 with 1 Axes>"
      ]
     },
     "metadata": {},
     "output_type": "display_data"
    }
   ],
   "source": [
    "tree.plot_tree(dtmodel_over)"
   ]
  },
  {
   "cell_type": "code",
   "execution_count": null,
   "metadata": {
    "id": "giVL47jtdIOl"
   },
   "outputs": [],
   "source": [
    "accuracy = accuracy_score(y_test_over,y_pred_over_dt)\n",
    "c_report = classification_report(y_pred_over_dt, y_test_over)\n",
    "c_matrix = confusion_matrix(y_test_over, y_pred_over_dt)"
   ]
  },
  {
   "cell_type": "code",
   "execution_count": null,
   "metadata": {
    "colab": {
     "base_uri": "https://localhost:8080/"
    },
    "executionInfo": {
     "elapsed": 216,
     "status": "ok",
     "timestamp": 1651523288279,
     "user": {
      "displayName": "Deepali Zutshi",
      "userId": "10480132198327682327"
     },
     "user_tz": 420
    },
    "id": "P1L8ubQadXMG",
    "outputId": "8dda4457-b4a7-468c-f82d-cb16fbb2a886"
   },
   "outputs": [
    {
     "name": "stdout",
     "output_type": "stream",
     "text": [
      "Classification report:\n",
      "Accuracy:  0.49759890235536247\n",
      "              precision    recall  f1-score   support\n",
      "\n",
      "           0       1.00      0.50      0.66      4369\n",
      "           1       0.00      1.00      0.00         4\n",
      "\n",
      "    accuracy                           0.50      4373\n",
      "   macro avg       0.50      0.75      0.33      4373\n",
      "weighted avg       1.00      0.50      0.66      4373\n",
      "\n",
      "Confusion matrix:\n",
      "[[2172    0]\n",
      " [2197    4]]\n"
     ]
    }
   ],
   "source": [
    "print(\"Classification report:\")\n",
    "print(\"Accuracy: \", accuracy)\n",
    "print(c_report)\n",
    "print(\"Confusion matrix:\")\n",
    "print(c_matrix)"
   ]
  },
  {
   "cell_type": "code",
   "execution_count": null,
   "metadata": {
    "colab": {
     "base_uri": "https://localhost:8080/",
     "height": 388
    },
    "executionInfo": {
     "elapsed": 908,
     "status": "ok",
     "timestamp": 1651523374329,
     "user": {
      "displayName": "Deepali Zutshi",
      "userId": "10480132198327682327"
     },
     "user_tz": 420
    },
    "id": "F5Yn-AgvdXp-",
    "outputId": "cac5f787-3009-4007-c340-9c65d1ed7208"
   },
   "outputs": [
    {
     "name": "stderr",
     "output_type": "stream",
     "text": [
      "/usr/local/lib/python3.7/dist-packages/sklearn/utils/deprecation.py:87: FutureWarning:\n",
      "\n",
      "Function plot_confusion_matrix is deprecated; Function `plot_confusion_matrix` is deprecated in 1.0 and will be removed in 1.2. Use one of the class methods: ConfusionMatrixDisplay.from_predictions or ConfusionMatrixDisplay.from_estimator.\n",
      "\n"
     ]
    },
    {
     "data": {
      "text/plain": [
       "<sklearn.metrics._plot.confusion_matrix.ConfusionMatrixDisplay at 0x7f6f1d927210>"
      ]
     },
     "execution_count": 84,
     "metadata": {},
     "output_type": "execute_result"
    },
    {
     "data": {
      "image/png": "[encoded data removed]",
      "text/plain": [
       "<Figure size 432x288 with 2 Axes>"
      ]
     },
     "metadata": {},
     "output_type": "display_data"
    }
   ],
   "source": [
    "plot_confusion_matrix(dtmodel_over,X_test_over,y_test_over)"
   ]
  },
  {
   "cell_type": "code",
   "execution_count": null,
   "metadata": {
    "colab": {
     "base_uri": "https://localhost:8080/",
     "height": 200
    },
    "executionInfo": {
     "elapsed": 362,
     "status": "error",
     "timestamp": 1651533563479,
     "user": {
      "displayName": "Shamama Afnan",
      "userId": "18119871591444313216"
     },
     "user_tz": 420
    },
    "id": "LAjT3aTbh-Kb",
    "outputId": "777019f2-4da8-47ee-f504-80056c2b0c72"
   },
   "outputs": [
    {
     "ename": "NameError",
     "evalue": "ignored",
     "output_type": "error",
     "traceback": [
      "\u001b[0;31m---------------------------------------------------------------------------\u001b[0m",
      "\u001b[0;31mNameError\u001b[0m                                 Traceback (most recent call last)",
      "\u001b[0;32m<ipython-input-90-a7cd5244cddb>\u001b[0m in \u001b[0;36m<module>\u001b[0;34m()\u001b[0m\n\u001b[1;32m      1\u001b[0m \u001b[0;31m#Naive Bayes after Balancing\u001b[0m\u001b[0;34m\u001b[0m\u001b[0;34m\u001b[0m\u001b[0;34m\u001b[0m\u001b[0m\n\u001b[1;32m      2\u001b[0m \u001b[0mbnb\u001b[0m\u001b[0;34m=\u001b[0m\u001b[0mBernoulliNB\u001b[0m\u001b[0;34m(\u001b[0m\u001b[0mclass_prior\u001b[0m\u001b[0;34m=\u001b[0m\u001b[0;34m[\u001b[0m\u001b[0;36m0.5\u001b[0m\u001b[0;34m,\u001b[0m\u001b[0;36m0.5\u001b[0m\u001b[0;34m]\u001b[0m\u001b[0;34m,\u001b[0m \u001b[0malpha\u001b[0m\u001b[0;34m=\u001b[0m\u001b[0;36m1\u001b[0m \u001b[0;34m)\u001b[0m\u001b[0;34m\u001b[0m\u001b[0;34m\u001b[0m\u001b[0m\n\u001b[0;32m----> 3\u001b[0;31m \u001b[0mbnb\u001b[0m\u001b[0;34m.\u001b[0m\u001b[0mfit\u001b[0m\u001b[0;34m(\u001b[0m\u001b[0mX_train_over\u001b[0m\u001b[0;34m,\u001b[0m \u001b[0my_train_over\u001b[0m\u001b[0;34m)\u001b[0m\u001b[0;34m\u001b[0m\u001b[0;34m\u001b[0m\u001b[0m\n\u001b[0m",
      "\u001b[0;31mNameError\u001b[0m: name 'X_train_over' is not defined"
     ]
    }
   ],
   "source": [
    "#Naive Bayes after Balancing\n",
    "bnb=BernoulliNB(class_prior=[0.5,0.5], alpha=1 )\n",
    "bnb.fit(X_train_over, y_train_over)"
   ]
  },
  {
   "cell_type": "code",
   "execution_count": null,
   "metadata": {
    "id": "v4Yfda2wh-M_"
   },
   "outputs": [],
   "source": []
  },
  {
   "cell_type": "code",
   "execution_count": null,
   "metadata": {
    "id": "CQ6ELDXyh-Pv"
   },
   "outputs": [],
   "source": [
    "# Poojitha\n"
   ]
  },
  {
   "cell_type": "code",
   "execution_count": null,
   "metadata": {
    "id": "ANJvXDSxXpm1"
   },
   "outputs": [],
   "source": [
    "from sklearn.preprocessing import StandardScaler"
   ]
  },
  {
   "cell_type": "code",
   "execution_count": null,
   "metadata": {
    "colab": {
     "base_uri": "https://localhost:8080/",
     "height": 182
    },
    "executionInfo": {
     "elapsed": 336,
     "status": "error",
     "timestamp": 1651521880864,
     "user": {
      "displayName": "Poojitha Katta",
      "userId": "04087814288591914137"
     },
     "user_tz": 300
    },
    "id": "RchyQ4nYXttt",
    "outputId": "987e659e-64f1-4b35-85df-3cf151699125"
   },
   "outputs": [
    {
     "ename": "NameError",
     "evalue": "ignored",
     "output_type": "error",
     "traceback": [
      "\u001b[0;31m---------------------------------------------------------------------------\u001b[0m",
      "\u001b[0;31mNameError\u001b[0m                                 Traceback (most recent call last)",
      "\u001b[0;32m<ipython-input-3-c15ab1b8fabc>\u001b[0m in \u001b[0;36m<module>\u001b[0;34m()\u001b[0m\n\u001b[1;32m      1\u001b[0m \u001b[0mscaler\u001b[0m \u001b[0;34m=\u001b[0m \u001b[0mStandardScaler\u001b[0m\u001b[0;34m(\u001b[0m\u001b[0;34m)\u001b[0m \u001b[0;31m#std=1 and mean=0\u001b[0m\u001b[0;34m\u001b[0m\u001b[0;34m\u001b[0m\u001b[0m\n\u001b[0;32m----> 2\u001b[0;31m \u001b[0mscaler\u001b[0m\u001b[0;34m.\u001b[0m\u001b[0mfit\u001b[0m\u001b[0;34m(\u001b[0m\u001b[0mforensics\u001b[0m\u001b[0;34m)\u001b[0m\u001b[0;34m\u001b[0m\u001b[0;34m\u001b[0m\u001b[0m\n\u001b[0m",
      "\u001b[0;31mNameError\u001b[0m: name 'forensics' is not defined"
     ]
    }
   ],
   "source": [
    "scaler = StandardScaler() #std=1 and mean=0\n",
    "scaler.fit(forensics)"
   ]
  },
  {
   "cell_type": "code",
   "execution_count": null,
   "metadata": {
    "colab": {
     "base_uri": "https://localhost:8080/",
     "height": 165
    },
    "executionInfo": {
     "elapsed": 278,
     "status": "error",
     "timestamp": 1651521883634,
     "user": {
      "displayName": "Poojitha Katta",
      "userId": "04087814288591914137"
     },
     "user_tz": 300
    },
    "id": "CNORqCp2XvNk",
    "outputId": "8d908544-c1ce-4917-ff56-2a09f886cae3"
   },
   "outputs": [
    {
     "ename": "NameError",
     "evalue": "ignored",
     "output_type": "error",
     "traceback": [
      "\u001b[0;31m---------------------------------------------------------------------------\u001b[0m",
      "\u001b[0;31mNameError\u001b[0m                                 Traceback (most recent call last)",
      "\u001b[0;32m<ipython-input-5-4d9c2df39eb3>\u001b[0m in \u001b[0;36m<module>\u001b[0;34m()\u001b[0m\n\u001b[0;32m----> 1\u001b[0;31m \u001b[0mscaled_data\u001b[0m \u001b[0;34m=\u001b[0m \u001b[0mscaler\u001b[0m\u001b[0;34m.\u001b[0m\u001b[0mtransform\u001b[0m\u001b[0;34m(\u001b[0m\u001b[0mforensics\u001b[0m\u001b[0;34m)\u001b[0m\u001b[0;34m\u001b[0m\u001b[0;34m\u001b[0m\u001b[0m\n\u001b[0m",
      "\u001b[0;31mNameError\u001b[0m: name 'forensics' is not defined"
     ]
    }
   ],
   "source": [
    "scaled_data = scaler.transform(forensics)"
   ]
  },
  {
   "cell_type": "code",
   "execution_count": null,
   "metadata": {
    "id": "S1qaB7VLXwr8"
   },
   "outputs": [],
   "source": [
    "scaled_data"
   ]
  },
  {
   "cell_type": "code",
   "execution_count": null,
   "metadata": {
    "id": "mreNV70QYGNm"
   },
   "outputs": [],
   "source": [
    "from sklearn.preprocessing import MinMaxScaler"
   ]
  },
  {
   "cell_type": "code",
   "execution_count": null,
   "metadata": {
    "id": "uoKd-JI4YGbV"
   },
   "outputs": [],
   "source": [
    "mmscaler = StandardScaler() #std=1 and mean=0\n",
    "mmscaler.fit(forensics)"
   ]
  },
  {
   "cell_type": "code",
   "execution_count": null,
   "metadata": {
    "id": "JoQPD59gYGop"
   },
   "outputs": [],
   "source": [
    "mmscaled_data = scaler.transform(forensics)\n",
    "mmscaled_data"
   ]
  },
  {
   "cell_type": "code",
   "execution_count": null,
   "metadata": {
    "id": "3x2Vx7JPYG1X"
   },
   "outputs": [],
   "source": [
    "from sklearn.decomposition import PCA"
   ]
  },
  {
   "cell_type": "code",
   "execution_count": null,
   "metadata": {
    "id": "VRmEqqpFYHAp"
   },
   "outputs": [],
   "source": [
    "pca = PCA(n_components = 2)"
   ]
  },
  {
   "cell_type": "code",
   "execution_count": null,
   "metadata": {
    "id": "L09l56Y2YR49"
   },
   "outputs": [],
   "source": [
    "pca.fit(scaled_data)"
   ]
  },
  {
   "cell_type": "code",
   "execution_count": null,
   "metadata": {
    "id": "wJ7vpVtnYSjQ"
   },
   "outputs": [],
   "source": [
    "pca_data = pca.transform(scaled_data)"
   ]
  },
  {
   "cell_type": "code",
   "execution_count": null,
   "metadata": {
    "id": "hUqDmAqqYS2T"
   },
   "outputs": [],
   "source": [
    "X = data1.iloc[:, :-1].values\n",
    "y = data1.iloc[:, 20].values"
   ]
  },
  {
   "cell_type": "code",
   "execution_count": null,
   "metadata": {
    "id": "uQTfOjtdYTCT"
   },
   "outputs": [],
   "source": [
    "from sklearn.model_selection import train_test_split\n",
    "X_train, X_test, y_train, y_test = train_test_split(X, y, test_size=0.20)"
   ]
  },
  {
   "cell_type": "code",
   "execution_count": null,
   "metadata": {
    "id": "NYrU4MyuYi7h"
   },
   "outputs": [],
   "source": [
    "from sklearn.preprocessing import StandardScaler\n",
    "scaler = StandardScaler()\n",
    "scaler.fit(X_train)\n",
    "\n",
    "X_train = scaler.transform(X_train)\n",
    "X_test = scaler.transform(X_test)"
   ]
  },
  {
   "cell_type": "code",
   "execution_count": null,
   "metadata": {
    "id": "OZuLw-5RYkUK"
   },
   "outputs": [],
   "source": [
    "from sklearn.neighbors import KNeighborsClassifier\n",
    "classifier = KNeighborsClassifier(n_neighbors=7)\n",
    "classifier.fit(X_train, y_train)"
   ]
  },
  {
   "cell_type": "code",
   "execution_count": null,
   "metadata": {
    "id": "2LmNR2bkYltD"
   },
   "outputs": [],
   "source": [
    "y_pred = classifier.predict(X_test)"
   ]
  },
  {
   "cell_type": "code",
   "execution_count": null,
   "metadata": {
    "id": "XuXOXiMhYnV_"
   },
   "outputs": [],
   "source": [
    "from sklearn.metrics import classification_report\n",
    "print(classification_report(y_test, y_pred))"
   ]
  },
  {
   "cell_type": "code",
   "execution_count": null,
   "metadata": {
    "id": "x82evlnkYowH"
   },
   "outputs": [],
   "source": [
    "error = []\n",
    "# Calculating the error rate for K-values between 1 and 30\n",
    "for i in range(1, 30):\n",
    "    knn = KNeighborsClassifier(n_neighbors=i)\n",
    "    knn.fit(X_train, y_train)\n",
    "    pred_i = knn.predict(X_test)\n",
    "    error.append(np.mean(pred_i != y_test))"
   ]
  },
  {
   "cell_type": "code",
   "execution_count": null,
   "metadata": {
    "id": "NhFfzogYYrAl"
   },
   "outputs": [],
   "source": [
    "plt.figure(figsize=(12, 5))\n",
    "plt.plot(range(1, 30), error, color='red', marker='o',\n",
    "        markerfacecolor='yellow', markersize=10)\n",
    "plt.title('Error Rate K Value')\n",
    "plt.xlabel('K Value')\n",
    "plt.ylabel('Mean Error')"
   ]
  },
  {
   "cell_type": "code",
   "execution_count": null,
   "metadata": {
    "id": "Q8WzbW6dYsj0"
   },
   "outputs": [],
   "source": [
    "from sklearn.linear_model import Ridge, Lasso\n",
    "from sklearn.model_selection import train_test_split, cross_val_score\n",
    "from statistics import mean"
   ]
  },
  {
   "cell_type": "code",
   "execution_count": null,
   "metadata": {
    "id": "oBxm2GI4YuhI"
   },
   "outputs": [],
   "source": [
    "# Dividing the data into training and testing set\n",
    "X_train, X_test, y_train, y_test = train_test_split(X, y, test_size = 0.25)"
   ]
  },
  {
   "cell_type": "code",
   "execution_count": null,
   "metadata": {
    "id": "yi3ACo7wYuto"
   },
   "outputs": [],
   "source": [
    "# List to maintain the different cross-validation scores\n",
    "cross_val_scores_ridge = []\n",
    " \n",
    "# List to maintain the different values of alpha\n",
    "alpha = []\n",
    " \n",
    "# Loop to compute the different values of cross-validation scores\n",
    "for i in range(1, 9):\n",
    "    ridgeModel = Ridge(alpha = i * 0.25)\n",
    "    ridgeModel.fit(X_train, y_train)\n",
    "    scores = cross_val_score(ridgeModel, X, y, cv = 10)\n",
    "    avg_cross_val_score = mean(scores)*100\n",
    "    cross_val_scores_ridge.append(avg_cross_val_score)\n",
    "    alpha.append(i * 0.25)\n",
    " \n",
    "# Loop to print the different values of cross-validation scores\n",
    "for i in range(0, len(alpha)):\n",
    "    print(str(alpha[i])+' : '+str(cross_val_scores_ridge[i]))"
   ]
  },
  {
   "cell_type": "code",
   "execution_count": null,
   "metadata": {
    "id": "1Iaup4PMYu5Y"
   },
   "outputs": [],
   "source": [
    "# Building and fitting the Ridge Regression model\n",
    "ridgeModelChosen = Ridge(alpha = 2)\n",
    "ridgeModelChosen.fit(X_train, y_train)\n",
    " \n",
    "# Evaluating the Ridge Regression model\n",
    "print(ridgeModelChosen.score(X_test, y_test))"
   ]
  },
  {
   "cell_type": "code",
   "execution_count": null,
   "metadata": {
    "id": "X2aafreTYvEt"
   },
   "outputs": [],
   "source": [
    "# List to maintain the cross-validation scores\n",
    "cross_val_scores_lasso = []\n",
    " \n",
    "# List to maintain the different values of Lambda\n",
    "Lambda = []\n",
    " \n",
    "# Loop to compute the cross-validation scores\n",
    "for i in range(1, 9):\n",
    "    lassoModel = Lasso(alpha = i * 0.25, tol = 0.0925)\n",
    "    lassoModel.fit(X_train, y_train)\n",
    "    scores = cross_val_score(lassoModel, X, y, cv = 10)\n",
    "    avg_cross_val_score = mean(scores)*100\n",
    "    cross_val_scores_lasso.append(avg_cross_val_score)\n",
    "    Lambda.append(i * 0.25)\n",
    " \n",
    "# Loop to print the different values of cross-validation scores\n",
    "for i in range(0, len(alpha)):\n",
    "    print(str(alpha[i])+' : '+str(cross_val_scores_lasso[i]))"
   ]
  },
  {
   "cell_type": "code",
   "execution_count": null,
   "metadata": {
    "id": "SVotEnBWYvP8"
   },
   "outputs": [],
   "source": [
    "# Building and fitting the Lasso Regression Model\n",
    "lassoModelChosen = Lasso(alpha = 2, tol = 0.0925)\n",
    "lassoModelChosen.fit(X_train, y_train)\n",
    " \n",
    "# Evaluating the Lasso Regression model\n",
    "print(lassoModelChosen.score(X_test, y_test))"
   ]
  },
  {
   "cell_type": "code",
   "execution_count": null,
   "metadata": {
    "id": "9t2mV8feY3MA"
   },
   "outputs": [],
   "source": [
    "# Building the two lists for visualization\n",
    "models = ['Ridge Regression', 'Lasso Regression']\n",
    "scores = [ridgeModelChosen.score(X_test, y_test),\n",
    "         lassoModelChosen.score(X_test, y_test)]\n",
    " \n",
    "# Building the dictionary to compare the scores\n",
    "mapping = {}\n",
    "mapping['Ridge Regression'] = ridgeModelChosen.score(X_test, y_test)\n",
    "mapping['Lasso Regression'] = lassoModelChosen.score(X_test, y_test)\n",
    " \n",
    "# Printing the scores for different models\n",
    "for key, val in mapping.items():\n",
    "    print(str(key)+' : '+str(val))"
   ]
  },
  {
   "cell_type": "code",
   "execution_count": null,
   "metadata": {
    "id": "dDEFpIOvY3XR"
   },
   "outputs": [],
   "source": [
    "X = pca_data\n",
    "y = data1.iloc[:, 20].values"
   ]
  },
  {
   "cell_type": "code",
   "execution_count": null,
   "metadata": {
    "id": "aIBDz7BkY7iC"
   },
   "outputs": [],
   "source": [
    "from sklearn.model_selection import train_test_split\n",
    "X_train, X_test, y_train, y_test = train_test_split(X, y, test_size=0.20)"
   ]
  },
  {
   "cell_type": "code",
   "execution_count": null,
   "metadata": {
    "id": "2rp7gmgxY7tQ"
   },
   "outputs": [],
   "source": [
    "from sklearn.preprocessing import StandardScaler\n",
    "scaler = StandardScaler()\n",
    "scaler.fit(X_train)\n",
    "\n",
    "X_train = scaler.transform(X_train)\n",
    "X_test = scaler.transform(X_test)"
   ]
  },
  {
   "cell_type": "code",
   "execution_count": null,
   "metadata": {
    "id": "VMSBY4tBY74G"
   },
   "outputs": [],
   "source": [
    "from sklearn.neighbors import KNeighborsClassifier\n",
    "classifier = KNeighborsClassifier(n_neighbors=7)\n",
    "classifier.fit(X_train, y_train)"
   ]
  },
  {
   "cell_type": "code",
   "execution_count": null,
   "metadata": {
    "id": "rye_8GN8Y8DT"
   },
   "outputs": [],
   "source": [
    "y_pred = classifier.predict(X_test)"
   ]
  },
  {
   "cell_type": "code",
   "execution_count": null,
   "metadata": {
    "id": "oZUR15eDZDjk"
   },
   "outputs": [],
   "source": [
    "from sklearn.metrics import classification_report\n",
    "print(classification_report(y_test, y_pred))"
   ]
  },
  {
   "cell_type": "code",
   "execution_count": null,
   "metadata": {
    "colab": {
     "base_uri": "https://localhost:8080/",
     "height": 186
    },
    "executionInfo": {
     "elapsed": 183,
     "status": "error",
     "timestamp": 1651538427618,
     "user": {
      "displayName": "Purnima Bhukya",
      "userId": "16378433082105530528"
     },
     "user_tz": 420
    },
    "id": "kFEnsWfrXHMr",
    "outputId": "8ff4ca97-62fd-4bcb-fe82-b8e9abb24d44"
   },
   "outputs": [
    {
     "ename": "NameError",
     "evalue": "ignored",
     "output_type": "error",
     "traceback": [
      "\u001b[0;31m---------------------------------------------------------------------------\u001b[0m",
      "\u001b[0;31mNameError\u001b[0m                                 Traceback (most recent call last)",
      "\u001b[0;32m<ipython-input-4-30edc4e5581e>\u001b[0m in \u001b[0;36m<module>\u001b[0;34m()\u001b[0m\n\u001b[1;32m      1\u001b[0m \u001b[0;32mfrom\u001b[0m \u001b[0msklearn\u001b[0m\u001b[0;34m.\u001b[0m\u001b[0mmodel_selection\u001b[0m \u001b[0;32mimport\u001b[0m \u001b[0mtrain_test_split\u001b[0m\u001b[0;34m\u001b[0m\u001b[0;34m\u001b[0m\u001b[0m\n\u001b[0;32m----> 2\u001b[0;31m \u001b[0mX_train\u001b[0m\u001b[0;34m,\u001b[0m \u001b[0mX_test\u001b[0m\u001b[0;34m,\u001b[0m \u001b[0my_train\u001b[0m\u001b[0;34m,\u001b[0m \u001b[0my_test\u001b[0m \u001b[0;34m=\u001b[0m \u001b[0mtrain_test_split\u001b[0m\u001b[0;34m(\u001b[0m\u001b[0mX\u001b[0m\u001b[0;34m,\u001b[0m \u001b[0my\u001b[0m\u001b[0;34m,\u001b[0m \u001b[0mtest_size\u001b[0m\u001b[0;34m=\u001b[0m\u001b[0;36m0.20\u001b[0m\u001b[0;34m)\u001b[0m\u001b[0;34m\u001b[0m\u001b[0;34m\u001b[0m\u001b[0m\n\u001b[0m",
      "\u001b[0;31mNameError\u001b[0m: name 'X' is not defined"
     ]
    }
   ],
   "source": [
    "from sklearn.model_selection import train_test_split\n",
    "X_train, X_test, y_train, y_test = train_test_split(X, y, test_size=0.20)"
   ]
  },
  {
   "cell_type": "code",
   "execution_count": null,
   "metadata": {
    "id": "qygIS_rK30nK"
   },
   "outputs": [],
   "source": [
    "from sklearn.metrics import accuracy_score,confusion_matrix,\\\n",
    " classification_report\n",
    "from sklearn import tree\n",
    "from sklearn.ensemble import RandomForestClassifier"
   ]
  },
  {
   "cell_type": "code",
   "execution_count": null,
   "metadata": {
    "colab": {
     "base_uri": "https://localhost:8080/",
     "height": 222
    },
    "executionInfo": {
     "elapsed": 152,
     "status": "error",
     "timestamp": 1651538409645,
     "user": {
      "displayName": "Purnima Bhukya",
      "userId": "16378433082105530528"
     },
     "user_tz": 420
    },
    "id": "-8H-UEnjXAbB",
    "outputId": "66f2e11d-ba79-4c5e-97c4-835900f9259a"
   },
   "outputs": [
    {
     "ename": "NameError",
     "evalue": "ignored",
     "output_type": "error",
     "traceback": [
      "\u001b[0;31m---------------------------------------------------------------------------\u001b[0m",
      "\u001b[0;31mNameError\u001b[0m                                 Traceback (most recent call last)",
      "\u001b[0;32m<ipython-input-3-416d3a29faa3>\u001b[0m in \u001b[0;36m<module>\u001b[0;34m()\u001b[0m\n\u001b[0;32m----> 1\u001b[0;31m \u001b[0mdtmodel\u001b[0m \u001b[0;34m=\u001b[0m \u001b[0mRandomForestClassifier\u001b[0m\u001b[0;34m(\u001b[0m\u001b[0;34m)\u001b[0m\u001b[0;34m.\u001b[0m\u001b[0mfit\u001b[0m\u001b[0;34m(\u001b[0m\u001b[0mX_train\u001b[0m\u001b[0;34m,\u001b[0m\u001b[0my_train\u001b[0m\u001b[0;34m)\u001b[0m\u001b[0;34m\u001b[0m\u001b[0;34m\u001b[0m\u001b[0m\n\u001b[0m\u001b[1;32m      2\u001b[0m \u001b[0mprint\u001b[0m\u001b[0;34m(\u001b[0m\u001b[0mdtmodel\u001b[0m\u001b[0;34m)\u001b[0m\u001b[0;34m\u001b[0m\u001b[0;34m\u001b[0m\u001b[0m\n\u001b[1;32m      3\u001b[0m \u001b[0my_pred_rf\u001b[0m \u001b[0;34m=\u001b[0m \u001b[0mdtmodel\u001b[0m\u001b[0;34m.\u001b[0m\u001b[0mpredict\u001b[0m\u001b[0;34m(\u001b[0m\u001b[0mX_test\u001b[0m\u001b[0;34m)\u001b[0m\u001b[0;34m\u001b[0m\u001b[0;34m\u001b[0m\u001b[0m\n\u001b[1;32m      4\u001b[0m \u001b[0my_pred_rf\u001b[0m\u001b[0;34m\u001b[0m\u001b[0;34m\u001b[0m\u001b[0m\n",
      "\u001b[0;31mNameError\u001b[0m: name 'X_train' is not defined"
     ]
    }
   ],
   "source": [
    "dtmodel = RandomForestClassifier().fit(X_train,y_train)\n",
    "print(dtmodel)\n",
    "y_pred_rf = dtmodel.predict(X_test)\n",
    "y_pred_rf"
   ]
  },
  {
   "cell_type": "markdown",
   "metadata": {
    "id": "UhKUku9BeBqd"
   },
   "source": [
    "# Xgboost"
   ]
  },
  {
   "cell_type": "code",
   "execution_count": null,
   "metadata": {
    "id": "AilRBeKTY3Sv"
   },
   "outputs": [],
   "source": [
    "import pandas as pd\n",
    "\n",
    "X_train_xgb = pd.DataFrame(X_train, columns = X.columns)\n",
    "X_test_xgb = pd.DataFrame(X_test, columns = X.columns)"
   ]
  },
  {
   "cell_type": "code",
   "execution_count": null,
   "metadata": {
    "id": "87jhaySmY6WZ"
   },
   "outputs": [],
   "source": [
    "import xgboost as xgb\n",
    "from sklearn.metrics import accuracy_score\n",
    "from sklearn.metrics import confusion_matrix\n",
    "\n",
    "\n",
    "xgb_cl = xgb.XGBClassifier()\n",
    "\n",
    "# Init classifier\n",
    "\n",
    "# Fit\n",
    "xgb_cl = xgb_cl.fit(X_train_xgb, y_train)\n",
    "\n",
    "# Predict\n",
    "xgb_preds = xgb_cl.predict(X_test_xgb)"
   ]
  },
  {
   "cell_type": "code",
   "execution_count": null,
   "metadata": {
    "colab": {
     "base_uri": "https://localhost:8080/",
     "height": 258
    },
    "executionInfo": {
     "elapsed": 863,
     "status": "ok",
     "timestamp": 1651539075985,
     "user": {
      "displayName": "Yasaman Emami",
      "userId": "05192731671250472608"
     },
     "user_tz": 420
    },
    "id": "3yfniQnKY82W",
    "outputId": "d9a25006-a403-4edf-ea2a-ac7fae83d633"
   },
   "outputs": [
    {
     "data": {
      "image/png": "[encoded data removed]",
      "text/plain": [
       "<Figure size 1440x216 with 1 Axes>"
      ]
     },
     "metadata": {
      "needs_background": "light"
     },
     "output_type": "display_data"
    },
    {
     "data": {
      "text/plain": [
       "<Figure size 720x360 with 0 Axes>"
      ]
     },
     "metadata": {},
     "output_type": "display_data"
    }
   ],
   "source": [
    "from xgboost import plot_importance\n",
    "import matplotlib.pyplot as plt\n",
    "\n",
    "plot_importance(xgb_cl)\n",
    "plt.figure(figsize=(10,5))\n",
    "plt.show()"
   ]
  },
  {
   "cell_type": "code",
   "execution_count": null,
   "metadata": {
    "colab": {
     "base_uri": "https://localhost:8080/"
    },
    "executionInfo": {
     "elapsed": 113,
     "status": "ok",
     "timestamp": 1651539092891,
     "user": {
      "displayName": "Yasaman Emami",
      "userId": "05192731671250472608"
     },
     "user_tz": 420
    },
    "id": "t2NY1L4hY_Tw",
    "outputId": "87a04efb-3928-43e0-85e3-2a6377701198"
   },
   "outputs": [
    {
     "data": {
      "text/plain": [
       "array([[ 685,    3],\n",
       "       [   0, 2191]])"
      ]
     },
     "execution_count": 55,
     "metadata": {},
     "output_type": "execute_result"
    }
   ],
   "source": [
    "from sklearn.metrics import confusion_matrix\n",
    "confusion_matrix(y_test, xgb_preds)"
   ]
  },
  {
   "cell_type": "code",
   "execution_count": null,
   "metadata": {
    "colab": {
     "base_uri": "https://localhost:8080/",
     "height": 280
    },
    "executionInfo": {
     "elapsed": 339,
     "status": "ok",
     "timestamp": 1651539103381,
     "user": {
      "displayName": "Yasaman Emami",
      "userId": "05192731671250472608"
     },
     "user_tz": 420
    },
    "id": "OBfqS-p3ZqQA",
    "outputId": "19dc3208-94ec-4dc3-91eb-9b5523dec15e"
   },
   "outputs": [
    {
     "name": "stderr",
     "output_type": "stream",
     "text": [
      "/usr/local/lib/python3.7/dist-packages/sklearn/utils/deprecation.py:87: FutureWarning: Function plot_confusion_matrix is deprecated; Function `plot_confusion_matrix` is deprecated in 1.0 and will be removed in 1.2. Use one of the class methods: ConfusionMatrixDisplay.from_predictions or ConfusionMatrixDisplay.from_estimator.\n",
      "  warnings.warn(msg, category=FutureWarning)\n"
     ]
    },
    {
     "data": {
      "image/png": "[encoded data removed]",
      "text/plain": [
       "<Figure size 1440x216 with 2 Axes>"
      ]
     },
     "metadata": {
      "needs_background": "light"
     },
     "output_type": "display_data"
    }
   ],
   "source": [
    "from sklearn.metrics import plot_confusion_matrix\n",
    "\n",
    "plot_confusion_matrix(xgb_cl,X_test_xgb,y_test)\n",
    "plt.show()"
   ]
  },
  {
   "cell_type": "code",
   "execution_count": null,
   "metadata": {
    "id": "Po0BBrosZswh"
   },
   "outputs": [],
   "source": [
    "from sklearn.model_selection import GridSearchCV\n",
    "\n",
    "param_grid = {\n",
    "    \"max_depth\": [3, 4, 5, 7],\n",
    "    \"learning_rate\": [0.1, 0.01, 0.05],\n",
    "    \"gamma\": [0, 0.25, 1],\n",
    "    \"reg_lambda\": [0, 1, 10],\n",
    "    \"scale_pos_weight\": [1, 3, 5],\n",
    "    \"subsample\": [0.8],\n",
    "    \"colsample_bytree\": [0.5],\n",
    "}\n",
    "# Init classifier\n",
    "xgb_cl = xgb.XGBClassifier(objective=\"binary:logistic\")\n",
    "\n",
    "# Init Grid Search\n",
    "grid_cv = GridSearchCV(xgb_cl, param_grid, n_jobs=-1, cv=3, scoring=\"roc_auc\")\n",
    "\n",
    "# Fit\n",
    "_ = grid_cv.fit(X_train_xgb, y_train)"
   ]
  },
  {
   "cell_type": "code",
   "execution_count": null,
   "metadata": {
    "colab": {
     "base_uri": "https://localhost:8080/"
    },
    "executionInfo": {
     "elapsed": 15,
     "status": "ok",
     "timestamp": 1651539507144,
     "user": {
      "displayName": "Yasaman Emami",
      "userId": "05192731671250472608"
     },
     "user_tz": 420
    },
    "id": "xNKQfawmZzMK",
    "outputId": "4b33fc15-72bc-4226-a0f2-7b2d425e9787"
   },
   "outputs": [
    {
     "data": {
      "text/plain": [
       "{'colsample_bytree': 0.5,\n",
       " 'gamma': 0,\n",
       " 'learning_rate': 0.1,\n",
       " 'max_depth': 7,\n",
       " 'reg_lambda': 0,\n",
       " 'scale_pos_weight': 1,\n",
       " 'subsample': 0.8}"
      ]
     },
     "execution_count": 58,
     "metadata": {},
     "output_type": "execute_result"
    }
   ],
   "source": [
    "grid_cv.best_params_"
   ]
  },
  {
   "cell_type": "code",
   "execution_count": null,
   "metadata": {
    "colab": {
     "base_uri": "https://localhost:8080/"
    },
    "executionInfo": {
     "elapsed": 10,
     "status": "ok",
     "timestamp": 1651539507145,
     "user": {
      "displayName": "Yasaman Emami",
      "userId": "05192731671250472608"
     },
     "user_tz": 420
    },
    "id": "DCsuaBpkZ4-N",
    "outputId": "65b1ed48-4c25-437e-ea03-cbb954938926"
   },
   "outputs": [
    {
     "name": "stdout",
     "output_type": "stream",
     "text": [
      "Classification Report\n",
      "              precision    recall  f1-score   support\n",
      "\n",
      "           0     1.0000    0.9956    0.9978       688\n",
      "           1     0.9986    1.0000    0.9993      2191\n",
      "\n",
      "    accuracy                         0.9990      2879\n",
      "   macro avg     0.9993    0.9978    0.9986      2879\n",
      "weighted avg     0.9990    0.9990    0.9990      2879\n",
      "\n"
     ]
    }
   ],
   "source": [
    "print('Classification Report')\n",
    "print(classification_report(y_test, xgb_preds, digits=4))"
   ]
  },
  {
   "cell_type": "markdown",
   "metadata": {
    "id": "xuFguoqkeM3O"
   },
   "source": [
    "# Logistic Regression"
   ]
  },
  {
   "cell_type": "code",
   "execution_count": null,
   "metadata": {
    "id": "HyXt0ypCZ-Wt"
   },
   "outputs": [],
   "source": [
    "from sklearn.linear_model import LogisticRegression\n",
    "\n",
    "clf = LogisticRegression(random_state=0).fit(X_train, y_train)\n",
    "preds_LR = clf.predict(X_test)"
   ]
  },
  {
   "cell_type": "code",
   "execution_count": null,
   "metadata": {
    "colab": {
     "base_uri": "https://localhost:8080/"
    },
    "executionInfo": {
     "elapsed": 7,
     "status": "ok",
     "timestamp": 1651539507315,
     "user": {
      "displayName": "Yasaman Emami",
      "userId": "05192731671250472608"
     },
     "user_tz": 420
    },
    "id": "b3obEvWvaAM9",
    "outputId": "35f02d14-423e-4b68-b1ff-6d2ea93bce4f"
   },
   "outputs": [
    {
     "name": "stdout",
     "output_type": "stream",
     "text": [
      "Classification Report\n",
      "              precision    recall  f1-score   support\n",
      "\n",
      "           0     0.9956    0.9971    0.9964       688\n",
      "           1     0.9991    0.9986    0.9989      2191\n",
      "\n",
      "    accuracy                         0.9983      2879\n",
      "   macro avg     0.9974    0.9979    0.9976      2879\n",
      "weighted avg     0.9983    0.9983    0.9983      2879\n",
      "\n"
     ]
    }
   ],
   "source": [
    "from sklearn.metrics import precision_score\n",
    "print('Classification Report')\n",
    "print(classification_report(y_test, preds_LR, digits=4))"
   ]
  },
  {
   "cell_type": "code",
   "execution_count": null,
   "metadata": {
    "colab": {
     "base_uri": "https://localhost:8080/",
     "height": 280
    },
    "executionInfo": {
     "elapsed": 337,
     "status": "ok",
     "timestamp": 1651539507650,
     "user": {
      "displayName": "Yasaman Emami",
      "userId": "05192731671250472608"
     },
     "user_tz": 420
    },
    "id": "mkOAp925aBxW",
    "outputId": "ac24d85f-6730-45ca-c48e-039521282472"
   },
   "outputs": [
    {
     "name": "stderr",
     "output_type": "stream",
     "text": [
      "/usr/local/lib/python3.7/dist-packages/sklearn/utils/deprecation.py:87: FutureWarning: Function plot_confusion_matrix is deprecated; Function `plot_confusion_matrix` is deprecated in 1.0 and will be removed in 1.2. Use one of the class methods: ConfusionMatrixDisplay.from_predictions or ConfusionMatrixDisplay.from_estimator.\n",
      "  warnings.warn(msg, category=FutureWarning)\n"
     ]
    },
    {
     "data": {
      "image/png": "[encoded data removed]",
      "text/plain": [
       "<Figure size 1440x216 with 2 Axes>"
      ]
     },
     "metadata": {
      "needs_background": "light"
     },
     "output_type": "display_data"
    }
   ],
   "source": [
    "plot_confusion_matrix(clf,X_test,y_test)\n",
    "plt.show()"
   ]
  },
  {
   "cell_type": "code",
   "execution_count": null,
   "metadata": {
    "id": "3ygZam0SaDpd"
   },
   "outputs": [],
   "source": []
  },
  {
   "cell_type": "code",
   "execution_count": null,
   "metadata": {
    "id": "wOSovki9cztq"
   },
   "outputs": [],
   "source": []
  }
 ],
 "metadata": {
  "colab": {
   "collapsed_sections": [],
   "name": "CloudForensics.ipynb",
   "provenance": []
  },
  "kernelspec": {
   "display_name": "Python 3 (ipykernel)",
   "language": "python",
   "name": "python3"
  },
  "language_info": {
   "codemirror_mode": {
    "name": "ipython",
    "version": 3
   },
   "file_extension": ".py",
   "mimetype": "text/x-python",
   "name": "python",
   "nbconvert_exporter": "python",
   "pygments_lexer": "ipython3",
   "version": "3.9.7"
  }
 },
 "nbformat": 4,
 "nbformat_minor": 1
}
